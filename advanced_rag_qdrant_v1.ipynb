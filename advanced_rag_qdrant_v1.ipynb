{
  "cells": [
    {
      "cell_type": "markdown",
      "metadata": {
        "id": "rVCY5xIgZwe9"
      },
      "source": [
        "# Advanced RAG with LlamaParse\n",
        "\n",
        "<a href=\"https://colab.research.google.com/github/run-llama/llama_parse/blob/main/examples/demo_advanced.ipynb\" target=\"_parent\"><img src=\"https://colab.research.google.com/assets/colab-badge.svg\" alt=\"Open In Colab\"/></a>\n",
        "\n",
        "This notebook is a complete walkthrough for using LlamaParse with advanced indexing/retrieval techniques in LlamaIndex over the Apple 10K Filing.\n",
        "\n",
        "This allows us to ask sophisticated questions that aren't possible with \"naive\" parsing/indexing techniques with existing models.\n",
        "\n",
        "Note for this example, we are using the `llama_index >=0.10.4` version"
      ]
    },
    {
      "cell_type": "markdown",
      "source": [
        "## Iteration 2 without llamaParse nor langgraph ==> Qdrant instead (goal: reduce latency)\n"
      ],
      "metadata": {
        "id": "CQEUVKMdiMvj"
      }
    },
    {
      "cell_type": "code",
      "source": [
        "!pip install ipython-autotime\n",
        "%load_ext autotime"
      ],
      "metadata": {
        "colab": {
          "base_uri": "https://localhost:8080/"
        },
        "id": "qO6f0FXgsmL5",
        "outputId": "bf6c35d2-7986-428f-ae94-d8d4c6e6b9f2",
        "collapsed": true
      },
      "execution_count": 105,
      "outputs": [
        {
          "output_type": "stream",
          "name": "stdout",
          "text": [
            "Requirement already satisfied: ipython-autotime in /usr/local/lib/python3.10/dist-packages (0.3.2)\n",
            "Requirement already satisfied: ipython in /usr/local/lib/python3.10/dist-packages (from ipython-autotime) (7.34.0)\n",
            "Requirement already satisfied: setuptools>=18.5 in /usr/local/lib/python3.10/dist-packages (from ipython->ipython-autotime) (71.0.4)\n",
            "Requirement already satisfied: jedi>=0.16 in /usr/local/lib/python3.10/dist-packages (from ipython->ipython-autotime) (0.19.1)\n",
            "Requirement already satisfied: decorator in /usr/local/lib/python3.10/dist-packages (from ipython->ipython-autotime) (4.4.2)\n",
            "Requirement already satisfied: pickleshare in /usr/local/lib/python3.10/dist-packages (from ipython->ipython-autotime) (0.7.5)\n",
            "Requirement already satisfied: traitlets>=4.2 in /usr/local/lib/python3.10/dist-packages (from ipython->ipython-autotime) (5.7.1)\n",
            "Requirement already satisfied: prompt-toolkit!=3.0.0,!=3.0.1,<3.1.0,>=2.0.0 in /usr/local/lib/python3.10/dist-packages (from ipython->ipython-autotime) (3.0.48)\n",
            "Requirement already satisfied: pygments in /usr/local/lib/python3.10/dist-packages (from ipython->ipython-autotime) (2.18.0)\n",
            "Requirement already satisfied: backcall in /usr/local/lib/python3.10/dist-packages (from ipython->ipython-autotime) (0.2.0)\n",
            "Requirement already satisfied: matplotlib-inline in /usr/local/lib/python3.10/dist-packages (from ipython->ipython-autotime) (0.1.7)\n",
            "Requirement already satisfied: pexpect>4.3 in /usr/local/lib/python3.10/dist-packages (from ipython->ipython-autotime) (4.9.0)\n",
            "Requirement already satisfied: parso<0.9.0,>=0.8.3 in /usr/local/lib/python3.10/dist-packages (from jedi>=0.16->ipython->ipython-autotime) (0.8.4)\n",
            "Requirement already satisfied: ptyprocess>=0.5 in /usr/local/lib/python3.10/dist-packages (from pexpect>4.3->ipython->ipython-autotime) (0.7.0)\n",
            "Requirement already satisfied: wcwidth in /usr/local/lib/python3.10/dist-packages (from prompt-toolkit!=3.0.0,!=3.0.1,<3.1.0,>=2.0.0->ipython->ipython-autotime) (0.2.13)\n",
            "The autotime extension is already loaded. To reload it, use:\n",
            "  %reload_ext autotime\n",
            "time: 3.23 s (started: 2024-10-11 16:00:14 +00:00)\n"
          ]
        }
      ]
    },
    {
      "cell_type": "code",
      "execution_count": 106,
      "metadata": {
        "colab": {
          "base_uri": "https://localhost:8080/"
        },
        "id": "nXFUDiCrZwfA",
        "outputId": "99380765-1629-41e0-f82d-7699de1c281b",
        "collapsed": true
      },
      "outputs": [
        {
          "output_type": "stream",
          "name": "stdout",
          "text": [
            "Requirement already satisfied: llama-index in /usr/local/lib/python3.10/dist-packages (0.11.17)\n",
            "Requirement already satisfied: llama-index-agent-openai<0.4.0,>=0.3.4 in /usr/local/lib/python3.10/dist-packages (from llama-index) (0.3.4)\n",
            "Requirement already satisfied: llama-index-cli<0.4.0,>=0.3.1 in /usr/local/lib/python3.10/dist-packages (from llama-index) (0.3.1)\n",
            "Requirement already satisfied: llama-index-core<0.12.0,>=0.11.17 in /usr/local/lib/python3.10/dist-packages (from llama-index) (0.11.17)\n",
            "Requirement already satisfied: llama-index-embeddings-openai<0.3.0,>=0.2.4 in /usr/local/lib/python3.10/dist-packages (from llama-index) (0.2.5)\n",
            "Requirement already satisfied: llama-index-indices-managed-llama-cloud>=0.3.0 in /usr/local/lib/python3.10/dist-packages (from llama-index) (0.4.0)\n",
            "Requirement already satisfied: llama-index-legacy<0.10.0,>=0.9.48 in /usr/local/lib/python3.10/dist-packages (from llama-index) (0.9.48.post3)\n",
            "Requirement already satisfied: llama-index-llms-openai<0.3.0,>=0.2.10 in /usr/local/lib/python3.10/dist-packages (from llama-index) (0.2.13)\n",
            "Requirement already satisfied: llama-index-multi-modal-llms-openai<0.3.0,>=0.2.0 in /usr/local/lib/python3.10/dist-packages (from llama-index) (0.2.2)\n",
            "Requirement already satisfied: llama-index-program-openai<0.3.0,>=0.2.0 in /usr/local/lib/python3.10/dist-packages (from llama-index) (0.2.0)\n",
            "Requirement already satisfied: llama-index-question-gen-openai<0.3.0,>=0.2.0 in /usr/local/lib/python3.10/dist-packages (from llama-index) (0.2.0)\n",
            "Requirement already satisfied: llama-index-readers-file<0.3.0,>=0.2.0 in /usr/local/lib/python3.10/dist-packages (from llama-index) (0.2.2)\n",
            "Requirement already satisfied: llama-index-readers-llama-parse>=0.3.0 in /usr/local/lib/python3.10/dist-packages (from llama-index) (0.3.0)\n",
            "Requirement already satisfied: nltk>3.8.1 in /usr/local/lib/python3.10/dist-packages (from llama-index) (3.9.1)\n",
            "Requirement already satisfied: openai>=1.14.0 in /usr/local/lib/python3.10/dist-packages (from llama-index-agent-openai<0.4.0,>=0.3.4->llama-index) (1.51.2)\n",
            "Requirement already satisfied: PyYAML>=6.0.1 in /usr/local/lib/python3.10/dist-packages (from llama-index-core<0.12.0,>=0.11.17->llama-index) (6.0.2)\n",
            "Requirement already satisfied: SQLAlchemy>=1.4.49 in /usr/local/lib/python3.10/dist-packages (from SQLAlchemy[asyncio]>=1.4.49->llama-index-core<0.12.0,>=0.11.17->llama-index) (2.0.35)\n",
            "Requirement already satisfied: aiohttp<4.0.0,>=3.8.6 in /usr/local/lib/python3.10/dist-packages (from llama-index-core<0.12.0,>=0.11.17->llama-index) (3.10.9)\n",
            "Requirement already satisfied: dataclasses-json in /usr/local/lib/python3.10/dist-packages (from llama-index-core<0.12.0,>=0.11.17->llama-index) (0.6.7)\n",
            "Requirement already satisfied: deprecated>=1.2.9.3 in /usr/local/lib/python3.10/dist-packages (from llama-index-core<0.12.0,>=0.11.17->llama-index) (1.2.14)\n",
            "Requirement already satisfied: dirtyjson<2.0.0,>=1.0.8 in /usr/local/lib/python3.10/dist-packages (from llama-index-core<0.12.0,>=0.11.17->llama-index) (1.0.8)\n",
            "Requirement already satisfied: fsspec>=2023.5.0 in /usr/local/lib/python3.10/dist-packages (from llama-index-core<0.12.0,>=0.11.17->llama-index) (2024.6.1)\n",
            "Requirement already satisfied: httpx in /usr/local/lib/python3.10/dist-packages (from llama-index-core<0.12.0,>=0.11.17->llama-index) (0.27.2)\n",
            "Requirement already satisfied: nest-asyncio<2.0.0,>=1.5.8 in /usr/local/lib/python3.10/dist-packages (from llama-index-core<0.12.0,>=0.11.17->llama-index) (1.6.0)\n",
            "Requirement already satisfied: networkx>=3.0 in /usr/local/lib/python3.10/dist-packages (from llama-index-core<0.12.0,>=0.11.17->llama-index) (3.3)\n",
            "Requirement already satisfied: numpy<2.0.0 in /usr/local/lib/python3.10/dist-packages (from llama-index-core<0.12.0,>=0.11.17->llama-index) (1.26.4)\n",
            "Requirement already satisfied: pillow>=9.0.0 in /usr/local/lib/python3.10/dist-packages (from llama-index-core<0.12.0,>=0.11.17->llama-index) (10.4.0)\n",
            "Requirement already satisfied: pydantic<3.0.0,>=2.7.0 in /usr/local/lib/python3.10/dist-packages (from llama-index-core<0.12.0,>=0.11.17->llama-index) (2.9.2)\n",
            "Requirement already satisfied: requests>=2.31.0 in /usr/local/lib/python3.10/dist-packages (from llama-index-core<0.12.0,>=0.11.17->llama-index) (2.32.3)\n",
            "Requirement already satisfied: tenacity!=8.4.0,<9.0.0,>=8.2.0 in /usr/local/lib/python3.10/dist-packages (from llama-index-core<0.12.0,>=0.11.17->llama-index) (8.5.0)\n",
            "Requirement already satisfied: tiktoken>=0.3.3 in /usr/local/lib/python3.10/dist-packages (from llama-index-core<0.12.0,>=0.11.17->llama-index) (0.8.0)\n",
            "Requirement already satisfied: tqdm<5.0.0,>=4.66.1 in /usr/local/lib/python3.10/dist-packages (from llama-index-core<0.12.0,>=0.11.17->llama-index) (4.66.5)\n",
            "Requirement already satisfied: typing-extensions>=4.5.0 in /usr/local/lib/python3.10/dist-packages (from llama-index-core<0.12.0,>=0.11.17->llama-index) (4.12.2)\n",
            "Requirement already satisfied: typing-inspect>=0.8.0 in /usr/local/lib/python3.10/dist-packages (from llama-index-core<0.12.0,>=0.11.17->llama-index) (0.9.0)\n",
            "Requirement already satisfied: wrapt in /usr/local/lib/python3.10/dist-packages (from llama-index-core<0.12.0,>=0.11.17->llama-index) (1.16.0)\n",
            "Requirement already satisfied: llama-cloud>=0.0.11 in /usr/local/lib/python3.10/dist-packages (from llama-index-indices-managed-llama-cloud>=0.3.0->llama-index) (0.1.2)\n",
            "Requirement already satisfied: pandas in /usr/local/lib/python3.10/dist-packages (from llama-index-legacy<0.10.0,>=0.9.48->llama-index) (2.2.2)\n",
            "Requirement already satisfied: beautifulsoup4<5.0.0,>=4.12.3 in /usr/local/lib/python3.10/dist-packages (from llama-index-readers-file<0.3.0,>=0.2.0->llama-index) (4.12.3)\n",
            "Requirement already satisfied: pypdf<5.0.0,>=4.0.1 in /usr/local/lib/python3.10/dist-packages (from llama-index-readers-file<0.3.0,>=0.2.0->llama-index) (4.3.1)\n",
            "Requirement already satisfied: striprtf<0.0.27,>=0.0.26 in /usr/local/lib/python3.10/dist-packages (from llama-index-readers-file<0.3.0,>=0.2.0->llama-index) (0.0.26)\n",
            "Requirement already satisfied: llama-parse>=0.5.0 in /usr/local/lib/python3.10/dist-packages (from llama-index-readers-llama-parse>=0.3.0->llama-index) (0.5.7)\n",
            "Requirement already satisfied: click in /usr/local/lib/python3.10/dist-packages (from nltk>3.8.1->llama-index) (8.1.7)\n",
            "Requirement already satisfied: joblib in /usr/local/lib/python3.10/dist-packages (from nltk>3.8.1->llama-index) (1.4.2)\n",
            "Requirement already satisfied: regex>=2021.8.3 in /usr/local/lib/python3.10/dist-packages (from nltk>3.8.1->llama-index) (2024.9.11)\n",
            "Requirement already satisfied: aiohappyeyeballs>=2.3.0 in /usr/local/lib/python3.10/dist-packages (from aiohttp<4.0.0,>=3.8.6->llama-index-core<0.12.0,>=0.11.17->llama-index) (2.4.3)\n",
            "Requirement already satisfied: aiosignal>=1.1.2 in /usr/local/lib/python3.10/dist-packages (from aiohttp<4.0.0,>=3.8.6->llama-index-core<0.12.0,>=0.11.17->llama-index) (1.3.1)\n",
            "Requirement already satisfied: attrs>=17.3.0 in /usr/local/lib/python3.10/dist-packages (from aiohttp<4.0.0,>=3.8.6->llama-index-core<0.12.0,>=0.11.17->llama-index) (24.2.0)\n",
            "Requirement already satisfied: frozenlist>=1.1.1 in /usr/local/lib/python3.10/dist-packages (from aiohttp<4.0.0,>=3.8.6->llama-index-core<0.12.0,>=0.11.17->llama-index) (1.4.1)\n",
            "Requirement already satisfied: multidict<7.0,>=4.5 in /usr/local/lib/python3.10/dist-packages (from aiohttp<4.0.0,>=3.8.6->llama-index-core<0.12.0,>=0.11.17->llama-index) (6.1.0)\n",
            "Requirement already satisfied: yarl<2.0,>=1.12.0 in /usr/local/lib/python3.10/dist-packages (from aiohttp<4.0.0,>=3.8.6->llama-index-core<0.12.0,>=0.11.17->llama-index) (1.13.1)\n",
            "Requirement already satisfied: async-timeout<5.0,>=4.0 in /usr/local/lib/python3.10/dist-packages (from aiohttp<4.0.0,>=3.8.6->llama-index-core<0.12.0,>=0.11.17->llama-index) (4.0.3)\n",
            "Requirement already satisfied: soupsieve>1.2 in /usr/local/lib/python3.10/dist-packages (from beautifulsoup4<5.0.0,>=4.12.3->llama-index-readers-file<0.3.0,>=0.2.0->llama-index) (2.6)\n",
            "Requirement already satisfied: anyio in /usr/local/lib/python3.10/dist-packages (from httpx->llama-index-core<0.12.0,>=0.11.17->llama-index) (3.7.1)\n",
            "Requirement already satisfied: certifi in /usr/local/lib/python3.10/dist-packages (from httpx->llama-index-core<0.12.0,>=0.11.17->llama-index) (2024.8.30)\n",
            "Requirement already satisfied: httpcore==1.* in /usr/local/lib/python3.10/dist-packages (from httpx->llama-index-core<0.12.0,>=0.11.17->llama-index) (1.0.6)\n",
            "Requirement already satisfied: idna in /usr/local/lib/python3.10/dist-packages (from httpx->llama-index-core<0.12.0,>=0.11.17->llama-index) (3.10)\n",
            "Requirement already satisfied: sniffio in /usr/local/lib/python3.10/dist-packages (from httpx->llama-index-core<0.12.0,>=0.11.17->llama-index) (1.3.1)\n",
            "Requirement already satisfied: h11<0.15,>=0.13 in /usr/local/lib/python3.10/dist-packages (from httpcore==1.*->httpx->llama-index-core<0.12.0,>=0.11.17->llama-index) (0.14.0)\n",
            "Requirement already satisfied: distro<2,>=1.7.0 in /usr/lib/python3/dist-packages (from openai>=1.14.0->llama-index-agent-openai<0.4.0,>=0.3.4->llama-index) (1.7.0)\n",
            "Requirement already satisfied: jiter<1,>=0.4.0 in /usr/local/lib/python3.10/dist-packages (from openai>=1.14.0->llama-index-agent-openai<0.4.0,>=0.3.4->llama-index) (0.6.1)\n",
            "Requirement already satisfied: annotated-types>=0.6.0 in /usr/local/lib/python3.10/dist-packages (from pydantic<3.0.0,>=2.7.0->llama-index-core<0.12.0,>=0.11.17->llama-index) (0.7.0)\n",
            "Requirement already satisfied: pydantic-core==2.23.4 in /usr/local/lib/python3.10/dist-packages (from pydantic<3.0.0,>=2.7.0->llama-index-core<0.12.0,>=0.11.17->llama-index) (2.23.4)\n",
            "Requirement already satisfied: charset-normalizer<4,>=2 in /usr/local/lib/python3.10/dist-packages (from requests>=2.31.0->llama-index-core<0.12.0,>=0.11.17->llama-index) (3.3.2)\n",
            "Requirement already satisfied: urllib3<3,>=1.21.1 in /usr/local/lib/python3.10/dist-packages (from requests>=2.31.0->llama-index-core<0.12.0,>=0.11.17->llama-index) (2.2.3)\n",
            "Requirement already satisfied: greenlet!=0.4.17 in /usr/local/lib/python3.10/dist-packages (from SQLAlchemy>=1.4.49->SQLAlchemy[asyncio]>=1.4.49->llama-index-core<0.12.0,>=0.11.17->llama-index) (3.1.1)\n",
            "Requirement already satisfied: mypy-extensions>=0.3.0 in /usr/local/lib/python3.10/dist-packages (from typing-inspect>=0.8.0->llama-index-core<0.12.0,>=0.11.17->llama-index) (1.0.0)\n",
            "Requirement already satisfied: marshmallow<4.0.0,>=3.18.0 in /usr/local/lib/python3.10/dist-packages (from dataclasses-json->llama-index-core<0.12.0,>=0.11.17->llama-index) (3.22.0)\n",
            "Requirement already satisfied: python-dateutil>=2.8.2 in /usr/local/lib/python3.10/dist-packages (from pandas->llama-index-legacy<0.10.0,>=0.9.48->llama-index) (2.8.2)\n",
            "Requirement already satisfied: pytz>=2020.1 in /usr/local/lib/python3.10/dist-packages (from pandas->llama-index-legacy<0.10.0,>=0.9.48->llama-index) (2024.2)\n",
            "Requirement already satisfied: tzdata>=2022.7 in /usr/local/lib/python3.10/dist-packages (from pandas->llama-index-legacy<0.10.0,>=0.9.48->llama-index) (2024.2)\n",
            "Requirement already satisfied: exceptiongroup in /usr/local/lib/python3.10/dist-packages (from anyio->httpx->llama-index-core<0.12.0,>=0.11.17->llama-index) (1.2.2)\n",
            "Requirement already satisfied: packaging>=17.0 in /usr/local/lib/python3.10/dist-packages (from marshmallow<4.0.0,>=3.18.0->dataclasses-json->llama-index-core<0.12.0,>=0.11.17->llama-index) (24.1)\n",
            "Requirement already satisfied: six>=1.5 in /usr/local/lib/python3.10/dist-packages (from python-dateutil>=2.8.2->pandas->llama-index-legacy<0.10.0,>=0.9.48->llama-index) (1.16.0)\n",
            "Collecting llama-index-core==0.10.6.post1\n",
            "  Using cached llama_index_core-0.10.6.post1-py3-none-any.whl.metadata (3.6 kB)\n",
            "Requirement already satisfied: PyYAML>=6.0.1 in /usr/local/lib/python3.10/dist-packages (from llama-index-core==0.10.6.post1) (6.0.2)\n",
            "Requirement already satisfied: SQLAlchemy>=1.4.49 in /usr/local/lib/python3.10/dist-packages (from SQLAlchemy[asyncio]>=1.4.49->llama-index-core==0.10.6.post1) (2.0.35)\n",
            "Requirement already satisfied: aiohttp<4.0.0,>=3.8.6 in /usr/local/lib/python3.10/dist-packages (from llama-index-core==0.10.6.post1) (3.10.9)\n",
            "Requirement already satisfied: dataclasses-json in /usr/local/lib/python3.10/dist-packages (from llama-index-core==0.10.6.post1) (0.6.7)\n",
            "Requirement already satisfied: deprecated>=1.2.9.3 in /usr/local/lib/python3.10/dist-packages (from llama-index-core==0.10.6.post1) (1.2.14)\n",
            "Requirement already satisfied: dirtyjson<2.0.0,>=1.0.8 in /usr/local/lib/python3.10/dist-packages (from llama-index-core==0.10.6.post1) (1.0.8)\n",
            "Requirement already satisfied: fsspec>=2023.5.0 in /usr/local/lib/python3.10/dist-packages (from llama-index-core==0.10.6.post1) (2024.6.1)\n",
            "Requirement already satisfied: httpx in /usr/local/lib/python3.10/dist-packages (from llama-index-core==0.10.6.post1) (0.27.2)\n",
            "Requirement already satisfied: llamaindex-py-client>=0.1.12 in /usr/local/lib/python3.10/dist-packages (from llama-index-core==0.10.6.post1) (0.1.19)\n",
            "Requirement already satisfied: nest-asyncio<2.0.0,>=1.5.8 in /usr/local/lib/python3.10/dist-packages (from llama-index-core==0.10.6.post1) (1.6.0)\n",
            "Requirement already satisfied: networkx>=3.0 in /usr/local/lib/python3.10/dist-packages (from llama-index-core==0.10.6.post1) (3.3)\n",
            "Requirement already satisfied: nltk<4.0.0,>=3.8.1 in /usr/local/lib/python3.10/dist-packages (from llama-index-core==0.10.6.post1) (3.9.1)\n",
            "Requirement already satisfied: numpy in /usr/local/lib/python3.10/dist-packages (from llama-index-core==0.10.6.post1) (1.26.4)\n",
            "Requirement already satisfied: openai>=1.1.0 in /usr/local/lib/python3.10/dist-packages (from llama-index-core==0.10.6.post1) (1.51.2)\n",
            "Requirement already satisfied: pandas in /usr/local/lib/python3.10/dist-packages (from llama-index-core==0.10.6.post1) (2.2.2)\n",
            "Requirement already satisfied: pillow>=9.0.0 in /usr/local/lib/python3.10/dist-packages (from llama-index-core==0.10.6.post1) (10.4.0)\n",
            "Requirement already satisfied: requests>=2.31.0 in /usr/local/lib/python3.10/dist-packages (from llama-index-core==0.10.6.post1) (2.32.3)\n",
            "Requirement already satisfied: tenacity<9.0.0,>=8.2.0 in /usr/local/lib/python3.10/dist-packages (from llama-index-core==0.10.6.post1) (8.5.0)\n",
            "Requirement already satisfied: tiktoken>=0.3.3 in /usr/local/lib/python3.10/dist-packages (from llama-index-core==0.10.6.post1) (0.8.0)\n",
            "Requirement already satisfied: tqdm<5.0.0,>=4.66.1 in /usr/local/lib/python3.10/dist-packages (from llama-index-core==0.10.6.post1) (4.66.5)\n",
            "Requirement already satisfied: typing-extensions>=4.5.0 in /usr/local/lib/python3.10/dist-packages (from llama-index-core==0.10.6.post1) (4.12.2)\n",
            "Requirement already satisfied: typing-inspect>=0.8.0 in /usr/local/lib/python3.10/dist-packages (from llama-index-core==0.10.6.post1) (0.9.0)\n",
            "Requirement already satisfied: aiohappyeyeballs>=2.3.0 in /usr/local/lib/python3.10/dist-packages (from aiohttp<4.0.0,>=3.8.6->llama-index-core==0.10.6.post1) (2.4.3)\n",
            "Requirement already satisfied: aiosignal>=1.1.2 in /usr/local/lib/python3.10/dist-packages (from aiohttp<4.0.0,>=3.8.6->llama-index-core==0.10.6.post1) (1.3.1)\n",
            "Requirement already satisfied: attrs>=17.3.0 in /usr/local/lib/python3.10/dist-packages (from aiohttp<4.0.0,>=3.8.6->llama-index-core==0.10.6.post1) (24.2.0)\n",
            "Requirement already satisfied: frozenlist>=1.1.1 in /usr/local/lib/python3.10/dist-packages (from aiohttp<4.0.0,>=3.8.6->llama-index-core==0.10.6.post1) (1.4.1)\n",
            "Requirement already satisfied: multidict<7.0,>=4.5 in /usr/local/lib/python3.10/dist-packages (from aiohttp<4.0.0,>=3.8.6->llama-index-core==0.10.6.post1) (6.1.0)\n",
            "Requirement already satisfied: yarl<2.0,>=1.12.0 in /usr/local/lib/python3.10/dist-packages (from aiohttp<4.0.0,>=3.8.6->llama-index-core==0.10.6.post1) (1.13.1)\n",
            "Requirement already satisfied: async-timeout<5.0,>=4.0 in /usr/local/lib/python3.10/dist-packages (from aiohttp<4.0.0,>=3.8.6->llama-index-core==0.10.6.post1) (4.0.3)\n",
            "Requirement already satisfied: wrapt<2,>=1.10 in /usr/local/lib/python3.10/dist-packages (from deprecated>=1.2.9.3->llama-index-core==0.10.6.post1) (1.16.0)\n",
            "Requirement already satisfied: pydantic>=1.10 in /usr/local/lib/python3.10/dist-packages (from llamaindex-py-client>=0.1.12->llama-index-core==0.10.6.post1) (2.9.2)\n",
            "Requirement already satisfied: anyio in /usr/local/lib/python3.10/dist-packages (from httpx->llama-index-core==0.10.6.post1) (3.7.1)\n",
            "Requirement already satisfied: certifi in /usr/local/lib/python3.10/dist-packages (from httpx->llama-index-core==0.10.6.post1) (2024.8.30)\n",
            "Requirement already satisfied: httpcore==1.* in /usr/local/lib/python3.10/dist-packages (from httpx->llama-index-core==0.10.6.post1) (1.0.6)\n",
            "Requirement already satisfied: idna in /usr/local/lib/python3.10/dist-packages (from httpx->llama-index-core==0.10.6.post1) (3.10)\n",
            "Requirement already satisfied: sniffio in /usr/local/lib/python3.10/dist-packages (from httpx->llama-index-core==0.10.6.post1) (1.3.1)\n",
            "Requirement already satisfied: h11<0.15,>=0.13 in /usr/local/lib/python3.10/dist-packages (from httpcore==1.*->httpx->llama-index-core==0.10.6.post1) (0.14.0)\n",
            "Requirement already satisfied: click in /usr/local/lib/python3.10/dist-packages (from nltk<4.0.0,>=3.8.1->llama-index-core==0.10.6.post1) (8.1.7)\n",
            "Requirement already satisfied: joblib in /usr/local/lib/python3.10/dist-packages (from nltk<4.0.0,>=3.8.1->llama-index-core==0.10.6.post1) (1.4.2)\n",
            "Requirement already satisfied: regex>=2021.8.3 in /usr/local/lib/python3.10/dist-packages (from nltk<4.0.0,>=3.8.1->llama-index-core==0.10.6.post1) (2024.9.11)\n",
            "Requirement already satisfied: distro<2,>=1.7.0 in /usr/lib/python3/dist-packages (from openai>=1.1.0->llama-index-core==0.10.6.post1) (1.7.0)\n",
            "Requirement already satisfied: jiter<1,>=0.4.0 in /usr/local/lib/python3.10/dist-packages (from openai>=1.1.0->llama-index-core==0.10.6.post1) (0.6.1)\n",
            "Requirement already satisfied: charset-normalizer<4,>=2 in /usr/local/lib/python3.10/dist-packages (from requests>=2.31.0->llama-index-core==0.10.6.post1) (3.3.2)\n",
            "Requirement already satisfied: urllib3<3,>=1.21.1 in /usr/local/lib/python3.10/dist-packages (from requests>=2.31.0->llama-index-core==0.10.6.post1) (2.2.3)\n",
            "Requirement already satisfied: greenlet!=0.4.17 in /usr/local/lib/python3.10/dist-packages (from SQLAlchemy>=1.4.49->SQLAlchemy[asyncio]>=1.4.49->llama-index-core==0.10.6.post1) (3.1.1)\n",
            "Requirement already satisfied: mypy-extensions>=0.3.0 in /usr/local/lib/python3.10/dist-packages (from typing-inspect>=0.8.0->llama-index-core==0.10.6.post1) (1.0.0)\n",
            "Requirement already satisfied: marshmallow<4.0.0,>=3.18.0 in /usr/local/lib/python3.10/dist-packages (from dataclasses-json->llama-index-core==0.10.6.post1) (3.22.0)\n",
            "Requirement already satisfied: python-dateutil>=2.8.2 in /usr/local/lib/python3.10/dist-packages (from pandas->llama-index-core==0.10.6.post1) (2.8.2)\n",
            "Requirement already satisfied: pytz>=2020.1 in /usr/local/lib/python3.10/dist-packages (from pandas->llama-index-core==0.10.6.post1) (2024.2)\n",
            "Requirement already satisfied: tzdata>=2022.7 in /usr/local/lib/python3.10/dist-packages (from pandas->llama-index-core==0.10.6.post1) (2024.2)\n",
            "Requirement already satisfied: exceptiongroup in /usr/local/lib/python3.10/dist-packages (from anyio->httpx->llama-index-core==0.10.6.post1) (1.2.2)\n",
            "Requirement already satisfied: packaging>=17.0 in /usr/local/lib/python3.10/dist-packages (from marshmallow<4.0.0,>=3.18.0->dataclasses-json->llama-index-core==0.10.6.post1) (24.1)\n",
            "Requirement already satisfied: annotated-types>=0.6.0 in /usr/local/lib/python3.10/dist-packages (from pydantic>=1.10->llamaindex-py-client>=0.1.12->llama-index-core==0.10.6.post1) (0.7.0)\n",
            "Requirement already satisfied: pydantic-core==2.23.4 in /usr/local/lib/python3.10/dist-packages (from pydantic>=1.10->llamaindex-py-client>=0.1.12->llama-index-core==0.10.6.post1) (2.23.4)\n",
            "Requirement already satisfied: six>=1.5 in /usr/local/lib/python3.10/dist-packages (from python-dateutil>=2.8.2->pandas->llama-index-core==0.10.6.post1) (1.16.0)\n",
            "Using cached llama_index_core-0.10.6.post1-py3-none-any.whl (15.4 MB)\n",
            "Installing collected packages: llama-index-core\n",
            "  Attempting uninstall: llama-index-core\n",
            "    Found existing installation: llama-index-core 0.11.17\n",
            "    Uninstalling llama-index-core-0.11.17:\n",
            "      Successfully uninstalled llama-index-core-0.11.17\n",
            "\u001b[31mERROR: pip's dependency resolver does not currently take into account all the packages that are installed. This behaviour is the source of the following dependency conflicts.\n",
            "llama-index 0.11.17 requires llama-index-core<0.12.0,>=0.11.17, but you have llama-index-core 0.10.6.post1 which is incompatible.\n",
            "llama-index-agent-openai 0.3.4 requires llama-index-core<0.12.0,>=0.11.0, but you have llama-index-core 0.10.6.post1 which is incompatible.\n",
            "llama-index-cli 0.3.1 requires llama-index-core<0.12.0,>=0.11.0, but you have llama-index-core 0.10.6.post1 which is incompatible.\n",
            "llama-index-embeddings-fastembed 0.2.0 requires llama-index-core<0.12.0,>=0.11.0, but you have llama-index-core 0.10.6.post1 which is incompatible.\n",
            "llama-index-embeddings-huggingface 0.3.1 requires llama-index-core<0.12.0,>=0.11.0, but you have llama-index-core 0.10.6.post1 which is incompatible.\n",
            "llama-index-embeddings-langchain 0.2.1 requires llama-index-core<0.12.0,>=0.11.0, but you have llama-index-core 0.10.6.post1 which is incompatible.\n",
            "llama-index-embeddings-openai 0.2.5 requires llama-index-core<0.12.0,>=0.11.0, but you have llama-index-core 0.10.6.post1 which is incompatible.\n",
            "llama-index-indices-managed-llama-cloud 0.4.0 requires llama-index-core<0.12.0,>=0.11.13.post1, but you have llama-index-core 0.10.6.post1 which is incompatible.\n",
            "llama-index-llms-groq 0.2.0 requires llama-index-core<0.12.0,>=0.11.0, but you have llama-index-core 0.10.6.post1 which is incompatible.\n",
            "llama-index-llms-openai 0.2.13 requires llama-index-core<0.12.0,>=0.11.7, but you have llama-index-core 0.10.6.post1 which is incompatible.\n",
            "llama-index-llms-openai-like 0.2.0 requires llama-index-core<0.12.0,>=0.11.0, but you have llama-index-core 0.10.6.post1 which is incompatible.\n",
            "llama-index-multi-modal-llms-openai 0.2.2 requires llama-index-core<0.12.0,>=0.11.0, but you have llama-index-core 0.10.6.post1 which is incompatible.\n",
            "llama-index-postprocessor-flag-embedding-reranker 0.2.0 requires llama-index-core<0.12.0,>=0.11.0, but you have llama-index-core 0.10.6.post1 which is incompatible.\n",
            "llama-index-program-openai 0.2.0 requires llama-index-core<0.12.0,>=0.11.0, but you have llama-index-core 0.10.6.post1 which is incompatible.\n",
            "llama-index-question-gen-openai 0.2.0 requires llama-index-core<0.12.0,>=0.11.0, but you have llama-index-core 0.10.6.post1 which is incompatible.\n",
            "llama-index-readers-file 0.2.2 requires llama-index-core<0.12.0,>=0.11.0, but you have llama-index-core 0.10.6.post1 which is incompatible.\n",
            "llama-index-readers-llama-parse 0.3.0 requires llama-index-core<0.12.0,>=0.11.0, but you have llama-index-core 0.10.6.post1 which is incompatible.\n",
            "llama-index-vector-stores-qdrant 0.3.1 requires llama-index-core<0.12.0,>=0.11.0, but you have llama-index-core 0.10.6.post1 which is incompatible.\n",
            "llama-parse 0.5.7 requires llama-index-core>=0.11.0, but you have llama-index-core 0.10.6.post1 which is incompatible.\u001b[0m\u001b[31m\n",
            "\u001b[0mSuccessfully installed llama-index-core-0.10.6.post1\n",
            "Requirement already satisfied: llama-index-embeddings-openai in /usr/local/lib/python3.10/dist-packages (0.2.5)\n",
            "Collecting llama-index-core<0.12.0,>=0.11.0 (from llama-index-embeddings-openai)\n",
            "  Using cached llama_index_core-0.11.17-py3-none-any.whl.metadata (2.4 kB)\n",
            "Requirement already satisfied: openai>=1.1.0 in /usr/local/lib/python3.10/dist-packages (from llama-index-embeddings-openai) (1.51.2)\n",
            "Requirement already satisfied: PyYAML>=6.0.1 in /usr/local/lib/python3.10/dist-packages (from llama-index-core<0.12.0,>=0.11.0->llama-index-embeddings-openai) (6.0.2)\n",
            "Requirement already satisfied: SQLAlchemy>=1.4.49 in /usr/local/lib/python3.10/dist-packages (from SQLAlchemy[asyncio]>=1.4.49->llama-index-core<0.12.0,>=0.11.0->llama-index-embeddings-openai) (2.0.35)\n",
            "Requirement already satisfied: aiohttp<4.0.0,>=3.8.6 in /usr/local/lib/python3.10/dist-packages (from llama-index-core<0.12.0,>=0.11.0->llama-index-embeddings-openai) (3.10.9)\n",
            "Requirement already satisfied: dataclasses-json in /usr/local/lib/python3.10/dist-packages (from llama-index-core<0.12.0,>=0.11.0->llama-index-embeddings-openai) (0.6.7)\n",
            "Requirement already satisfied: deprecated>=1.2.9.3 in /usr/local/lib/python3.10/dist-packages (from llama-index-core<0.12.0,>=0.11.0->llama-index-embeddings-openai) (1.2.14)\n",
            "Requirement already satisfied: dirtyjson<2.0.0,>=1.0.8 in /usr/local/lib/python3.10/dist-packages (from llama-index-core<0.12.0,>=0.11.0->llama-index-embeddings-openai) (1.0.8)\n",
            "Requirement already satisfied: fsspec>=2023.5.0 in /usr/local/lib/python3.10/dist-packages (from llama-index-core<0.12.0,>=0.11.0->llama-index-embeddings-openai) (2024.6.1)\n",
            "Requirement already satisfied: httpx in /usr/local/lib/python3.10/dist-packages (from llama-index-core<0.12.0,>=0.11.0->llama-index-embeddings-openai) (0.27.2)\n",
            "Requirement already satisfied: nest-asyncio<2.0.0,>=1.5.8 in /usr/local/lib/python3.10/dist-packages (from llama-index-core<0.12.0,>=0.11.0->llama-index-embeddings-openai) (1.6.0)\n",
            "Requirement already satisfied: networkx>=3.0 in /usr/local/lib/python3.10/dist-packages (from llama-index-core<0.12.0,>=0.11.0->llama-index-embeddings-openai) (3.3)\n",
            "Requirement already satisfied: nltk>3.8.1 in /usr/local/lib/python3.10/dist-packages (from llama-index-core<0.12.0,>=0.11.0->llama-index-embeddings-openai) (3.9.1)\n",
            "Requirement already satisfied: numpy<2.0.0 in /usr/local/lib/python3.10/dist-packages (from llama-index-core<0.12.0,>=0.11.0->llama-index-embeddings-openai) (1.26.4)\n",
            "Requirement already satisfied: pillow>=9.0.0 in /usr/local/lib/python3.10/dist-packages (from llama-index-core<0.12.0,>=0.11.0->llama-index-embeddings-openai) (10.4.0)\n",
            "Requirement already satisfied: pydantic<3.0.0,>=2.7.0 in /usr/local/lib/python3.10/dist-packages (from llama-index-core<0.12.0,>=0.11.0->llama-index-embeddings-openai) (2.9.2)\n",
            "Requirement already satisfied: requests>=2.31.0 in /usr/local/lib/python3.10/dist-packages (from llama-index-core<0.12.0,>=0.11.0->llama-index-embeddings-openai) (2.32.3)\n",
            "Requirement already satisfied: tenacity!=8.4.0,<9.0.0,>=8.2.0 in /usr/local/lib/python3.10/dist-packages (from llama-index-core<0.12.0,>=0.11.0->llama-index-embeddings-openai) (8.5.0)\n",
            "Requirement already satisfied: tiktoken>=0.3.3 in /usr/local/lib/python3.10/dist-packages (from llama-index-core<0.12.0,>=0.11.0->llama-index-embeddings-openai) (0.8.0)\n",
            "Requirement already satisfied: tqdm<5.0.0,>=4.66.1 in /usr/local/lib/python3.10/dist-packages (from llama-index-core<0.12.0,>=0.11.0->llama-index-embeddings-openai) (4.66.5)\n",
            "Requirement already satisfied: typing-extensions>=4.5.0 in /usr/local/lib/python3.10/dist-packages (from llama-index-core<0.12.0,>=0.11.0->llama-index-embeddings-openai) (4.12.2)\n",
            "Requirement already satisfied: typing-inspect>=0.8.0 in /usr/local/lib/python3.10/dist-packages (from llama-index-core<0.12.0,>=0.11.0->llama-index-embeddings-openai) (0.9.0)\n",
            "Requirement already satisfied: wrapt in /usr/local/lib/python3.10/dist-packages (from llama-index-core<0.12.0,>=0.11.0->llama-index-embeddings-openai) (1.16.0)\n",
            "Requirement already satisfied: anyio<5,>=3.5.0 in /usr/local/lib/python3.10/dist-packages (from openai>=1.1.0->llama-index-embeddings-openai) (3.7.1)\n",
            "Requirement already satisfied: distro<2,>=1.7.0 in /usr/lib/python3/dist-packages (from openai>=1.1.0->llama-index-embeddings-openai) (1.7.0)\n",
            "Requirement already satisfied: jiter<1,>=0.4.0 in /usr/local/lib/python3.10/dist-packages (from openai>=1.1.0->llama-index-embeddings-openai) (0.6.1)\n",
            "Requirement already satisfied: sniffio in /usr/local/lib/python3.10/dist-packages (from openai>=1.1.0->llama-index-embeddings-openai) (1.3.1)\n",
            "Requirement already satisfied: aiohappyeyeballs>=2.3.0 in /usr/local/lib/python3.10/dist-packages (from aiohttp<4.0.0,>=3.8.6->llama-index-core<0.12.0,>=0.11.0->llama-index-embeddings-openai) (2.4.3)\n",
            "Requirement already satisfied: aiosignal>=1.1.2 in /usr/local/lib/python3.10/dist-packages (from aiohttp<4.0.0,>=3.8.6->llama-index-core<0.12.0,>=0.11.0->llama-index-embeddings-openai) (1.3.1)\n",
            "Requirement already satisfied: attrs>=17.3.0 in /usr/local/lib/python3.10/dist-packages (from aiohttp<4.0.0,>=3.8.6->llama-index-core<0.12.0,>=0.11.0->llama-index-embeddings-openai) (24.2.0)\n",
            "Requirement already satisfied: frozenlist>=1.1.1 in /usr/local/lib/python3.10/dist-packages (from aiohttp<4.0.0,>=3.8.6->llama-index-core<0.12.0,>=0.11.0->llama-index-embeddings-openai) (1.4.1)\n",
            "Requirement already satisfied: multidict<7.0,>=4.5 in /usr/local/lib/python3.10/dist-packages (from aiohttp<4.0.0,>=3.8.6->llama-index-core<0.12.0,>=0.11.0->llama-index-embeddings-openai) (6.1.0)\n",
            "Requirement already satisfied: yarl<2.0,>=1.12.0 in /usr/local/lib/python3.10/dist-packages (from aiohttp<4.0.0,>=3.8.6->llama-index-core<0.12.0,>=0.11.0->llama-index-embeddings-openai) (1.13.1)\n",
            "Requirement already satisfied: async-timeout<5.0,>=4.0 in /usr/local/lib/python3.10/dist-packages (from aiohttp<4.0.0,>=3.8.6->llama-index-core<0.12.0,>=0.11.0->llama-index-embeddings-openai) (4.0.3)\n",
            "Requirement already satisfied: idna>=2.8 in /usr/local/lib/python3.10/dist-packages (from anyio<5,>=3.5.0->openai>=1.1.0->llama-index-embeddings-openai) (3.10)\n",
            "Requirement already satisfied: exceptiongroup in /usr/local/lib/python3.10/dist-packages (from anyio<5,>=3.5.0->openai>=1.1.0->llama-index-embeddings-openai) (1.2.2)\n",
            "Requirement already satisfied: certifi in /usr/local/lib/python3.10/dist-packages (from httpx->llama-index-core<0.12.0,>=0.11.0->llama-index-embeddings-openai) (2024.8.30)\n",
            "Requirement already satisfied: httpcore==1.* in /usr/local/lib/python3.10/dist-packages (from httpx->llama-index-core<0.12.0,>=0.11.0->llama-index-embeddings-openai) (1.0.6)\n",
            "Requirement already satisfied: h11<0.15,>=0.13 in /usr/local/lib/python3.10/dist-packages (from httpcore==1.*->httpx->llama-index-core<0.12.0,>=0.11.0->llama-index-embeddings-openai) (0.14.0)\n",
            "Requirement already satisfied: click in /usr/local/lib/python3.10/dist-packages (from nltk>3.8.1->llama-index-core<0.12.0,>=0.11.0->llama-index-embeddings-openai) (8.1.7)\n",
            "Requirement already satisfied: joblib in /usr/local/lib/python3.10/dist-packages (from nltk>3.8.1->llama-index-core<0.12.0,>=0.11.0->llama-index-embeddings-openai) (1.4.2)\n",
            "Requirement already satisfied: regex>=2021.8.3 in /usr/local/lib/python3.10/dist-packages (from nltk>3.8.1->llama-index-core<0.12.0,>=0.11.0->llama-index-embeddings-openai) (2024.9.11)\n",
            "Requirement already satisfied: annotated-types>=0.6.0 in /usr/local/lib/python3.10/dist-packages (from pydantic<3.0.0,>=2.7.0->llama-index-core<0.12.0,>=0.11.0->llama-index-embeddings-openai) (0.7.0)\n",
            "Requirement already satisfied: pydantic-core==2.23.4 in /usr/local/lib/python3.10/dist-packages (from pydantic<3.0.0,>=2.7.0->llama-index-core<0.12.0,>=0.11.0->llama-index-embeddings-openai) (2.23.4)\n",
            "Requirement already satisfied: charset-normalizer<4,>=2 in /usr/local/lib/python3.10/dist-packages (from requests>=2.31.0->llama-index-core<0.12.0,>=0.11.0->llama-index-embeddings-openai) (3.3.2)\n",
            "Requirement already satisfied: urllib3<3,>=1.21.1 in /usr/local/lib/python3.10/dist-packages (from requests>=2.31.0->llama-index-core<0.12.0,>=0.11.0->llama-index-embeddings-openai) (2.2.3)\n",
            "Requirement already satisfied: greenlet!=0.4.17 in /usr/local/lib/python3.10/dist-packages (from SQLAlchemy>=1.4.49->SQLAlchemy[asyncio]>=1.4.49->llama-index-core<0.12.0,>=0.11.0->llama-index-embeddings-openai) (3.1.1)\n",
            "Requirement already satisfied: mypy-extensions>=0.3.0 in /usr/local/lib/python3.10/dist-packages (from typing-inspect>=0.8.0->llama-index-core<0.12.0,>=0.11.0->llama-index-embeddings-openai) (1.0.0)\n",
            "Requirement already satisfied: marshmallow<4.0.0,>=3.18.0 in /usr/local/lib/python3.10/dist-packages (from dataclasses-json->llama-index-core<0.12.0,>=0.11.0->llama-index-embeddings-openai) (3.22.0)\n",
            "Requirement already satisfied: packaging>=17.0 in /usr/local/lib/python3.10/dist-packages (from marshmallow<4.0.0,>=3.18.0->dataclasses-json->llama-index-core<0.12.0,>=0.11.0->llama-index-embeddings-openai) (24.1)\n",
            "Using cached llama_index_core-0.11.17-py3-none-any.whl (1.6 MB)\n",
            "Installing collected packages: llama-index-core\n",
            "  Attempting uninstall: llama-index-core\n",
            "    Found existing installation: llama-index-core 0.10.6.post1\n",
            "    Uninstalling llama-index-core-0.10.6.post1:\n",
            "      Successfully uninstalled llama-index-core-0.10.6.post1\n",
            "Successfully installed llama-index-core-0.11.17\n",
            "Requirement already satisfied: llama-index-postprocessor-flag-embedding-reranker in /usr/local/lib/python3.10/dist-packages (0.2.0)\n",
            "Requirement already satisfied: llama-index-core<0.12.0,>=0.11.0 in /usr/local/lib/python3.10/dist-packages (from llama-index-postprocessor-flag-embedding-reranker) (0.11.17)\n",
            "Requirement already satisfied: PyYAML>=6.0.1 in /usr/local/lib/python3.10/dist-packages (from llama-index-core<0.12.0,>=0.11.0->llama-index-postprocessor-flag-embedding-reranker) (6.0.2)\n",
            "Requirement already satisfied: SQLAlchemy>=1.4.49 in /usr/local/lib/python3.10/dist-packages (from SQLAlchemy[asyncio]>=1.4.49->llama-index-core<0.12.0,>=0.11.0->llama-index-postprocessor-flag-embedding-reranker) (2.0.35)\n",
            "Requirement already satisfied: aiohttp<4.0.0,>=3.8.6 in /usr/local/lib/python3.10/dist-packages (from llama-index-core<0.12.0,>=0.11.0->llama-index-postprocessor-flag-embedding-reranker) (3.10.9)\n",
            "Requirement already satisfied: dataclasses-json in /usr/local/lib/python3.10/dist-packages (from llama-index-core<0.12.0,>=0.11.0->llama-index-postprocessor-flag-embedding-reranker) (0.6.7)\n",
            "Requirement already satisfied: deprecated>=1.2.9.3 in /usr/local/lib/python3.10/dist-packages (from llama-index-core<0.12.0,>=0.11.0->llama-index-postprocessor-flag-embedding-reranker) (1.2.14)\n",
            "Requirement already satisfied: dirtyjson<2.0.0,>=1.0.8 in /usr/local/lib/python3.10/dist-packages (from llama-index-core<0.12.0,>=0.11.0->llama-index-postprocessor-flag-embedding-reranker) (1.0.8)\n",
            "Requirement already satisfied: fsspec>=2023.5.0 in /usr/local/lib/python3.10/dist-packages (from llama-index-core<0.12.0,>=0.11.0->llama-index-postprocessor-flag-embedding-reranker) (2024.6.1)\n",
            "Requirement already satisfied: httpx in /usr/local/lib/python3.10/dist-packages (from llama-index-core<0.12.0,>=0.11.0->llama-index-postprocessor-flag-embedding-reranker) (0.27.2)\n",
            "Requirement already satisfied: nest-asyncio<2.0.0,>=1.5.8 in /usr/local/lib/python3.10/dist-packages (from llama-index-core<0.12.0,>=0.11.0->llama-index-postprocessor-flag-embedding-reranker) (1.6.0)\n",
            "Requirement already satisfied: networkx>=3.0 in /usr/local/lib/python3.10/dist-packages (from llama-index-core<0.12.0,>=0.11.0->llama-index-postprocessor-flag-embedding-reranker) (3.3)\n",
            "Requirement already satisfied: nltk>3.8.1 in /usr/local/lib/python3.10/dist-packages (from llama-index-core<0.12.0,>=0.11.0->llama-index-postprocessor-flag-embedding-reranker) (3.9.1)\n",
            "Requirement already satisfied: numpy<2.0.0 in /usr/local/lib/python3.10/dist-packages (from llama-index-core<0.12.0,>=0.11.0->llama-index-postprocessor-flag-embedding-reranker) (1.26.4)\n",
            "Requirement already satisfied: pillow>=9.0.0 in /usr/local/lib/python3.10/dist-packages (from llama-index-core<0.12.0,>=0.11.0->llama-index-postprocessor-flag-embedding-reranker) (10.4.0)\n",
            "Requirement already satisfied: pydantic<3.0.0,>=2.7.0 in /usr/local/lib/python3.10/dist-packages (from llama-index-core<0.12.0,>=0.11.0->llama-index-postprocessor-flag-embedding-reranker) (2.9.2)\n",
            "Requirement already satisfied: requests>=2.31.0 in /usr/local/lib/python3.10/dist-packages (from llama-index-core<0.12.0,>=0.11.0->llama-index-postprocessor-flag-embedding-reranker) (2.32.3)\n",
            "Requirement already satisfied: tenacity!=8.4.0,<9.0.0,>=8.2.0 in /usr/local/lib/python3.10/dist-packages (from llama-index-core<0.12.0,>=0.11.0->llama-index-postprocessor-flag-embedding-reranker) (8.5.0)\n",
            "Requirement already satisfied: tiktoken>=0.3.3 in /usr/local/lib/python3.10/dist-packages (from llama-index-core<0.12.0,>=0.11.0->llama-index-postprocessor-flag-embedding-reranker) (0.8.0)\n",
            "Requirement already satisfied: tqdm<5.0.0,>=4.66.1 in /usr/local/lib/python3.10/dist-packages (from llama-index-core<0.12.0,>=0.11.0->llama-index-postprocessor-flag-embedding-reranker) (4.66.5)\n",
            "Requirement already satisfied: typing-extensions>=4.5.0 in /usr/local/lib/python3.10/dist-packages (from llama-index-core<0.12.0,>=0.11.0->llama-index-postprocessor-flag-embedding-reranker) (4.12.2)\n",
            "Requirement already satisfied: typing-inspect>=0.8.0 in /usr/local/lib/python3.10/dist-packages (from llama-index-core<0.12.0,>=0.11.0->llama-index-postprocessor-flag-embedding-reranker) (0.9.0)\n",
            "Requirement already satisfied: wrapt in /usr/local/lib/python3.10/dist-packages (from llama-index-core<0.12.0,>=0.11.0->llama-index-postprocessor-flag-embedding-reranker) (1.16.0)\n",
            "Requirement already satisfied: aiohappyeyeballs>=2.3.0 in /usr/local/lib/python3.10/dist-packages (from aiohttp<4.0.0,>=3.8.6->llama-index-core<0.12.0,>=0.11.0->llama-index-postprocessor-flag-embedding-reranker) (2.4.3)\n",
            "Requirement already satisfied: aiosignal>=1.1.2 in /usr/local/lib/python3.10/dist-packages (from aiohttp<4.0.0,>=3.8.6->llama-index-core<0.12.0,>=0.11.0->llama-index-postprocessor-flag-embedding-reranker) (1.3.1)\n",
            "Requirement already satisfied: attrs>=17.3.0 in /usr/local/lib/python3.10/dist-packages (from aiohttp<4.0.0,>=3.8.6->llama-index-core<0.12.0,>=0.11.0->llama-index-postprocessor-flag-embedding-reranker) (24.2.0)\n",
            "Requirement already satisfied: frozenlist>=1.1.1 in /usr/local/lib/python3.10/dist-packages (from aiohttp<4.0.0,>=3.8.6->llama-index-core<0.12.0,>=0.11.0->llama-index-postprocessor-flag-embedding-reranker) (1.4.1)\n",
            "Requirement already satisfied: multidict<7.0,>=4.5 in /usr/local/lib/python3.10/dist-packages (from aiohttp<4.0.0,>=3.8.6->llama-index-core<0.12.0,>=0.11.0->llama-index-postprocessor-flag-embedding-reranker) (6.1.0)\n",
            "Requirement already satisfied: yarl<2.0,>=1.12.0 in /usr/local/lib/python3.10/dist-packages (from aiohttp<4.0.0,>=3.8.6->llama-index-core<0.12.0,>=0.11.0->llama-index-postprocessor-flag-embedding-reranker) (1.13.1)\n",
            "Requirement already satisfied: async-timeout<5.0,>=4.0 in /usr/local/lib/python3.10/dist-packages (from aiohttp<4.0.0,>=3.8.6->llama-index-core<0.12.0,>=0.11.0->llama-index-postprocessor-flag-embedding-reranker) (4.0.3)\n",
            "Requirement already satisfied: click in /usr/local/lib/python3.10/dist-packages (from nltk>3.8.1->llama-index-core<0.12.0,>=0.11.0->llama-index-postprocessor-flag-embedding-reranker) (8.1.7)\n",
            "Requirement already satisfied: joblib in /usr/local/lib/python3.10/dist-packages (from nltk>3.8.1->llama-index-core<0.12.0,>=0.11.0->llama-index-postprocessor-flag-embedding-reranker) (1.4.2)\n",
            "Requirement already satisfied: regex>=2021.8.3 in /usr/local/lib/python3.10/dist-packages (from nltk>3.8.1->llama-index-core<0.12.0,>=0.11.0->llama-index-postprocessor-flag-embedding-reranker) (2024.9.11)\n",
            "Requirement already satisfied: annotated-types>=0.6.0 in /usr/local/lib/python3.10/dist-packages (from pydantic<3.0.0,>=2.7.0->llama-index-core<0.12.0,>=0.11.0->llama-index-postprocessor-flag-embedding-reranker) (0.7.0)\n",
            "Requirement already satisfied: pydantic-core==2.23.4 in /usr/local/lib/python3.10/dist-packages (from pydantic<3.0.0,>=2.7.0->llama-index-core<0.12.0,>=0.11.0->llama-index-postprocessor-flag-embedding-reranker) (2.23.4)\n",
            "Requirement already satisfied: charset-normalizer<4,>=2 in /usr/local/lib/python3.10/dist-packages (from requests>=2.31.0->llama-index-core<0.12.0,>=0.11.0->llama-index-postprocessor-flag-embedding-reranker) (3.3.2)\n",
            "Requirement already satisfied: idna<4,>=2.5 in /usr/local/lib/python3.10/dist-packages (from requests>=2.31.0->llama-index-core<0.12.0,>=0.11.0->llama-index-postprocessor-flag-embedding-reranker) (3.10)\n",
            "Requirement already satisfied: urllib3<3,>=1.21.1 in /usr/local/lib/python3.10/dist-packages (from requests>=2.31.0->llama-index-core<0.12.0,>=0.11.0->llama-index-postprocessor-flag-embedding-reranker) (2.2.3)\n",
            "Requirement already satisfied: certifi>=2017.4.17 in /usr/local/lib/python3.10/dist-packages (from requests>=2.31.0->llama-index-core<0.12.0,>=0.11.0->llama-index-postprocessor-flag-embedding-reranker) (2024.8.30)\n",
            "Requirement already satisfied: greenlet!=0.4.17 in /usr/local/lib/python3.10/dist-packages (from SQLAlchemy>=1.4.49->SQLAlchemy[asyncio]>=1.4.49->llama-index-core<0.12.0,>=0.11.0->llama-index-postprocessor-flag-embedding-reranker) (3.1.1)\n",
            "Requirement already satisfied: mypy-extensions>=0.3.0 in /usr/local/lib/python3.10/dist-packages (from typing-inspect>=0.8.0->llama-index-core<0.12.0,>=0.11.0->llama-index-postprocessor-flag-embedding-reranker) (1.0.0)\n",
            "Requirement already satisfied: marshmallow<4.0.0,>=3.18.0 in /usr/local/lib/python3.10/dist-packages (from dataclasses-json->llama-index-core<0.12.0,>=0.11.0->llama-index-postprocessor-flag-embedding-reranker) (3.22.0)\n",
            "Requirement already satisfied: anyio in /usr/local/lib/python3.10/dist-packages (from httpx->llama-index-core<0.12.0,>=0.11.0->llama-index-postprocessor-flag-embedding-reranker) (3.7.1)\n",
            "Requirement already satisfied: httpcore==1.* in /usr/local/lib/python3.10/dist-packages (from httpx->llama-index-core<0.12.0,>=0.11.0->llama-index-postprocessor-flag-embedding-reranker) (1.0.6)\n",
            "Requirement already satisfied: sniffio in /usr/local/lib/python3.10/dist-packages (from httpx->llama-index-core<0.12.0,>=0.11.0->llama-index-postprocessor-flag-embedding-reranker) (1.3.1)\n",
            "Requirement already satisfied: h11<0.15,>=0.13 in /usr/local/lib/python3.10/dist-packages (from httpcore==1.*->httpx->llama-index-core<0.12.0,>=0.11.0->llama-index-postprocessor-flag-embedding-reranker) (0.14.0)\n",
            "Requirement already satisfied: packaging>=17.0 in /usr/local/lib/python3.10/dist-packages (from marshmallow<4.0.0,>=3.18.0->dataclasses-json->llama-index-core<0.12.0,>=0.11.0->llama-index-postprocessor-flag-embedding-reranker) (24.1)\n",
            "Requirement already satisfied: exceptiongroup in /usr/local/lib/python3.10/dist-packages (from anyio->httpx->llama-index-core<0.12.0,>=0.11.0->llama-index-postprocessor-flag-embedding-reranker) (1.2.2)\n",
            "Collecting git+https://github.com/FlagOpen/FlagEmbedding.git\n",
            "  Cloning https://github.com/FlagOpen/FlagEmbedding.git to /tmp/pip-req-build-lye32sr0\n",
            "  Running command git clone --filter=blob:none --quiet https://github.com/FlagOpen/FlagEmbedding.git /tmp/pip-req-build-lye32sr0\n",
            "  Resolved https://github.com/FlagOpen/FlagEmbedding.git to commit bd58b6fcedb02fdb7be6927cc55584eb16871e6c\n",
            "  Preparing metadata (setup.py) ... \u001b[?25l\u001b[?25hdone\n",
            "Requirement already satisfied: torch>=1.6.0 in /usr/local/lib/python3.10/dist-packages (from FlagEmbedding==1.2.11) (2.4.1+cu121)\n",
            "Requirement already satisfied: transformers>=4.33.0 in /usr/local/lib/python3.10/dist-packages (from FlagEmbedding==1.2.11) (4.44.2)\n",
            "Requirement already satisfied: datasets in /usr/local/lib/python3.10/dist-packages (from FlagEmbedding==1.2.11) (3.0.1)\n",
            "Requirement already satisfied: accelerate>=0.20.1 in /usr/local/lib/python3.10/dist-packages (from FlagEmbedding==1.2.11) (0.34.2)\n",
            "Requirement already satisfied: sentence_transformers in /usr/local/lib/python3.10/dist-packages (from FlagEmbedding==1.2.11) (3.2.0)\n",
            "Requirement already satisfied: peft in /usr/local/lib/python3.10/dist-packages (from FlagEmbedding==1.2.11) (0.13.2)\n",
            "Requirement already satisfied: numpy<3.0.0,>=1.17 in /usr/local/lib/python3.10/dist-packages (from accelerate>=0.20.1->FlagEmbedding==1.2.11) (1.26.4)\n",
            "Requirement already satisfied: packaging>=20.0 in /usr/local/lib/python3.10/dist-packages (from accelerate>=0.20.1->FlagEmbedding==1.2.11) (24.1)\n",
            "Requirement already satisfied: psutil in /usr/local/lib/python3.10/dist-packages (from accelerate>=0.20.1->FlagEmbedding==1.2.11) (5.9.5)\n",
            "Requirement already satisfied: pyyaml in /usr/local/lib/python3.10/dist-packages (from accelerate>=0.20.1->FlagEmbedding==1.2.11) (6.0.2)\n",
            "Requirement already satisfied: huggingface-hub>=0.21.0 in /usr/local/lib/python3.10/dist-packages (from accelerate>=0.20.1->FlagEmbedding==1.2.11) (0.24.7)\n",
            "Requirement already satisfied: safetensors>=0.4.3 in /usr/local/lib/python3.10/dist-packages (from accelerate>=0.20.1->FlagEmbedding==1.2.11) (0.4.5)\n",
            "Requirement already satisfied: filelock in /usr/local/lib/python3.10/dist-packages (from torch>=1.6.0->FlagEmbedding==1.2.11) (3.16.1)\n",
            "Requirement already satisfied: typing-extensions>=4.8.0 in /usr/local/lib/python3.10/dist-packages (from torch>=1.6.0->FlagEmbedding==1.2.11) (4.12.2)\n",
            "Requirement already satisfied: sympy in /usr/local/lib/python3.10/dist-packages (from torch>=1.6.0->FlagEmbedding==1.2.11) (1.13.3)\n",
            "Requirement already satisfied: networkx in /usr/local/lib/python3.10/dist-packages (from torch>=1.6.0->FlagEmbedding==1.2.11) (3.3)\n",
            "Requirement already satisfied: jinja2 in /usr/local/lib/python3.10/dist-packages (from torch>=1.6.0->FlagEmbedding==1.2.11) (3.1.4)\n",
            "Requirement already satisfied: fsspec in /usr/local/lib/python3.10/dist-packages (from torch>=1.6.0->FlagEmbedding==1.2.11) (2024.6.1)\n",
            "Requirement already satisfied: regex!=2019.12.17 in /usr/local/lib/python3.10/dist-packages (from transformers>=4.33.0->FlagEmbedding==1.2.11) (2024.9.11)\n",
            "Requirement already satisfied: requests in /usr/local/lib/python3.10/dist-packages (from transformers>=4.33.0->FlagEmbedding==1.2.11) (2.32.3)\n",
            "Requirement already satisfied: tokenizers<0.20,>=0.19 in /usr/local/lib/python3.10/dist-packages (from transformers>=4.33.0->FlagEmbedding==1.2.11) (0.19.1)\n",
            "Requirement already satisfied: tqdm>=4.27 in /usr/local/lib/python3.10/dist-packages (from transformers>=4.33.0->FlagEmbedding==1.2.11) (4.66.5)\n",
            "Requirement already satisfied: pyarrow>=15.0.0 in /usr/local/lib/python3.10/dist-packages (from datasets->FlagEmbedding==1.2.11) (16.1.0)\n",
            "Requirement already satisfied: dill<0.3.9,>=0.3.0 in /usr/local/lib/python3.10/dist-packages (from datasets->FlagEmbedding==1.2.11) (0.3.8)\n",
            "Requirement already satisfied: pandas in /usr/local/lib/python3.10/dist-packages (from datasets->FlagEmbedding==1.2.11) (2.2.2)\n",
            "Requirement already satisfied: xxhash in /usr/local/lib/python3.10/dist-packages (from datasets->FlagEmbedding==1.2.11) (3.5.0)\n",
            "Requirement already satisfied: multiprocess in /usr/local/lib/python3.10/dist-packages (from datasets->FlagEmbedding==1.2.11) (0.70.16)\n",
            "Requirement already satisfied: aiohttp in /usr/local/lib/python3.10/dist-packages (from datasets->FlagEmbedding==1.2.11) (3.10.9)\n",
            "Requirement already satisfied: scikit-learn in /usr/local/lib/python3.10/dist-packages (from sentence_transformers->FlagEmbedding==1.2.11) (1.5.2)\n",
            "Requirement already satisfied: scipy in /usr/local/lib/python3.10/dist-packages (from sentence_transformers->FlagEmbedding==1.2.11) (1.13.1)\n",
            "Requirement already satisfied: Pillow in /usr/local/lib/python3.10/dist-packages (from sentence_transformers->FlagEmbedding==1.2.11) (10.4.0)\n",
            "Requirement already satisfied: aiohappyeyeballs>=2.3.0 in /usr/local/lib/python3.10/dist-packages (from aiohttp->datasets->FlagEmbedding==1.2.11) (2.4.3)\n",
            "Requirement already satisfied: aiosignal>=1.1.2 in /usr/local/lib/python3.10/dist-packages (from aiohttp->datasets->FlagEmbedding==1.2.11) (1.3.1)\n",
            "Requirement already satisfied: attrs>=17.3.0 in /usr/local/lib/python3.10/dist-packages (from aiohttp->datasets->FlagEmbedding==1.2.11) (24.2.0)\n",
            "Requirement already satisfied: frozenlist>=1.1.1 in /usr/local/lib/python3.10/dist-packages (from aiohttp->datasets->FlagEmbedding==1.2.11) (1.4.1)\n",
            "Requirement already satisfied: multidict<7.0,>=4.5 in /usr/local/lib/python3.10/dist-packages (from aiohttp->datasets->FlagEmbedding==1.2.11) (6.1.0)\n",
            "Requirement already satisfied: yarl<2.0,>=1.12.0 in /usr/local/lib/python3.10/dist-packages (from aiohttp->datasets->FlagEmbedding==1.2.11) (1.13.1)\n",
            "Requirement already satisfied: async-timeout<5.0,>=4.0 in /usr/local/lib/python3.10/dist-packages (from aiohttp->datasets->FlagEmbedding==1.2.11) (4.0.3)\n",
            "Requirement already satisfied: charset-normalizer<4,>=2 in /usr/local/lib/python3.10/dist-packages (from requests->transformers>=4.33.0->FlagEmbedding==1.2.11) (3.3.2)\n",
            "Requirement already satisfied: idna<4,>=2.5 in /usr/local/lib/python3.10/dist-packages (from requests->transformers>=4.33.0->FlagEmbedding==1.2.11) (3.10)\n",
            "Requirement already satisfied: urllib3<3,>=1.21.1 in /usr/local/lib/python3.10/dist-packages (from requests->transformers>=4.33.0->FlagEmbedding==1.2.11) (2.2.3)\n",
            "Requirement already satisfied: certifi>=2017.4.17 in /usr/local/lib/python3.10/dist-packages (from requests->transformers>=4.33.0->FlagEmbedding==1.2.11) (2024.8.30)\n",
            "Requirement already satisfied: MarkupSafe>=2.0 in /usr/local/lib/python3.10/dist-packages (from jinja2->torch>=1.6.0->FlagEmbedding==1.2.11) (2.1.5)\n",
            "Requirement already satisfied: python-dateutil>=2.8.2 in /usr/local/lib/python3.10/dist-packages (from pandas->datasets->FlagEmbedding==1.2.11) (2.8.2)\n",
            "Requirement already satisfied: pytz>=2020.1 in /usr/local/lib/python3.10/dist-packages (from pandas->datasets->FlagEmbedding==1.2.11) (2024.2)\n",
            "Requirement already satisfied: tzdata>=2022.7 in /usr/local/lib/python3.10/dist-packages (from pandas->datasets->FlagEmbedding==1.2.11) (2024.2)\n",
            "Requirement already satisfied: joblib>=1.2.0 in /usr/local/lib/python3.10/dist-packages (from scikit-learn->sentence_transformers->FlagEmbedding==1.2.11) (1.4.2)\n",
            "Requirement already satisfied: threadpoolctl>=3.1.0 in /usr/local/lib/python3.10/dist-packages (from scikit-learn->sentence_transformers->FlagEmbedding==1.2.11) (3.5.0)\n",
            "Requirement already satisfied: mpmath<1.4,>=1.1.0 in /usr/local/lib/python3.10/dist-packages (from sympy->torch>=1.6.0->FlagEmbedding==1.2.11) (1.3.0)\n",
            "Requirement already satisfied: six>=1.5 in /usr/local/lib/python3.10/dist-packages (from python-dateutil>=2.8.2->pandas->datasets->FlagEmbedding==1.2.11) (1.16.0)\n",
            "time: 41.2 s (started: 2024-10-11 16:00:17 +00:00)\n"
          ]
        }
      ],
      "source": [
        "!pip install llama-index\n",
        "!pip install llama-index-core==0.10.6.post1\n",
        "!pip install llama-index-embeddings-openai\n",
        "!pip install llama-index-postprocessor-flag-embedding-reranker\n",
        "!pip install git+https://github.com/FlagOpen/FlagEmbedding.git\n",
        "\n"
      ]
    },
    {
      "cell_type": "code",
      "source": [
        "!pip install llama-index-llms-groq"
      ],
      "metadata": {
        "colab": {
          "base_uri": "https://localhost:8080/"
        },
        "id": "q0tZ9rUKcdaB",
        "outputId": "9221b834-3c62-4b0f-f33b-bd79e6260638",
        "collapsed": true
      },
      "execution_count": 107,
      "outputs": [
        {
          "output_type": "stream",
          "name": "stdout",
          "text": [
            "Requirement already satisfied: llama-index-llms-groq in /usr/local/lib/python3.10/dist-packages (0.2.0)\n",
            "Requirement already satisfied: llama-index-core<0.12.0,>=0.11.0 in /usr/local/lib/python3.10/dist-packages (from llama-index-llms-groq) (0.11.17)\n",
            "Requirement already satisfied: llama-index-llms-openai-like<0.3.0,>=0.2.0 in /usr/local/lib/python3.10/dist-packages (from llama-index-llms-groq) (0.2.0)\n",
            "Requirement already satisfied: PyYAML>=6.0.1 in /usr/local/lib/python3.10/dist-packages (from llama-index-core<0.12.0,>=0.11.0->llama-index-llms-groq) (6.0.2)\n",
            "Requirement already satisfied: SQLAlchemy>=1.4.49 in /usr/local/lib/python3.10/dist-packages (from SQLAlchemy[asyncio]>=1.4.49->llama-index-core<0.12.0,>=0.11.0->llama-index-llms-groq) (2.0.35)\n",
            "Requirement already satisfied: aiohttp<4.0.0,>=3.8.6 in /usr/local/lib/python3.10/dist-packages (from llama-index-core<0.12.0,>=0.11.0->llama-index-llms-groq) (3.10.9)\n",
            "Requirement already satisfied: dataclasses-json in /usr/local/lib/python3.10/dist-packages (from llama-index-core<0.12.0,>=0.11.0->llama-index-llms-groq) (0.6.7)\n",
            "Requirement already satisfied: deprecated>=1.2.9.3 in /usr/local/lib/python3.10/dist-packages (from llama-index-core<0.12.0,>=0.11.0->llama-index-llms-groq) (1.2.14)\n",
            "Requirement already satisfied: dirtyjson<2.0.0,>=1.0.8 in /usr/local/lib/python3.10/dist-packages (from llama-index-core<0.12.0,>=0.11.0->llama-index-llms-groq) (1.0.8)\n",
            "Requirement already satisfied: fsspec>=2023.5.0 in /usr/local/lib/python3.10/dist-packages (from llama-index-core<0.12.0,>=0.11.0->llama-index-llms-groq) (2024.6.1)\n",
            "Requirement already satisfied: httpx in /usr/local/lib/python3.10/dist-packages (from llama-index-core<0.12.0,>=0.11.0->llama-index-llms-groq) (0.27.2)\n",
            "Requirement already satisfied: nest-asyncio<2.0.0,>=1.5.8 in /usr/local/lib/python3.10/dist-packages (from llama-index-core<0.12.0,>=0.11.0->llama-index-llms-groq) (1.6.0)\n",
            "Requirement already satisfied: networkx>=3.0 in /usr/local/lib/python3.10/dist-packages (from llama-index-core<0.12.0,>=0.11.0->llama-index-llms-groq) (3.3)\n",
            "Requirement already satisfied: nltk>3.8.1 in /usr/local/lib/python3.10/dist-packages (from llama-index-core<0.12.0,>=0.11.0->llama-index-llms-groq) (3.9.1)\n",
            "Requirement already satisfied: numpy<2.0.0 in /usr/local/lib/python3.10/dist-packages (from llama-index-core<0.12.0,>=0.11.0->llama-index-llms-groq) (1.26.4)\n",
            "Requirement already satisfied: pillow>=9.0.0 in /usr/local/lib/python3.10/dist-packages (from llama-index-core<0.12.0,>=0.11.0->llama-index-llms-groq) (10.4.0)\n",
            "Requirement already satisfied: pydantic<3.0.0,>=2.7.0 in /usr/local/lib/python3.10/dist-packages (from llama-index-core<0.12.0,>=0.11.0->llama-index-llms-groq) (2.9.2)\n",
            "Requirement already satisfied: requests>=2.31.0 in /usr/local/lib/python3.10/dist-packages (from llama-index-core<0.12.0,>=0.11.0->llama-index-llms-groq) (2.32.3)\n",
            "Requirement already satisfied: tenacity!=8.4.0,<9.0.0,>=8.2.0 in /usr/local/lib/python3.10/dist-packages (from llama-index-core<0.12.0,>=0.11.0->llama-index-llms-groq) (8.5.0)\n",
            "Requirement already satisfied: tiktoken>=0.3.3 in /usr/local/lib/python3.10/dist-packages (from llama-index-core<0.12.0,>=0.11.0->llama-index-llms-groq) (0.8.0)\n",
            "Requirement already satisfied: tqdm<5.0.0,>=4.66.1 in /usr/local/lib/python3.10/dist-packages (from llama-index-core<0.12.0,>=0.11.0->llama-index-llms-groq) (4.66.5)\n",
            "Requirement already satisfied: typing-extensions>=4.5.0 in /usr/local/lib/python3.10/dist-packages (from llama-index-core<0.12.0,>=0.11.0->llama-index-llms-groq) (4.12.2)\n",
            "Requirement already satisfied: typing-inspect>=0.8.0 in /usr/local/lib/python3.10/dist-packages (from llama-index-core<0.12.0,>=0.11.0->llama-index-llms-groq) (0.9.0)\n",
            "Requirement already satisfied: wrapt in /usr/local/lib/python3.10/dist-packages (from llama-index-core<0.12.0,>=0.11.0->llama-index-llms-groq) (1.16.0)\n",
            "Requirement already satisfied: llama-index-llms-openai<0.3.0,>=0.2.0 in /usr/local/lib/python3.10/dist-packages (from llama-index-llms-openai-like<0.3.0,>=0.2.0->llama-index-llms-groq) (0.2.13)\n",
            "Requirement already satisfied: transformers<5.0.0,>=4.37.0 in /usr/local/lib/python3.10/dist-packages (from llama-index-llms-openai-like<0.3.0,>=0.2.0->llama-index-llms-groq) (4.44.2)\n",
            "Requirement already satisfied: aiohappyeyeballs>=2.3.0 in /usr/local/lib/python3.10/dist-packages (from aiohttp<4.0.0,>=3.8.6->llama-index-core<0.12.0,>=0.11.0->llama-index-llms-groq) (2.4.3)\n",
            "Requirement already satisfied: aiosignal>=1.1.2 in /usr/local/lib/python3.10/dist-packages (from aiohttp<4.0.0,>=3.8.6->llama-index-core<0.12.0,>=0.11.0->llama-index-llms-groq) (1.3.1)\n",
            "Requirement already satisfied: attrs>=17.3.0 in /usr/local/lib/python3.10/dist-packages (from aiohttp<4.0.0,>=3.8.6->llama-index-core<0.12.0,>=0.11.0->llama-index-llms-groq) (24.2.0)\n",
            "Requirement already satisfied: frozenlist>=1.1.1 in /usr/local/lib/python3.10/dist-packages (from aiohttp<4.0.0,>=3.8.6->llama-index-core<0.12.0,>=0.11.0->llama-index-llms-groq) (1.4.1)\n",
            "Requirement already satisfied: multidict<7.0,>=4.5 in /usr/local/lib/python3.10/dist-packages (from aiohttp<4.0.0,>=3.8.6->llama-index-core<0.12.0,>=0.11.0->llama-index-llms-groq) (6.1.0)\n",
            "Requirement already satisfied: yarl<2.0,>=1.12.0 in /usr/local/lib/python3.10/dist-packages (from aiohttp<4.0.0,>=3.8.6->llama-index-core<0.12.0,>=0.11.0->llama-index-llms-groq) (1.13.1)\n",
            "Requirement already satisfied: async-timeout<5.0,>=4.0 in /usr/local/lib/python3.10/dist-packages (from aiohttp<4.0.0,>=3.8.6->llama-index-core<0.12.0,>=0.11.0->llama-index-llms-groq) (4.0.3)\n",
            "Requirement already satisfied: openai<2.0.0,>=1.40.0 in /usr/local/lib/python3.10/dist-packages (from llama-index-llms-openai<0.3.0,>=0.2.0->llama-index-llms-openai-like<0.3.0,>=0.2.0->llama-index-llms-groq) (1.51.2)\n",
            "Requirement already satisfied: click in /usr/local/lib/python3.10/dist-packages (from nltk>3.8.1->llama-index-core<0.12.0,>=0.11.0->llama-index-llms-groq) (8.1.7)\n",
            "Requirement already satisfied: joblib in /usr/local/lib/python3.10/dist-packages (from nltk>3.8.1->llama-index-core<0.12.0,>=0.11.0->llama-index-llms-groq) (1.4.2)\n",
            "Requirement already satisfied: regex>=2021.8.3 in /usr/local/lib/python3.10/dist-packages (from nltk>3.8.1->llama-index-core<0.12.0,>=0.11.0->llama-index-llms-groq) (2024.9.11)\n",
            "Requirement already satisfied: annotated-types>=0.6.0 in /usr/local/lib/python3.10/dist-packages (from pydantic<3.0.0,>=2.7.0->llama-index-core<0.12.0,>=0.11.0->llama-index-llms-groq) (0.7.0)\n",
            "Requirement already satisfied: pydantic-core==2.23.4 in /usr/local/lib/python3.10/dist-packages (from pydantic<3.0.0,>=2.7.0->llama-index-core<0.12.0,>=0.11.0->llama-index-llms-groq) (2.23.4)\n",
            "Requirement already satisfied: charset-normalizer<4,>=2 in /usr/local/lib/python3.10/dist-packages (from requests>=2.31.0->llama-index-core<0.12.0,>=0.11.0->llama-index-llms-groq) (3.3.2)\n",
            "Requirement already satisfied: idna<4,>=2.5 in /usr/local/lib/python3.10/dist-packages (from requests>=2.31.0->llama-index-core<0.12.0,>=0.11.0->llama-index-llms-groq) (3.10)\n",
            "Requirement already satisfied: urllib3<3,>=1.21.1 in /usr/local/lib/python3.10/dist-packages (from requests>=2.31.0->llama-index-core<0.12.0,>=0.11.0->llama-index-llms-groq) (2.2.3)\n",
            "Requirement already satisfied: certifi>=2017.4.17 in /usr/local/lib/python3.10/dist-packages (from requests>=2.31.0->llama-index-core<0.12.0,>=0.11.0->llama-index-llms-groq) (2024.8.30)\n",
            "Requirement already satisfied: greenlet!=0.4.17 in /usr/local/lib/python3.10/dist-packages (from SQLAlchemy>=1.4.49->SQLAlchemy[asyncio]>=1.4.49->llama-index-core<0.12.0,>=0.11.0->llama-index-llms-groq) (3.1.1)\n",
            "Requirement already satisfied: filelock in /usr/local/lib/python3.10/dist-packages (from transformers<5.0.0,>=4.37.0->llama-index-llms-openai-like<0.3.0,>=0.2.0->llama-index-llms-groq) (3.16.1)\n",
            "Requirement already satisfied: huggingface-hub<1.0,>=0.23.2 in /usr/local/lib/python3.10/dist-packages (from transformers<5.0.0,>=4.37.0->llama-index-llms-openai-like<0.3.0,>=0.2.0->llama-index-llms-groq) (0.24.7)\n",
            "Requirement already satisfied: packaging>=20.0 in /usr/local/lib/python3.10/dist-packages (from transformers<5.0.0,>=4.37.0->llama-index-llms-openai-like<0.3.0,>=0.2.0->llama-index-llms-groq) (24.1)\n",
            "Requirement already satisfied: safetensors>=0.4.1 in /usr/local/lib/python3.10/dist-packages (from transformers<5.0.0,>=4.37.0->llama-index-llms-openai-like<0.3.0,>=0.2.0->llama-index-llms-groq) (0.4.5)\n",
            "Requirement already satisfied: tokenizers<0.20,>=0.19 in /usr/local/lib/python3.10/dist-packages (from transformers<5.0.0,>=4.37.0->llama-index-llms-openai-like<0.3.0,>=0.2.0->llama-index-llms-groq) (0.19.1)\n",
            "Requirement already satisfied: mypy-extensions>=0.3.0 in /usr/local/lib/python3.10/dist-packages (from typing-inspect>=0.8.0->llama-index-core<0.12.0,>=0.11.0->llama-index-llms-groq) (1.0.0)\n",
            "Requirement already satisfied: marshmallow<4.0.0,>=3.18.0 in /usr/local/lib/python3.10/dist-packages (from dataclasses-json->llama-index-core<0.12.0,>=0.11.0->llama-index-llms-groq) (3.22.0)\n",
            "Requirement already satisfied: anyio in /usr/local/lib/python3.10/dist-packages (from httpx->llama-index-core<0.12.0,>=0.11.0->llama-index-llms-groq) (3.7.1)\n",
            "Requirement already satisfied: httpcore==1.* in /usr/local/lib/python3.10/dist-packages (from httpx->llama-index-core<0.12.0,>=0.11.0->llama-index-llms-groq) (1.0.6)\n",
            "Requirement already satisfied: sniffio in /usr/local/lib/python3.10/dist-packages (from httpx->llama-index-core<0.12.0,>=0.11.0->llama-index-llms-groq) (1.3.1)\n",
            "Requirement already satisfied: h11<0.15,>=0.13 in /usr/local/lib/python3.10/dist-packages (from httpcore==1.*->httpx->llama-index-core<0.12.0,>=0.11.0->llama-index-llms-groq) (0.14.0)\n",
            "Requirement already satisfied: distro<2,>=1.7.0 in /usr/lib/python3/dist-packages (from openai<2.0.0,>=1.40.0->llama-index-llms-openai<0.3.0,>=0.2.0->llama-index-llms-openai-like<0.3.0,>=0.2.0->llama-index-llms-groq) (1.7.0)\n",
            "Requirement already satisfied: jiter<1,>=0.4.0 in /usr/local/lib/python3.10/dist-packages (from openai<2.0.0,>=1.40.0->llama-index-llms-openai<0.3.0,>=0.2.0->llama-index-llms-openai-like<0.3.0,>=0.2.0->llama-index-llms-groq) (0.6.1)\n",
            "Requirement already satisfied: exceptiongroup in /usr/local/lib/python3.10/dist-packages (from anyio->httpx->llama-index-core<0.12.0,>=0.11.0->llama-index-llms-groq) (1.2.2)\n",
            "time: 5.04 s (started: 2024-10-11 16:00:58 +00:00)\n"
          ]
        }
      ]
    },
    {
      "cell_type": "code",
      "source": [
        "!pip install llama-index-embeddings-langchain"
      ],
      "metadata": {
        "colab": {
          "base_uri": "https://localhost:8080/"
        },
        "id": "0oTnke5OrtHU",
        "outputId": "6b91ac2c-5bed-486c-8e2b-2c28b503c8d1",
        "collapsed": true
      },
      "execution_count": 108,
      "outputs": [
        {
          "output_type": "stream",
          "name": "stdout",
          "text": [
            "Requirement already satisfied: llama-index-embeddings-langchain in /usr/local/lib/python3.10/dist-packages (0.2.1)\n",
            "Requirement already satisfied: llama-index-core<0.12.0,>=0.11.0 in /usr/local/lib/python3.10/dist-packages (from llama-index-embeddings-langchain) (0.11.17)\n",
            "Requirement already satisfied: PyYAML>=6.0.1 in /usr/local/lib/python3.10/dist-packages (from llama-index-core<0.12.0,>=0.11.0->llama-index-embeddings-langchain) (6.0.2)\n",
            "Requirement already satisfied: SQLAlchemy>=1.4.49 in /usr/local/lib/python3.10/dist-packages (from SQLAlchemy[asyncio]>=1.4.49->llama-index-core<0.12.0,>=0.11.0->llama-index-embeddings-langchain) (2.0.35)\n",
            "Requirement already satisfied: aiohttp<4.0.0,>=3.8.6 in /usr/local/lib/python3.10/dist-packages (from llama-index-core<0.12.0,>=0.11.0->llama-index-embeddings-langchain) (3.10.9)\n",
            "Requirement already satisfied: dataclasses-json in /usr/local/lib/python3.10/dist-packages (from llama-index-core<0.12.0,>=0.11.0->llama-index-embeddings-langchain) (0.6.7)\n",
            "Requirement already satisfied: deprecated>=1.2.9.3 in /usr/local/lib/python3.10/dist-packages (from llama-index-core<0.12.0,>=0.11.0->llama-index-embeddings-langchain) (1.2.14)\n",
            "Requirement already satisfied: dirtyjson<2.0.0,>=1.0.8 in /usr/local/lib/python3.10/dist-packages (from llama-index-core<0.12.0,>=0.11.0->llama-index-embeddings-langchain) (1.0.8)\n",
            "Requirement already satisfied: fsspec>=2023.5.0 in /usr/local/lib/python3.10/dist-packages (from llama-index-core<0.12.0,>=0.11.0->llama-index-embeddings-langchain) (2024.6.1)\n",
            "Requirement already satisfied: httpx in /usr/local/lib/python3.10/dist-packages (from llama-index-core<0.12.0,>=0.11.0->llama-index-embeddings-langchain) (0.27.2)\n",
            "Requirement already satisfied: nest-asyncio<2.0.0,>=1.5.8 in /usr/local/lib/python3.10/dist-packages (from llama-index-core<0.12.0,>=0.11.0->llama-index-embeddings-langchain) (1.6.0)\n",
            "Requirement already satisfied: networkx>=3.0 in /usr/local/lib/python3.10/dist-packages (from llama-index-core<0.12.0,>=0.11.0->llama-index-embeddings-langchain) (3.3)\n",
            "Requirement already satisfied: nltk>3.8.1 in /usr/local/lib/python3.10/dist-packages (from llama-index-core<0.12.0,>=0.11.0->llama-index-embeddings-langchain) (3.9.1)\n",
            "Requirement already satisfied: numpy<2.0.0 in /usr/local/lib/python3.10/dist-packages (from llama-index-core<0.12.0,>=0.11.0->llama-index-embeddings-langchain) (1.26.4)\n",
            "Requirement already satisfied: pillow>=9.0.0 in /usr/local/lib/python3.10/dist-packages (from llama-index-core<0.12.0,>=0.11.0->llama-index-embeddings-langchain) (10.4.0)\n",
            "Requirement already satisfied: pydantic<3.0.0,>=2.7.0 in /usr/local/lib/python3.10/dist-packages (from llama-index-core<0.12.0,>=0.11.0->llama-index-embeddings-langchain) (2.9.2)\n",
            "Requirement already satisfied: requests>=2.31.0 in /usr/local/lib/python3.10/dist-packages (from llama-index-core<0.12.0,>=0.11.0->llama-index-embeddings-langchain) (2.32.3)\n",
            "Requirement already satisfied: tenacity!=8.4.0,<9.0.0,>=8.2.0 in /usr/local/lib/python3.10/dist-packages (from llama-index-core<0.12.0,>=0.11.0->llama-index-embeddings-langchain) (8.5.0)\n",
            "Requirement already satisfied: tiktoken>=0.3.3 in /usr/local/lib/python3.10/dist-packages (from llama-index-core<0.12.0,>=0.11.0->llama-index-embeddings-langchain) (0.8.0)\n",
            "Requirement already satisfied: tqdm<5.0.0,>=4.66.1 in /usr/local/lib/python3.10/dist-packages (from llama-index-core<0.12.0,>=0.11.0->llama-index-embeddings-langchain) (4.66.5)\n",
            "Requirement already satisfied: typing-extensions>=4.5.0 in /usr/local/lib/python3.10/dist-packages (from llama-index-core<0.12.0,>=0.11.0->llama-index-embeddings-langchain) (4.12.2)\n",
            "Requirement already satisfied: typing-inspect>=0.8.0 in /usr/local/lib/python3.10/dist-packages (from llama-index-core<0.12.0,>=0.11.0->llama-index-embeddings-langchain) (0.9.0)\n",
            "Requirement already satisfied: wrapt in /usr/local/lib/python3.10/dist-packages (from llama-index-core<0.12.0,>=0.11.0->llama-index-embeddings-langchain) (1.16.0)\n",
            "Requirement already satisfied: aiohappyeyeballs>=2.3.0 in /usr/local/lib/python3.10/dist-packages (from aiohttp<4.0.0,>=3.8.6->llama-index-core<0.12.0,>=0.11.0->llama-index-embeddings-langchain) (2.4.3)\n",
            "Requirement already satisfied: aiosignal>=1.1.2 in /usr/local/lib/python3.10/dist-packages (from aiohttp<4.0.0,>=3.8.6->llama-index-core<0.12.0,>=0.11.0->llama-index-embeddings-langchain) (1.3.1)\n",
            "Requirement already satisfied: attrs>=17.3.0 in /usr/local/lib/python3.10/dist-packages (from aiohttp<4.0.0,>=3.8.6->llama-index-core<0.12.0,>=0.11.0->llama-index-embeddings-langchain) (24.2.0)\n",
            "Requirement already satisfied: frozenlist>=1.1.1 in /usr/local/lib/python3.10/dist-packages (from aiohttp<4.0.0,>=3.8.6->llama-index-core<0.12.0,>=0.11.0->llama-index-embeddings-langchain) (1.4.1)\n",
            "Requirement already satisfied: multidict<7.0,>=4.5 in /usr/local/lib/python3.10/dist-packages (from aiohttp<4.0.0,>=3.8.6->llama-index-core<0.12.0,>=0.11.0->llama-index-embeddings-langchain) (6.1.0)\n",
            "Requirement already satisfied: yarl<2.0,>=1.12.0 in /usr/local/lib/python3.10/dist-packages (from aiohttp<4.0.0,>=3.8.6->llama-index-core<0.12.0,>=0.11.0->llama-index-embeddings-langchain) (1.13.1)\n",
            "Requirement already satisfied: async-timeout<5.0,>=4.0 in /usr/local/lib/python3.10/dist-packages (from aiohttp<4.0.0,>=3.8.6->llama-index-core<0.12.0,>=0.11.0->llama-index-embeddings-langchain) (4.0.3)\n",
            "Requirement already satisfied: click in /usr/local/lib/python3.10/dist-packages (from nltk>3.8.1->llama-index-core<0.12.0,>=0.11.0->llama-index-embeddings-langchain) (8.1.7)\n",
            "Requirement already satisfied: joblib in /usr/local/lib/python3.10/dist-packages (from nltk>3.8.1->llama-index-core<0.12.0,>=0.11.0->llama-index-embeddings-langchain) (1.4.2)\n",
            "Requirement already satisfied: regex>=2021.8.3 in /usr/local/lib/python3.10/dist-packages (from nltk>3.8.1->llama-index-core<0.12.0,>=0.11.0->llama-index-embeddings-langchain) (2024.9.11)\n",
            "Requirement already satisfied: annotated-types>=0.6.0 in /usr/local/lib/python3.10/dist-packages (from pydantic<3.0.0,>=2.7.0->llama-index-core<0.12.0,>=0.11.0->llama-index-embeddings-langchain) (0.7.0)\n",
            "Requirement already satisfied: pydantic-core==2.23.4 in /usr/local/lib/python3.10/dist-packages (from pydantic<3.0.0,>=2.7.0->llama-index-core<0.12.0,>=0.11.0->llama-index-embeddings-langchain) (2.23.4)\n",
            "Requirement already satisfied: charset-normalizer<4,>=2 in /usr/local/lib/python3.10/dist-packages (from requests>=2.31.0->llama-index-core<0.12.0,>=0.11.0->llama-index-embeddings-langchain) (3.3.2)\n",
            "Requirement already satisfied: idna<4,>=2.5 in /usr/local/lib/python3.10/dist-packages (from requests>=2.31.0->llama-index-core<0.12.0,>=0.11.0->llama-index-embeddings-langchain) (3.10)\n",
            "Requirement already satisfied: urllib3<3,>=1.21.1 in /usr/local/lib/python3.10/dist-packages (from requests>=2.31.0->llama-index-core<0.12.0,>=0.11.0->llama-index-embeddings-langchain) (2.2.3)\n",
            "Requirement already satisfied: certifi>=2017.4.17 in /usr/local/lib/python3.10/dist-packages (from requests>=2.31.0->llama-index-core<0.12.0,>=0.11.0->llama-index-embeddings-langchain) (2024.8.30)\n",
            "Requirement already satisfied: greenlet!=0.4.17 in /usr/local/lib/python3.10/dist-packages (from SQLAlchemy>=1.4.49->SQLAlchemy[asyncio]>=1.4.49->llama-index-core<0.12.0,>=0.11.0->llama-index-embeddings-langchain) (3.1.1)\n",
            "Requirement already satisfied: mypy-extensions>=0.3.0 in /usr/local/lib/python3.10/dist-packages (from typing-inspect>=0.8.0->llama-index-core<0.12.0,>=0.11.0->llama-index-embeddings-langchain) (1.0.0)\n",
            "Requirement already satisfied: marshmallow<4.0.0,>=3.18.0 in /usr/local/lib/python3.10/dist-packages (from dataclasses-json->llama-index-core<0.12.0,>=0.11.0->llama-index-embeddings-langchain) (3.22.0)\n",
            "Requirement already satisfied: anyio in /usr/local/lib/python3.10/dist-packages (from httpx->llama-index-core<0.12.0,>=0.11.0->llama-index-embeddings-langchain) (3.7.1)\n",
            "Requirement already satisfied: httpcore==1.* in /usr/local/lib/python3.10/dist-packages (from httpx->llama-index-core<0.12.0,>=0.11.0->llama-index-embeddings-langchain) (1.0.6)\n",
            "Requirement already satisfied: sniffio in /usr/local/lib/python3.10/dist-packages (from httpx->llama-index-core<0.12.0,>=0.11.0->llama-index-embeddings-langchain) (1.3.1)\n",
            "Requirement already satisfied: h11<0.15,>=0.13 in /usr/local/lib/python3.10/dist-packages (from httpcore==1.*->httpx->llama-index-core<0.12.0,>=0.11.0->llama-index-embeddings-langchain) (0.14.0)\n",
            "Requirement already satisfied: packaging>=17.0 in /usr/local/lib/python3.10/dist-packages (from marshmallow<4.0.0,>=3.18.0->dataclasses-json->llama-index-core<0.12.0,>=0.11.0->llama-index-embeddings-langchain) (24.1)\n",
            "Requirement already satisfied: exceptiongroup in /usr/local/lib/python3.10/dist-packages (from anyio->httpx->llama-index-core<0.12.0,>=0.11.0->llama-index-embeddings-langchain) (1.2.2)\n",
            "time: 6.66 s (started: 2024-10-11 16:01:03 +00:00)\n"
          ]
        }
      ]
    },
    {
      "cell_type": "code",
      "source": [
        "!pip install llama-index-embeddings-huggingface"
      ],
      "metadata": {
        "colab": {
          "base_uri": "https://localhost:8080/"
        },
        "id": "5S-XjtBQhtqs",
        "outputId": "d2f843e5-4d76-48a1-e35c-e09b5fcb7713",
        "collapsed": true
      },
      "execution_count": 109,
      "outputs": [
        {
          "output_type": "stream",
          "name": "stdout",
          "text": [
            "Requirement already satisfied: llama-index-embeddings-huggingface in /usr/local/lib/python3.10/dist-packages (0.3.1)\n",
            "Requirement already satisfied: huggingface-hub>=0.19.0 in /usr/local/lib/python3.10/dist-packages (from huggingface-hub[inference]>=0.19.0->llama-index-embeddings-huggingface) (0.24.7)\n",
            "Requirement already satisfied: llama-index-core<0.12.0,>=0.11.0 in /usr/local/lib/python3.10/dist-packages (from llama-index-embeddings-huggingface) (0.11.17)\n",
            "Requirement already satisfied: sentence-transformers>=2.6.1 in /usr/local/lib/python3.10/dist-packages (from llama-index-embeddings-huggingface) (3.2.0)\n",
            "Requirement already satisfied: filelock in /usr/local/lib/python3.10/dist-packages (from huggingface-hub>=0.19.0->huggingface-hub[inference]>=0.19.0->llama-index-embeddings-huggingface) (3.16.1)\n",
            "Requirement already satisfied: fsspec>=2023.5.0 in /usr/local/lib/python3.10/dist-packages (from huggingface-hub>=0.19.0->huggingface-hub[inference]>=0.19.0->llama-index-embeddings-huggingface) (2024.6.1)\n",
            "Requirement already satisfied: packaging>=20.9 in /usr/local/lib/python3.10/dist-packages (from huggingface-hub>=0.19.0->huggingface-hub[inference]>=0.19.0->llama-index-embeddings-huggingface) (24.1)\n",
            "Requirement already satisfied: pyyaml>=5.1 in /usr/local/lib/python3.10/dist-packages (from huggingface-hub>=0.19.0->huggingface-hub[inference]>=0.19.0->llama-index-embeddings-huggingface) (6.0.2)\n",
            "Requirement already satisfied: requests in /usr/local/lib/python3.10/dist-packages (from huggingface-hub>=0.19.0->huggingface-hub[inference]>=0.19.0->llama-index-embeddings-huggingface) (2.32.3)\n",
            "Requirement already satisfied: tqdm>=4.42.1 in /usr/local/lib/python3.10/dist-packages (from huggingface-hub>=0.19.0->huggingface-hub[inference]>=0.19.0->llama-index-embeddings-huggingface) (4.66.5)\n",
            "Requirement already satisfied: typing-extensions>=3.7.4.3 in /usr/local/lib/python3.10/dist-packages (from huggingface-hub>=0.19.0->huggingface-hub[inference]>=0.19.0->llama-index-embeddings-huggingface) (4.12.2)\n",
            "Requirement already satisfied: aiohttp in /usr/local/lib/python3.10/dist-packages (from huggingface-hub[inference]>=0.19.0->llama-index-embeddings-huggingface) (3.10.9)\n",
            "Requirement already satisfied: minijinja>=1.0 in /usr/local/lib/python3.10/dist-packages (from huggingface-hub[inference]>=0.19.0->llama-index-embeddings-huggingface) (2.2.0)\n",
            "Requirement already satisfied: SQLAlchemy>=1.4.49 in /usr/local/lib/python3.10/dist-packages (from SQLAlchemy[asyncio]>=1.4.49->llama-index-core<0.12.0,>=0.11.0->llama-index-embeddings-huggingface) (2.0.35)\n",
            "Requirement already satisfied: dataclasses-json in /usr/local/lib/python3.10/dist-packages (from llama-index-core<0.12.0,>=0.11.0->llama-index-embeddings-huggingface) (0.6.7)\n",
            "Requirement already satisfied: deprecated>=1.2.9.3 in /usr/local/lib/python3.10/dist-packages (from llama-index-core<0.12.0,>=0.11.0->llama-index-embeddings-huggingface) (1.2.14)\n",
            "Requirement already satisfied: dirtyjson<2.0.0,>=1.0.8 in /usr/local/lib/python3.10/dist-packages (from llama-index-core<0.12.0,>=0.11.0->llama-index-embeddings-huggingface) (1.0.8)\n",
            "Requirement already satisfied: httpx in /usr/local/lib/python3.10/dist-packages (from llama-index-core<0.12.0,>=0.11.0->llama-index-embeddings-huggingface) (0.27.2)\n",
            "Requirement already satisfied: nest-asyncio<2.0.0,>=1.5.8 in /usr/local/lib/python3.10/dist-packages (from llama-index-core<0.12.0,>=0.11.0->llama-index-embeddings-huggingface) (1.6.0)\n",
            "Requirement already satisfied: networkx>=3.0 in /usr/local/lib/python3.10/dist-packages (from llama-index-core<0.12.0,>=0.11.0->llama-index-embeddings-huggingface) (3.3)\n",
            "Requirement already satisfied: nltk>3.8.1 in /usr/local/lib/python3.10/dist-packages (from llama-index-core<0.12.0,>=0.11.0->llama-index-embeddings-huggingface) (3.9.1)\n",
            "Requirement already satisfied: numpy<2.0.0 in /usr/local/lib/python3.10/dist-packages (from llama-index-core<0.12.0,>=0.11.0->llama-index-embeddings-huggingface) (1.26.4)\n",
            "Requirement already satisfied: pillow>=9.0.0 in /usr/local/lib/python3.10/dist-packages (from llama-index-core<0.12.0,>=0.11.0->llama-index-embeddings-huggingface) (10.4.0)\n",
            "Requirement already satisfied: pydantic<3.0.0,>=2.7.0 in /usr/local/lib/python3.10/dist-packages (from llama-index-core<0.12.0,>=0.11.0->llama-index-embeddings-huggingface) (2.9.2)\n",
            "Requirement already satisfied: tenacity!=8.4.0,<9.0.0,>=8.2.0 in /usr/local/lib/python3.10/dist-packages (from llama-index-core<0.12.0,>=0.11.0->llama-index-embeddings-huggingface) (8.5.0)\n",
            "Requirement already satisfied: tiktoken>=0.3.3 in /usr/local/lib/python3.10/dist-packages (from llama-index-core<0.12.0,>=0.11.0->llama-index-embeddings-huggingface) (0.8.0)\n",
            "Requirement already satisfied: typing-inspect>=0.8.0 in /usr/local/lib/python3.10/dist-packages (from llama-index-core<0.12.0,>=0.11.0->llama-index-embeddings-huggingface) (0.9.0)\n",
            "Requirement already satisfied: wrapt in /usr/local/lib/python3.10/dist-packages (from llama-index-core<0.12.0,>=0.11.0->llama-index-embeddings-huggingface) (1.16.0)\n",
            "Requirement already satisfied: transformers<5.0.0,>=4.41.0 in /usr/local/lib/python3.10/dist-packages (from sentence-transformers>=2.6.1->llama-index-embeddings-huggingface) (4.44.2)\n",
            "Requirement already satisfied: torch>=1.11.0 in /usr/local/lib/python3.10/dist-packages (from sentence-transformers>=2.6.1->llama-index-embeddings-huggingface) (2.4.1+cu121)\n",
            "Requirement already satisfied: scikit-learn in /usr/local/lib/python3.10/dist-packages (from sentence-transformers>=2.6.1->llama-index-embeddings-huggingface) (1.5.2)\n",
            "Requirement already satisfied: scipy in /usr/local/lib/python3.10/dist-packages (from sentence-transformers>=2.6.1->llama-index-embeddings-huggingface) (1.13.1)\n",
            "Requirement already satisfied: aiohappyeyeballs>=2.3.0 in /usr/local/lib/python3.10/dist-packages (from aiohttp->huggingface-hub[inference]>=0.19.0->llama-index-embeddings-huggingface) (2.4.3)\n",
            "Requirement already satisfied: aiosignal>=1.1.2 in /usr/local/lib/python3.10/dist-packages (from aiohttp->huggingface-hub[inference]>=0.19.0->llama-index-embeddings-huggingface) (1.3.1)\n",
            "Requirement already satisfied: attrs>=17.3.0 in /usr/local/lib/python3.10/dist-packages (from aiohttp->huggingface-hub[inference]>=0.19.0->llama-index-embeddings-huggingface) (24.2.0)\n",
            "Requirement already satisfied: frozenlist>=1.1.1 in /usr/local/lib/python3.10/dist-packages (from aiohttp->huggingface-hub[inference]>=0.19.0->llama-index-embeddings-huggingface) (1.4.1)\n",
            "Requirement already satisfied: multidict<7.0,>=4.5 in /usr/local/lib/python3.10/dist-packages (from aiohttp->huggingface-hub[inference]>=0.19.0->llama-index-embeddings-huggingface) (6.1.0)\n",
            "Requirement already satisfied: yarl<2.0,>=1.12.0 in /usr/local/lib/python3.10/dist-packages (from aiohttp->huggingface-hub[inference]>=0.19.0->llama-index-embeddings-huggingface) (1.13.1)\n",
            "Requirement already satisfied: async-timeout<5.0,>=4.0 in /usr/local/lib/python3.10/dist-packages (from aiohttp->huggingface-hub[inference]>=0.19.0->llama-index-embeddings-huggingface) (4.0.3)\n",
            "Requirement already satisfied: click in /usr/local/lib/python3.10/dist-packages (from nltk>3.8.1->llama-index-core<0.12.0,>=0.11.0->llama-index-embeddings-huggingface) (8.1.7)\n",
            "Requirement already satisfied: joblib in /usr/local/lib/python3.10/dist-packages (from nltk>3.8.1->llama-index-core<0.12.0,>=0.11.0->llama-index-embeddings-huggingface) (1.4.2)\n",
            "Requirement already satisfied: regex>=2021.8.3 in /usr/local/lib/python3.10/dist-packages (from nltk>3.8.1->llama-index-core<0.12.0,>=0.11.0->llama-index-embeddings-huggingface) (2024.9.11)\n",
            "Requirement already satisfied: annotated-types>=0.6.0 in /usr/local/lib/python3.10/dist-packages (from pydantic<3.0.0,>=2.7.0->llama-index-core<0.12.0,>=0.11.0->llama-index-embeddings-huggingface) (0.7.0)\n",
            "Requirement already satisfied: pydantic-core==2.23.4 in /usr/local/lib/python3.10/dist-packages (from pydantic<3.0.0,>=2.7.0->llama-index-core<0.12.0,>=0.11.0->llama-index-embeddings-huggingface) (2.23.4)\n",
            "Requirement already satisfied: charset-normalizer<4,>=2 in /usr/local/lib/python3.10/dist-packages (from requests->huggingface-hub>=0.19.0->huggingface-hub[inference]>=0.19.0->llama-index-embeddings-huggingface) (3.3.2)\n",
            "Requirement already satisfied: idna<4,>=2.5 in /usr/local/lib/python3.10/dist-packages (from requests->huggingface-hub>=0.19.0->huggingface-hub[inference]>=0.19.0->llama-index-embeddings-huggingface) (3.10)\n",
            "Requirement already satisfied: urllib3<3,>=1.21.1 in /usr/local/lib/python3.10/dist-packages (from requests->huggingface-hub>=0.19.0->huggingface-hub[inference]>=0.19.0->llama-index-embeddings-huggingface) (2.2.3)\n",
            "Requirement already satisfied: certifi>=2017.4.17 in /usr/local/lib/python3.10/dist-packages (from requests->huggingface-hub>=0.19.0->huggingface-hub[inference]>=0.19.0->llama-index-embeddings-huggingface) (2024.8.30)\n",
            "Requirement already satisfied: greenlet!=0.4.17 in /usr/local/lib/python3.10/dist-packages (from SQLAlchemy>=1.4.49->SQLAlchemy[asyncio]>=1.4.49->llama-index-core<0.12.0,>=0.11.0->llama-index-embeddings-huggingface) (3.1.1)\n",
            "Requirement already satisfied: sympy in /usr/local/lib/python3.10/dist-packages (from torch>=1.11.0->sentence-transformers>=2.6.1->llama-index-embeddings-huggingface) (1.13.3)\n",
            "Requirement already satisfied: jinja2 in /usr/local/lib/python3.10/dist-packages (from torch>=1.11.0->sentence-transformers>=2.6.1->llama-index-embeddings-huggingface) (3.1.4)\n",
            "Requirement already satisfied: safetensors>=0.4.1 in /usr/local/lib/python3.10/dist-packages (from transformers<5.0.0,>=4.41.0->sentence-transformers>=2.6.1->llama-index-embeddings-huggingface) (0.4.5)\n",
            "Requirement already satisfied: tokenizers<0.20,>=0.19 in /usr/local/lib/python3.10/dist-packages (from transformers<5.0.0,>=4.41.0->sentence-transformers>=2.6.1->llama-index-embeddings-huggingface) (0.19.1)\n",
            "Requirement already satisfied: mypy-extensions>=0.3.0 in /usr/local/lib/python3.10/dist-packages (from typing-inspect>=0.8.0->llama-index-core<0.12.0,>=0.11.0->llama-index-embeddings-huggingface) (1.0.0)\n",
            "Requirement already satisfied: marshmallow<4.0.0,>=3.18.0 in /usr/local/lib/python3.10/dist-packages (from dataclasses-json->llama-index-core<0.12.0,>=0.11.0->llama-index-embeddings-huggingface) (3.22.0)\n",
            "Requirement already satisfied: anyio in /usr/local/lib/python3.10/dist-packages (from httpx->llama-index-core<0.12.0,>=0.11.0->llama-index-embeddings-huggingface) (3.7.1)\n",
            "Requirement already satisfied: httpcore==1.* in /usr/local/lib/python3.10/dist-packages (from httpx->llama-index-core<0.12.0,>=0.11.0->llama-index-embeddings-huggingface) (1.0.6)\n",
            "Requirement already satisfied: sniffio in /usr/local/lib/python3.10/dist-packages (from httpx->llama-index-core<0.12.0,>=0.11.0->llama-index-embeddings-huggingface) (1.3.1)\n",
            "Requirement already satisfied: h11<0.15,>=0.13 in /usr/local/lib/python3.10/dist-packages (from httpcore==1.*->httpx->llama-index-core<0.12.0,>=0.11.0->llama-index-embeddings-huggingface) (0.14.0)\n",
            "Requirement already satisfied: threadpoolctl>=3.1.0 in /usr/local/lib/python3.10/dist-packages (from scikit-learn->sentence-transformers>=2.6.1->llama-index-embeddings-huggingface) (3.5.0)\n",
            "Requirement already satisfied: exceptiongroup in /usr/local/lib/python3.10/dist-packages (from anyio->httpx->llama-index-core<0.12.0,>=0.11.0->llama-index-embeddings-huggingface) (1.2.2)\n",
            "Requirement already satisfied: MarkupSafe>=2.0 in /usr/local/lib/python3.10/dist-packages (from jinja2->torch>=1.11.0->sentence-transformers>=2.6.1->llama-index-embeddings-huggingface) (2.1.5)\n",
            "Requirement already satisfied: mpmath<1.4,>=1.1.0 in /usr/local/lib/python3.10/dist-packages (from sympy->torch>=1.11.0->sentence-transformers>=2.6.1->llama-index-embeddings-huggingface) (1.3.0)\n",
            "time: 10.1 s (started: 2024-10-11 16:01:10 +00:00)\n"
          ]
        }
      ]
    },
    {
      "cell_type": "code",
      "source": [
        "!pip install langchain langchain_openai langchain_core"
      ],
      "metadata": {
        "colab": {
          "base_uri": "https://localhost:8080/"
        },
        "id": "vw1HPpURYCaS",
        "outputId": "f5874aa7-fa3d-4cbd-97a8-9d0703475362",
        "collapsed": true
      },
      "execution_count": 110,
      "outputs": [
        {
          "output_type": "stream",
          "name": "stdout",
          "text": [
            "Requirement already satisfied: langchain in /usr/local/lib/python3.10/dist-packages (0.3.3)\n",
            "Requirement already satisfied: langchain_openai in /usr/local/lib/python3.10/dist-packages (0.2.2)\n",
            "Requirement already satisfied: langchain_core in /usr/local/lib/python3.10/dist-packages (0.3.10)\n",
            "Requirement already satisfied: PyYAML>=5.3 in /usr/local/lib/python3.10/dist-packages (from langchain) (6.0.2)\n",
            "Requirement already satisfied: SQLAlchemy<3,>=1.4 in /usr/local/lib/python3.10/dist-packages (from langchain) (2.0.35)\n",
            "Requirement already satisfied: aiohttp<4.0.0,>=3.8.3 in /usr/local/lib/python3.10/dist-packages (from langchain) (3.10.9)\n",
            "Requirement already satisfied: async-timeout<5.0.0,>=4.0.0 in /usr/local/lib/python3.10/dist-packages (from langchain) (4.0.3)\n",
            "Requirement already satisfied: langchain-text-splitters<0.4.0,>=0.3.0 in /usr/local/lib/python3.10/dist-packages (from langchain) (0.3.0)\n",
            "Requirement already satisfied: langsmith<0.2.0,>=0.1.17 in /usr/local/lib/python3.10/dist-packages (from langchain) (0.1.134)\n",
            "Requirement already satisfied: numpy<2,>=1 in /usr/local/lib/python3.10/dist-packages (from langchain) (1.26.4)\n",
            "Requirement already satisfied: pydantic<3.0.0,>=2.7.4 in /usr/local/lib/python3.10/dist-packages (from langchain) (2.9.2)\n",
            "Requirement already satisfied: requests<3,>=2 in /usr/local/lib/python3.10/dist-packages (from langchain) (2.32.3)\n",
            "Requirement already satisfied: tenacity!=8.4.0,<9.0.0,>=8.1.0 in /usr/local/lib/python3.10/dist-packages (from langchain) (8.5.0)\n",
            "Requirement already satisfied: openai<2.0.0,>=1.40.0 in /usr/local/lib/python3.10/dist-packages (from langchain_openai) (1.51.2)\n",
            "Requirement already satisfied: tiktoken<1,>=0.7 in /usr/local/lib/python3.10/dist-packages (from langchain_openai) (0.8.0)\n",
            "Requirement already satisfied: jsonpatch<2.0,>=1.33 in /usr/local/lib/python3.10/dist-packages (from langchain_core) (1.33)\n",
            "Requirement already satisfied: packaging<25,>=23.2 in /usr/local/lib/python3.10/dist-packages (from langchain_core) (24.1)\n",
            "Requirement already satisfied: typing-extensions>=4.7 in /usr/local/lib/python3.10/dist-packages (from langchain_core) (4.12.2)\n",
            "Requirement already satisfied: aiohappyeyeballs>=2.3.0 in /usr/local/lib/python3.10/dist-packages (from aiohttp<4.0.0,>=3.8.3->langchain) (2.4.3)\n",
            "Requirement already satisfied: aiosignal>=1.1.2 in /usr/local/lib/python3.10/dist-packages (from aiohttp<4.0.0,>=3.8.3->langchain) (1.3.1)\n",
            "Requirement already satisfied: attrs>=17.3.0 in /usr/local/lib/python3.10/dist-packages (from aiohttp<4.0.0,>=3.8.3->langchain) (24.2.0)\n",
            "Requirement already satisfied: frozenlist>=1.1.1 in /usr/local/lib/python3.10/dist-packages (from aiohttp<4.0.0,>=3.8.3->langchain) (1.4.1)\n",
            "Requirement already satisfied: multidict<7.0,>=4.5 in /usr/local/lib/python3.10/dist-packages (from aiohttp<4.0.0,>=3.8.3->langchain) (6.1.0)\n",
            "Requirement already satisfied: yarl<2.0,>=1.12.0 in /usr/local/lib/python3.10/dist-packages (from aiohttp<4.0.0,>=3.8.3->langchain) (1.13.1)\n",
            "Requirement already satisfied: jsonpointer>=1.9 in /usr/local/lib/python3.10/dist-packages (from jsonpatch<2.0,>=1.33->langchain_core) (3.0.0)\n",
            "Requirement already satisfied: httpx<1,>=0.23.0 in /usr/local/lib/python3.10/dist-packages (from langsmith<0.2.0,>=0.1.17->langchain) (0.27.2)\n",
            "Requirement already satisfied: orjson<4.0.0,>=3.9.14 in /usr/local/lib/python3.10/dist-packages (from langsmith<0.2.0,>=0.1.17->langchain) (3.10.7)\n",
            "Requirement already satisfied: requests-toolbelt<2.0.0,>=1.0.0 in /usr/local/lib/python3.10/dist-packages (from langsmith<0.2.0,>=0.1.17->langchain) (1.0.0)\n",
            "Requirement already satisfied: anyio<5,>=3.5.0 in /usr/local/lib/python3.10/dist-packages (from openai<2.0.0,>=1.40.0->langchain_openai) (3.7.1)\n",
            "Requirement already satisfied: distro<2,>=1.7.0 in /usr/lib/python3/dist-packages (from openai<2.0.0,>=1.40.0->langchain_openai) (1.7.0)\n",
            "Requirement already satisfied: jiter<1,>=0.4.0 in /usr/local/lib/python3.10/dist-packages (from openai<2.0.0,>=1.40.0->langchain_openai) (0.6.1)\n",
            "Requirement already satisfied: sniffio in /usr/local/lib/python3.10/dist-packages (from openai<2.0.0,>=1.40.0->langchain_openai) (1.3.1)\n",
            "Requirement already satisfied: tqdm>4 in /usr/local/lib/python3.10/dist-packages (from openai<2.0.0,>=1.40.0->langchain_openai) (4.66.5)\n",
            "Requirement already satisfied: annotated-types>=0.6.0 in /usr/local/lib/python3.10/dist-packages (from pydantic<3.0.0,>=2.7.4->langchain) (0.7.0)\n",
            "Requirement already satisfied: pydantic-core==2.23.4 in /usr/local/lib/python3.10/dist-packages (from pydantic<3.0.0,>=2.7.4->langchain) (2.23.4)\n",
            "Requirement already satisfied: charset-normalizer<4,>=2 in /usr/local/lib/python3.10/dist-packages (from requests<3,>=2->langchain) (3.3.2)\n",
            "Requirement already satisfied: idna<4,>=2.5 in /usr/local/lib/python3.10/dist-packages (from requests<3,>=2->langchain) (3.10)\n",
            "Requirement already satisfied: urllib3<3,>=1.21.1 in /usr/local/lib/python3.10/dist-packages (from requests<3,>=2->langchain) (2.2.3)\n",
            "Requirement already satisfied: certifi>=2017.4.17 in /usr/local/lib/python3.10/dist-packages (from requests<3,>=2->langchain) (2024.8.30)\n",
            "Requirement already satisfied: greenlet!=0.4.17 in /usr/local/lib/python3.10/dist-packages (from SQLAlchemy<3,>=1.4->langchain) (3.1.1)\n",
            "Requirement already satisfied: regex>=2022.1.18 in /usr/local/lib/python3.10/dist-packages (from tiktoken<1,>=0.7->langchain_openai) (2024.9.11)\n",
            "Requirement already satisfied: exceptiongroup in /usr/local/lib/python3.10/dist-packages (from anyio<5,>=3.5.0->openai<2.0.0,>=1.40.0->langchain_openai) (1.2.2)\n",
            "Requirement already satisfied: httpcore==1.* in /usr/local/lib/python3.10/dist-packages (from httpx<1,>=0.23.0->langsmith<0.2.0,>=0.1.17->langchain) (1.0.6)\n",
            "Requirement already satisfied: h11<0.15,>=0.13 in /usr/local/lib/python3.10/dist-packages (from httpcore==1.*->httpx<1,>=0.23.0->langsmith<0.2.0,>=0.1.17->langchain) (0.14.0)\n",
            "time: 5.55 s (started: 2024-10-11 16:01:20 +00:00)\n"
          ]
        }
      ]
    },
    {
      "cell_type": "code",
      "source": [
        "!pip install llama-index-vector-stores-qdrant"
      ],
      "metadata": {
        "colab": {
          "base_uri": "https://localhost:8080/"
        },
        "id": "wnOik0LoY4p9",
        "outputId": "62853660-e136-4a6a-8bed-d695c2cc3ecc",
        "collapsed": true
      },
      "execution_count": 111,
      "outputs": [
        {
          "output_type": "stream",
          "name": "stdout",
          "text": [
            "Requirement already satisfied: llama-index-vector-stores-qdrant in /usr/local/lib/python3.10/dist-packages (0.3.1)\n",
            "Requirement already satisfied: grpcio<2.0.0,>=1.60.0 in /usr/local/lib/python3.10/dist-packages (from llama-index-vector-stores-qdrant) (1.66.2)\n",
            "Requirement already satisfied: llama-index-core<0.12.0,>=0.11.0 in /usr/local/lib/python3.10/dist-packages (from llama-index-vector-stores-qdrant) (0.11.17)\n",
            "Requirement already satisfied: qdrant-client>=1.7.1 in /usr/local/lib/python3.10/dist-packages (from llama-index-vector-stores-qdrant) (1.12.0)\n",
            "Requirement already satisfied: PyYAML>=6.0.1 in /usr/local/lib/python3.10/dist-packages (from llama-index-core<0.12.0,>=0.11.0->llama-index-vector-stores-qdrant) (6.0.2)\n",
            "Requirement already satisfied: SQLAlchemy>=1.4.49 in /usr/local/lib/python3.10/dist-packages (from SQLAlchemy[asyncio]>=1.4.49->llama-index-core<0.12.0,>=0.11.0->llama-index-vector-stores-qdrant) (2.0.35)\n",
            "Requirement already satisfied: aiohttp<4.0.0,>=3.8.6 in /usr/local/lib/python3.10/dist-packages (from llama-index-core<0.12.0,>=0.11.0->llama-index-vector-stores-qdrant) (3.10.9)\n",
            "Requirement already satisfied: dataclasses-json in /usr/local/lib/python3.10/dist-packages (from llama-index-core<0.12.0,>=0.11.0->llama-index-vector-stores-qdrant) (0.6.7)\n",
            "Requirement already satisfied: deprecated>=1.2.9.3 in /usr/local/lib/python3.10/dist-packages (from llama-index-core<0.12.0,>=0.11.0->llama-index-vector-stores-qdrant) (1.2.14)\n",
            "Requirement already satisfied: dirtyjson<2.0.0,>=1.0.8 in /usr/local/lib/python3.10/dist-packages (from llama-index-core<0.12.0,>=0.11.0->llama-index-vector-stores-qdrant) (1.0.8)\n",
            "Requirement already satisfied: fsspec>=2023.5.0 in /usr/local/lib/python3.10/dist-packages (from llama-index-core<0.12.0,>=0.11.0->llama-index-vector-stores-qdrant) (2024.6.1)\n",
            "Requirement already satisfied: httpx in /usr/local/lib/python3.10/dist-packages (from llama-index-core<0.12.0,>=0.11.0->llama-index-vector-stores-qdrant) (0.27.2)\n",
            "Requirement already satisfied: nest-asyncio<2.0.0,>=1.5.8 in /usr/local/lib/python3.10/dist-packages (from llama-index-core<0.12.0,>=0.11.0->llama-index-vector-stores-qdrant) (1.6.0)\n",
            "Requirement already satisfied: networkx>=3.0 in /usr/local/lib/python3.10/dist-packages (from llama-index-core<0.12.0,>=0.11.0->llama-index-vector-stores-qdrant) (3.3)\n",
            "Requirement already satisfied: nltk>3.8.1 in /usr/local/lib/python3.10/dist-packages (from llama-index-core<0.12.0,>=0.11.0->llama-index-vector-stores-qdrant) (3.9.1)\n",
            "Requirement already satisfied: numpy<2.0.0 in /usr/local/lib/python3.10/dist-packages (from llama-index-core<0.12.0,>=0.11.0->llama-index-vector-stores-qdrant) (1.26.4)\n",
            "Requirement already satisfied: pillow>=9.0.0 in /usr/local/lib/python3.10/dist-packages (from llama-index-core<0.12.0,>=0.11.0->llama-index-vector-stores-qdrant) (10.4.0)\n",
            "Requirement already satisfied: pydantic<3.0.0,>=2.7.0 in /usr/local/lib/python3.10/dist-packages (from llama-index-core<0.12.0,>=0.11.0->llama-index-vector-stores-qdrant) (2.9.2)\n",
            "Requirement already satisfied: requests>=2.31.0 in /usr/local/lib/python3.10/dist-packages (from llama-index-core<0.12.0,>=0.11.0->llama-index-vector-stores-qdrant) (2.32.3)\n",
            "Requirement already satisfied: tenacity!=8.4.0,<9.0.0,>=8.2.0 in /usr/local/lib/python3.10/dist-packages (from llama-index-core<0.12.0,>=0.11.0->llama-index-vector-stores-qdrant) (8.5.0)\n",
            "Requirement already satisfied: tiktoken>=0.3.3 in /usr/local/lib/python3.10/dist-packages (from llama-index-core<0.12.0,>=0.11.0->llama-index-vector-stores-qdrant) (0.8.0)\n",
            "Requirement already satisfied: tqdm<5.0.0,>=4.66.1 in /usr/local/lib/python3.10/dist-packages (from llama-index-core<0.12.0,>=0.11.0->llama-index-vector-stores-qdrant) (4.66.5)\n",
            "Requirement already satisfied: typing-extensions>=4.5.0 in /usr/local/lib/python3.10/dist-packages (from llama-index-core<0.12.0,>=0.11.0->llama-index-vector-stores-qdrant) (4.12.2)\n",
            "Requirement already satisfied: typing-inspect>=0.8.0 in /usr/local/lib/python3.10/dist-packages (from llama-index-core<0.12.0,>=0.11.0->llama-index-vector-stores-qdrant) (0.9.0)\n",
            "Requirement already satisfied: wrapt in /usr/local/lib/python3.10/dist-packages (from llama-index-core<0.12.0,>=0.11.0->llama-index-vector-stores-qdrant) (1.16.0)\n",
            "Requirement already satisfied: grpcio-tools>=1.41.0 in /usr/local/lib/python3.10/dist-packages (from qdrant-client>=1.7.1->llama-index-vector-stores-qdrant) (1.66.2)\n",
            "Requirement already satisfied: portalocker<3.0.0,>=2.7.0 in /usr/local/lib/python3.10/dist-packages (from qdrant-client>=1.7.1->llama-index-vector-stores-qdrant) (2.10.1)\n",
            "Requirement already satisfied: urllib3<3,>=1.26.14 in /usr/local/lib/python3.10/dist-packages (from qdrant-client>=1.7.1->llama-index-vector-stores-qdrant) (2.2.3)\n",
            "Requirement already satisfied: aiohappyeyeballs>=2.3.0 in /usr/local/lib/python3.10/dist-packages (from aiohttp<4.0.0,>=3.8.6->llama-index-core<0.12.0,>=0.11.0->llama-index-vector-stores-qdrant) (2.4.3)\n",
            "Requirement already satisfied: aiosignal>=1.1.2 in /usr/local/lib/python3.10/dist-packages (from aiohttp<4.0.0,>=3.8.6->llama-index-core<0.12.0,>=0.11.0->llama-index-vector-stores-qdrant) (1.3.1)\n",
            "Requirement already satisfied: attrs>=17.3.0 in /usr/local/lib/python3.10/dist-packages (from aiohttp<4.0.0,>=3.8.6->llama-index-core<0.12.0,>=0.11.0->llama-index-vector-stores-qdrant) (24.2.0)\n",
            "Requirement already satisfied: frozenlist>=1.1.1 in /usr/local/lib/python3.10/dist-packages (from aiohttp<4.0.0,>=3.8.6->llama-index-core<0.12.0,>=0.11.0->llama-index-vector-stores-qdrant) (1.4.1)\n",
            "Requirement already satisfied: multidict<7.0,>=4.5 in /usr/local/lib/python3.10/dist-packages (from aiohttp<4.0.0,>=3.8.6->llama-index-core<0.12.0,>=0.11.0->llama-index-vector-stores-qdrant) (6.1.0)\n",
            "Requirement already satisfied: yarl<2.0,>=1.12.0 in /usr/local/lib/python3.10/dist-packages (from aiohttp<4.0.0,>=3.8.6->llama-index-core<0.12.0,>=0.11.0->llama-index-vector-stores-qdrant) (1.13.1)\n",
            "Requirement already satisfied: async-timeout<5.0,>=4.0 in /usr/local/lib/python3.10/dist-packages (from aiohttp<4.0.0,>=3.8.6->llama-index-core<0.12.0,>=0.11.0->llama-index-vector-stores-qdrant) (4.0.3)\n",
            "Requirement already satisfied: protobuf<6.0dev,>=5.26.1 in /usr/local/lib/python3.10/dist-packages (from grpcio-tools>=1.41.0->qdrant-client>=1.7.1->llama-index-vector-stores-qdrant) (5.28.2)\n",
            "Requirement already satisfied: setuptools in /usr/local/lib/python3.10/dist-packages (from grpcio-tools>=1.41.0->qdrant-client>=1.7.1->llama-index-vector-stores-qdrant) (71.0.4)\n",
            "Requirement already satisfied: anyio in /usr/local/lib/python3.10/dist-packages (from httpx->llama-index-core<0.12.0,>=0.11.0->llama-index-vector-stores-qdrant) (3.7.1)\n",
            "Requirement already satisfied: certifi in /usr/local/lib/python3.10/dist-packages (from httpx->llama-index-core<0.12.0,>=0.11.0->llama-index-vector-stores-qdrant) (2024.8.30)\n",
            "Requirement already satisfied: httpcore==1.* in /usr/local/lib/python3.10/dist-packages (from httpx->llama-index-core<0.12.0,>=0.11.0->llama-index-vector-stores-qdrant) (1.0.6)\n",
            "Requirement already satisfied: idna in /usr/local/lib/python3.10/dist-packages (from httpx->llama-index-core<0.12.0,>=0.11.0->llama-index-vector-stores-qdrant) (3.10)\n",
            "Requirement already satisfied: sniffio in /usr/local/lib/python3.10/dist-packages (from httpx->llama-index-core<0.12.0,>=0.11.0->llama-index-vector-stores-qdrant) (1.3.1)\n",
            "Requirement already satisfied: h11<0.15,>=0.13 in /usr/local/lib/python3.10/dist-packages (from httpcore==1.*->httpx->llama-index-core<0.12.0,>=0.11.0->llama-index-vector-stores-qdrant) (0.14.0)\n",
            "Requirement already satisfied: h2<5,>=3 in /usr/local/lib/python3.10/dist-packages (from httpx[http2]>=0.20.0->qdrant-client>=1.7.1->llama-index-vector-stores-qdrant) (4.1.0)\n",
            "Requirement already satisfied: click in /usr/local/lib/python3.10/dist-packages (from nltk>3.8.1->llama-index-core<0.12.0,>=0.11.0->llama-index-vector-stores-qdrant) (8.1.7)\n",
            "Requirement already satisfied: joblib in /usr/local/lib/python3.10/dist-packages (from nltk>3.8.1->llama-index-core<0.12.0,>=0.11.0->llama-index-vector-stores-qdrant) (1.4.2)\n",
            "Requirement already satisfied: regex>=2021.8.3 in /usr/local/lib/python3.10/dist-packages (from nltk>3.8.1->llama-index-core<0.12.0,>=0.11.0->llama-index-vector-stores-qdrant) (2024.9.11)\n",
            "Requirement already satisfied: annotated-types>=0.6.0 in /usr/local/lib/python3.10/dist-packages (from pydantic<3.0.0,>=2.7.0->llama-index-core<0.12.0,>=0.11.0->llama-index-vector-stores-qdrant) (0.7.0)\n",
            "Requirement already satisfied: pydantic-core==2.23.4 in /usr/local/lib/python3.10/dist-packages (from pydantic<3.0.0,>=2.7.0->llama-index-core<0.12.0,>=0.11.0->llama-index-vector-stores-qdrant) (2.23.4)\n",
            "Requirement already satisfied: charset-normalizer<4,>=2 in /usr/local/lib/python3.10/dist-packages (from requests>=2.31.0->llama-index-core<0.12.0,>=0.11.0->llama-index-vector-stores-qdrant) (3.3.2)\n",
            "Requirement already satisfied: greenlet!=0.4.17 in /usr/local/lib/python3.10/dist-packages (from SQLAlchemy>=1.4.49->SQLAlchemy[asyncio]>=1.4.49->llama-index-core<0.12.0,>=0.11.0->llama-index-vector-stores-qdrant) (3.1.1)\n",
            "Requirement already satisfied: mypy-extensions>=0.3.0 in /usr/local/lib/python3.10/dist-packages (from typing-inspect>=0.8.0->llama-index-core<0.12.0,>=0.11.0->llama-index-vector-stores-qdrant) (1.0.0)\n",
            "Requirement already satisfied: marshmallow<4.0.0,>=3.18.0 in /usr/local/lib/python3.10/dist-packages (from dataclasses-json->llama-index-core<0.12.0,>=0.11.0->llama-index-vector-stores-qdrant) (3.22.0)\n",
            "Requirement already satisfied: hyperframe<7,>=6.0 in /usr/local/lib/python3.10/dist-packages (from h2<5,>=3->httpx[http2]>=0.20.0->qdrant-client>=1.7.1->llama-index-vector-stores-qdrant) (6.0.1)\n",
            "Requirement already satisfied: hpack<5,>=4.0 in /usr/local/lib/python3.10/dist-packages (from h2<5,>=3->httpx[http2]>=0.20.0->qdrant-client>=1.7.1->llama-index-vector-stores-qdrant) (4.0.0)\n",
            "Requirement already satisfied: packaging>=17.0 in /usr/local/lib/python3.10/dist-packages (from marshmallow<4.0.0,>=3.18.0->dataclasses-json->llama-index-core<0.12.0,>=0.11.0->llama-index-vector-stores-qdrant) (24.1)\n",
            "Requirement already satisfied: exceptiongroup in /usr/local/lib/python3.10/dist-packages (from anyio->httpx->llama-index-core<0.12.0,>=0.11.0->llama-index-vector-stores-qdrant) (1.2.2)\n",
            "time: 8.99 s (started: 2024-10-11 16:01:26 +00:00)\n"
          ]
        }
      ]
    },
    {
      "cell_type": "code",
      "source": [
        "!pip install llama-index-embeddings-fastembed"
      ],
      "metadata": {
        "colab": {
          "base_uri": "https://localhost:8080/"
        },
        "id": "h4pNFgKLj6-1",
        "outputId": "4f9e5cf1-5e24-4295-d2f5-7a16b76a5507",
        "collapsed": true
      },
      "execution_count": 112,
      "outputs": [
        {
          "output_type": "stream",
          "name": "stdout",
          "text": [
            "Requirement already satisfied: llama-index-embeddings-fastembed in /usr/local/lib/python3.10/dist-packages (0.2.0)\n",
            "Requirement already satisfied: fastembed>=0.2.2 in /usr/local/lib/python3.10/dist-packages (from llama-index-embeddings-fastembed) (0.3.6)\n",
            "Requirement already satisfied: llama-index-core<0.12.0,>=0.11.0 in /usr/local/lib/python3.10/dist-packages (from llama-index-embeddings-fastembed) (0.11.17)\n",
            "Requirement already satisfied: PyStemmer<3.0.0,>=2.2.0 in /usr/local/lib/python3.10/dist-packages (from fastembed>=0.2.2->llama-index-embeddings-fastembed) (2.2.0.3)\n",
            "Requirement already satisfied: huggingface-hub<1.0,>=0.20 in /usr/local/lib/python3.10/dist-packages (from fastembed>=0.2.2->llama-index-embeddings-fastembed) (0.24.7)\n",
            "Requirement already satisfied: loguru<0.8.0,>=0.7.2 in /usr/local/lib/python3.10/dist-packages (from fastembed>=0.2.2->llama-index-embeddings-fastembed) (0.7.2)\n",
            "Requirement already satisfied: mmh3<5.0,>=4.0 in /usr/local/lib/python3.10/dist-packages (from fastembed>=0.2.2->llama-index-embeddings-fastembed) (4.1.0)\n",
            "Requirement already satisfied: numpy<2,>=1.21 in /usr/local/lib/python3.10/dist-packages (from fastembed>=0.2.2->llama-index-embeddings-fastembed) (1.26.4)\n",
            "Requirement already satisfied: onnx<2.0.0,>=1.15.0 in /usr/local/lib/python3.10/dist-packages (from fastembed>=0.2.2->llama-index-embeddings-fastembed) (1.17.0)\n",
            "Requirement already satisfied: onnxruntime<2.0.0,>=1.17.0 in /usr/local/lib/python3.10/dist-packages (from fastembed>=0.2.2->llama-index-embeddings-fastembed) (1.19.2)\n",
            "Requirement already satisfied: pillow<11.0.0,>=10.3.0 in /usr/local/lib/python3.10/dist-packages (from fastembed>=0.2.2->llama-index-embeddings-fastembed) (10.4.0)\n",
            "Requirement already satisfied: requests<3.0,>=2.31 in /usr/local/lib/python3.10/dist-packages (from fastembed>=0.2.2->llama-index-embeddings-fastembed) (2.32.3)\n",
            "Requirement already satisfied: snowballstemmer<3.0.0,>=2.2.0 in /usr/local/lib/python3.10/dist-packages (from fastembed>=0.2.2->llama-index-embeddings-fastembed) (2.2.0)\n",
            "Requirement already satisfied: tokenizers<1.0,>=0.15 in /usr/local/lib/python3.10/dist-packages (from fastembed>=0.2.2->llama-index-embeddings-fastembed) (0.19.1)\n",
            "Requirement already satisfied: tqdm<5.0,>=4.66 in /usr/local/lib/python3.10/dist-packages (from fastembed>=0.2.2->llama-index-embeddings-fastembed) (4.66.5)\n",
            "Requirement already satisfied: PyYAML>=6.0.1 in /usr/local/lib/python3.10/dist-packages (from llama-index-core<0.12.0,>=0.11.0->llama-index-embeddings-fastembed) (6.0.2)\n",
            "Requirement already satisfied: SQLAlchemy>=1.4.49 in /usr/local/lib/python3.10/dist-packages (from SQLAlchemy[asyncio]>=1.4.49->llama-index-core<0.12.0,>=0.11.0->llama-index-embeddings-fastembed) (2.0.35)\n",
            "Requirement already satisfied: aiohttp<4.0.0,>=3.8.6 in /usr/local/lib/python3.10/dist-packages (from llama-index-core<0.12.0,>=0.11.0->llama-index-embeddings-fastembed) (3.10.9)\n",
            "Requirement already satisfied: dataclasses-json in /usr/local/lib/python3.10/dist-packages (from llama-index-core<0.12.0,>=0.11.0->llama-index-embeddings-fastembed) (0.6.7)\n",
            "Requirement already satisfied: deprecated>=1.2.9.3 in /usr/local/lib/python3.10/dist-packages (from llama-index-core<0.12.0,>=0.11.0->llama-index-embeddings-fastembed) (1.2.14)\n",
            "Requirement already satisfied: dirtyjson<2.0.0,>=1.0.8 in /usr/local/lib/python3.10/dist-packages (from llama-index-core<0.12.0,>=0.11.0->llama-index-embeddings-fastembed) (1.0.8)\n",
            "Requirement already satisfied: fsspec>=2023.5.0 in /usr/local/lib/python3.10/dist-packages (from llama-index-core<0.12.0,>=0.11.0->llama-index-embeddings-fastembed) (2024.6.1)\n",
            "Requirement already satisfied: httpx in /usr/local/lib/python3.10/dist-packages (from llama-index-core<0.12.0,>=0.11.0->llama-index-embeddings-fastembed) (0.27.2)\n",
            "Requirement already satisfied: nest-asyncio<2.0.0,>=1.5.8 in /usr/local/lib/python3.10/dist-packages (from llama-index-core<0.12.0,>=0.11.0->llama-index-embeddings-fastembed) (1.6.0)\n",
            "Requirement already satisfied: networkx>=3.0 in /usr/local/lib/python3.10/dist-packages (from llama-index-core<0.12.0,>=0.11.0->llama-index-embeddings-fastembed) (3.3)\n",
            "Requirement already satisfied: nltk>3.8.1 in /usr/local/lib/python3.10/dist-packages (from llama-index-core<0.12.0,>=0.11.0->llama-index-embeddings-fastembed) (3.9.1)\n",
            "Requirement already satisfied: pydantic<3.0.0,>=2.7.0 in /usr/local/lib/python3.10/dist-packages (from llama-index-core<0.12.0,>=0.11.0->llama-index-embeddings-fastembed) (2.9.2)\n",
            "Requirement already satisfied: tenacity!=8.4.0,<9.0.0,>=8.2.0 in /usr/local/lib/python3.10/dist-packages (from llama-index-core<0.12.0,>=0.11.0->llama-index-embeddings-fastembed) (8.5.0)\n",
            "Requirement already satisfied: tiktoken>=0.3.3 in /usr/local/lib/python3.10/dist-packages (from llama-index-core<0.12.0,>=0.11.0->llama-index-embeddings-fastembed) (0.8.0)\n",
            "Requirement already satisfied: typing-extensions>=4.5.0 in /usr/local/lib/python3.10/dist-packages (from llama-index-core<0.12.0,>=0.11.0->llama-index-embeddings-fastembed) (4.12.2)\n",
            "Requirement already satisfied: typing-inspect>=0.8.0 in /usr/local/lib/python3.10/dist-packages (from llama-index-core<0.12.0,>=0.11.0->llama-index-embeddings-fastembed) (0.9.0)\n",
            "Requirement already satisfied: wrapt in /usr/local/lib/python3.10/dist-packages (from llama-index-core<0.12.0,>=0.11.0->llama-index-embeddings-fastembed) (1.16.0)\n",
            "Requirement already satisfied: aiohappyeyeballs>=2.3.0 in /usr/local/lib/python3.10/dist-packages (from aiohttp<4.0.0,>=3.8.6->llama-index-core<0.12.0,>=0.11.0->llama-index-embeddings-fastembed) (2.4.3)\n",
            "Requirement already satisfied: aiosignal>=1.1.2 in /usr/local/lib/python3.10/dist-packages (from aiohttp<4.0.0,>=3.8.6->llama-index-core<0.12.0,>=0.11.0->llama-index-embeddings-fastembed) (1.3.1)\n",
            "Requirement already satisfied: attrs>=17.3.0 in /usr/local/lib/python3.10/dist-packages (from aiohttp<4.0.0,>=3.8.6->llama-index-core<0.12.0,>=0.11.0->llama-index-embeddings-fastembed) (24.2.0)\n",
            "Requirement already satisfied: frozenlist>=1.1.1 in /usr/local/lib/python3.10/dist-packages (from aiohttp<4.0.0,>=3.8.6->llama-index-core<0.12.0,>=0.11.0->llama-index-embeddings-fastembed) (1.4.1)\n",
            "Requirement already satisfied: multidict<7.0,>=4.5 in /usr/local/lib/python3.10/dist-packages (from aiohttp<4.0.0,>=3.8.6->llama-index-core<0.12.0,>=0.11.0->llama-index-embeddings-fastembed) (6.1.0)\n",
            "Requirement already satisfied: yarl<2.0,>=1.12.0 in /usr/local/lib/python3.10/dist-packages (from aiohttp<4.0.0,>=3.8.6->llama-index-core<0.12.0,>=0.11.0->llama-index-embeddings-fastembed) (1.13.1)\n",
            "Requirement already satisfied: async-timeout<5.0,>=4.0 in /usr/local/lib/python3.10/dist-packages (from aiohttp<4.0.0,>=3.8.6->llama-index-core<0.12.0,>=0.11.0->llama-index-embeddings-fastembed) (4.0.3)\n",
            "Requirement already satisfied: filelock in /usr/local/lib/python3.10/dist-packages (from huggingface-hub<1.0,>=0.20->fastembed>=0.2.2->llama-index-embeddings-fastembed) (3.16.1)\n",
            "Requirement already satisfied: packaging>=20.9 in /usr/local/lib/python3.10/dist-packages (from huggingface-hub<1.0,>=0.20->fastembed>=0.2.2->llama-index-embeddings-fastembed) (24.1)\n",
            "Requirement already satisfied: click in /usr/local/lib/python3.10/dist-packages (from nltk>3.8.1->llama-index-core<0.12.0,>=0.11.0->llama-index-embeddings-fastembed) (8.1.7)\n",
            "Requirement already satisfied: joblib in /usr/local/lib/python3.10/dist-packages (from nltk>3.8.1->llama-index-core<0.12.0,>=0.11.0->llama-index-embeddings-fastembed) (1.4.2)\n",
            "Requirement already satisfied: regex>=2021.8.3 in /usr/local/lib/python3.10/dist-packages (from nltk>3.8.1->llama-index-core<0.12.0,>=0.11.0->llama-index-embeddings-fastembed) (2024.9.11)\n",
            "Requirement already satisfied: protobuf>=3.20.2 in /usr/local/lib/python3.10/dist-packages (from onnx<2.0.0,>=1.15.0->fastembed>=0.2.2->llama-index-embeddings-fastembed) (5.28.2)\n",
            "Requirement already satisfied: coloredlogs in /usr/local/lib/python3.10/dist-packages (from onnxruntime<2.0.0,>=1.17.0->fastembed>=0.2.2->llama-index-embeddings-fastembed) (15.0.1)\n",
            "Requirement already satisfied: flatbuffers in /usr/local/lib/python3.10/dist-packages (from onnxruntime<2.0.0,>=1.17.0->fastembed>=0.2.2->llama-index-embeddings-fastembed) (24.3.25)\n",
            "Requirement already satisfied: sympy in /usr/local/lib/python3.10/dist-packages (from onnxruntime<2.0.0,>=1.17.0->fastembed>=0.2.2->llama-index-embeddings-fastembed) (1.13.3)\n",
            "Requirement already satisfied: annotated-types>=0.6.0 in /usr/local/lib/python3.10/dist-packages (from pydantic<3.0.0,>=2.7.0->llama-index-core<0.12.0,>=0.11.0->llama-index-embeddings-fastembed) (0.7.0)\n",
            "Requirement already satisfied: pydantic-core==2.23.4 in /usr/local/lib/python3.10/dist-packages (from pydantic<3.0.0,>=2.7.0->llama-index-core<0.12.0,>=0.11.0->llama-index-embeddings-fastembed) (2.23.4)\n",
            "Requirement already satisfied: charset-normalizer<4,>=2 in /usr/local/lib/python3.10/dist-packages (from requests<3.0,>=2.31->fastembed>=0.2.2->llama-index-embeddings-fastembed) (3.3.2)\n",
            "Requirement already satisfied: idna<4,>=2.5 in /usr/local/lib/python3.10/dist-packages (from requests<3.0,>=2.31->fastembed>=0.2.2->llama-index-embeddings-fastembed) (3.10)\n",
            "Requirement already satisfied: urllib3<3,>=1.21.1 in /usr/local/lib/python3.10/dist-packages (from requests<3.0,>=2.31->fastembed>=0.2.2->llama-index-embeddings-fastembed) (2.2.3)\n",
            "Requirement already satisfied: certifi>=2017.4.17 in /usr/local/lib/python3.10/dist-packages (from requests<3.0,>=2.31->fastembed>=0.2.2->llama-index-embeddings-fastembed) (2024.8.30)\n",
            "Requirement already satisfied: greenlet!=0.4.17 in /usr/local/lib/python3.10/dist-packages (from SQLAlchemy>=1.4.49->SQLAlchemy[asyncio]>=1.4.49->llama-index-core<0.12.0,>=0.11.0->llama-index-embeddings-fastembed) (3.1.1)\n",
            "Requirement already satisfied: mypy-extensions>=0.3.0 in /usr/local/lib/python3.10/dist-packages (from typing-inspect>=0.8.0->llama-index-core<0.12.0,>=0.11.0->llama-index-embeddings-fastembed) (1.0.0)\n",
            "Requirement already satisfied: marshmallow<4.0.0,>=3.18.0 in /usr/local/lib/python3.10/dist-packages (from dataclasses-json->llama-index-core<0.12.0,>=0.11.0->llama-index-embeddings-fastembed) (3.22.0)\n",
            "Requirement already satisfied: anyio in /usr/local/lib/python3.10/dist-packages (from httpx->llama-index-core<0.12.0,>=0.11.0->llama-index-embeddings-fastembed) (3.7.1)\n",
            "Requirement already satisfied: httpcore==1.* in /usr/local/lib/python3.10/dist-packages (from httpx->llama-index-core<0.12.0,>=0.11.0->llama-index-embeddings-fastembed) (1.0.6)\n",
            "Requirement already satisfied: sniffio in /usr/local/lib/python3.10/dist-packages (from httpx->llama-index-core<0.12.0,>=0.11.0->llama-index-embeddings-fastembed) (1.3.1)\n",
            "Requirement already satisfied: h11<0.15,>=0.13 in /usr/local/lib/python3.10/dist-packages (from httpcore==1.*->httpx->llama-index-core<0.12.0,>=0.11.0->llama-index-embeddings-fastembed) (0.14.0)\n",
            "Requirement already satisfied: exceptiongroup in /usr/local/lib/python3.10/dist-packages (from anyio->httpx->llama-index-core<0.12.0,>=0.11.0->llama-index-embeddings-fastembed) (1.2.2)\n",
            "Requirement already satisfied: humanfriendly>=9.1 in /usr/local/lib/python3.10/dist-packages (from coloredlogs->onnxruntime<2.0.0,>=1.17.0->fastembed>=0.2.2->llama-index-embeddings-fastembed) (10.0)\n",
            "Requirement already satisfied: mpmath<1.4,>=1.1.0 in /usr/local/lib/python3.10/dist-packages (from sympy->onnxruntime<2.0.0,>=1.17.0->fastembed>=0.2.2->llama-index-embeddings-fastembed) (1.3.0)\n",
            "time: 6.46 s (started: 2024-10-11 16:01:35 +00:00)\n"
          ]
        }
      ]
    },
    {
      "cell_type": "code",
      "source": [
        "!pip install -U qdrant_client"
      ],
      "metadata": {
        "colab": {
          "base_uri": "https://localhost:8080/"
        },
        "id": "K4yk6Qu0ZOcw",
        "outputId": "b2efadbd-0f6b-4733-c389-c44d8d5e4309",
        "collapsed": true
      },
      "execution_count": 113,
      "outputs": [
        {
          "output_type": "stream",
          "name": "stdout",
          "text": [
            "Requirement already satisfied: qdrant_client in /usr/local/lib/python3.10/dist-packages (1.12.0)\n",
            "Requirement already satisfied: grpcio>=1.41.0 in /usr/local/lib/python3.10/dist-packages (from qdrant_client) (1.66.2)\n",
            "Requirement already satisfied: grpcio-tools>=1.41.0 in /usr/local/lib/python3.10/dist-packages (from qdrant_client) (1.66.2)\n",
            "Requirement already satisfied: httpx>=0.20.0 in /usr/local/lib/python3.10/dist-packages (from httpx[http2]>=0.20.0->qdrant_client) (0.27.2)\n",
            "Requirement already satisfied: numpy>=1.21 in /usr/local/lib/python3.10/dist-packages (from qdrant_client) (1.26.4)\n",
            "Requirement already satisfied: portalocker<3.0.0,>=2.7.0 in /usr/local/lib/python3.10/dist-packages (from qdrant_client) (2.10.1)\n",
            "Requirement already satisfied: pydantic>=1.10.8 in /usr/local/lib/python3.10/dist-packages (from qdrant_client) (2.9.2)\n",
            "Requirement already satisfied: urllib3<3,>=1.26.14 in /usr/local/lib/python3.10/dist-packages (from qdrant_client) (2.2.3)\n",
            "Requirement already satisfied: protobuf<6.0dev,>=5.26.1 in /usr/local/lib/python3.10/dist-packages (from grpcio-tools>=1.41.0->qdrant_client) (5.28.2)\n",
            "Requirement already satisfied: setuptools in /usr/local/lib/python3.10/dist-packages (from grpcio-tools>=1.41.0->qdrant_client) (71.0.4)\n",
            "Requirement already satisfied: anyio in /usr/local/lib/python3.10/dist-packages (from httpx>=0.20.0->httpx[http2]>=0.20.0->qdrant_client) (3.7.1)\n",
            "Requirement already satisfied: certifi in /usr/local/lib/python3.10/dist-packages (from httpx>=0.20.0->httpx[http2]>=0.20.0->qdrant_client) (2024.8.30)\n",
            "Requirement already satisfied: httpcore==1.* in /usr/local/lib/python3.10/dist-packages (from httpx>=0.20.0->httpx[http2]>=0.20.0->qdrant_client) (1.0.6)\n",
            "Requirement already satisfied: idna in /usr/local/lib/python3.10/dist-packages (from httpx>=0.20.0->httpx[http2]>=0.20.0->qdrant_client) (3.10)\n",
            "Requirement already satisfied: sniffio in /usr/local/lib/python3.10/dist-packages (from httpx>=0.20.0->httpx[http2]>=0.20.0->qdrant_client) (1.3.1)\n",
            "Requirement already satisfied: h11<0.15,>=0.13 in /usr/local/lib/python3.10/dist-packages (from httpcore==1.*->httpx>=0.20.0->httpx[http2]>=0.20.0->qdrant_client) (0.14.0)\n",
            "Requirement already satisfied: h2<5,>=3 in /usr/local/lib/python3.10/dist-packages (from httpx[http2]>=0.20.0->qdrant_client) (4.1.0)\n",
            "Requirement already satisfied: annotated-types>=0.6.0 in /usr/local/lib/python3.10/dist-packages (from pydantic>=1.10.8->qdrant_client) (0.7.0)\n",
            "Requirement already satisfied: pydantic-core==2.23.4 in /usr/local/lib/python3.10/dist-packages (from pydantic>=1.10.8->qdrant_client) (2.23.4)\n",
            "Requirement already satisfied: typing-extensions>=4.6.1 in /usr/local/lib/python3.10/dist-packages (from pydantic>=1.10.8->qdrant_client) (4.12.2)\n",
            "Requirement already satisfied: hyperframe<7,>=6.0 in /usr/local/lib/python3.10/dist-packages (from h2<5,>=3->httpx[http2]>=0.20.0->qdrant_client) (6.0.1)\n",
            "Requirement already satisfied: hpack<5,>=4.0 in /usr/local/lib/python3.10/dist-packages (from h2<5,>=3->httpx[http2]>=0.20.0->qdrant_client) (4.0.0)\n",
            "Requirement already satisfied: exceptiongroup in /usr/local/lib/python3.10/dist-packages (from anyio->httpx>=0.20.0->httpx[http2]>=0.20.0->qdrant_client) (1.2.2)\n",
            "time: 8.4 s (started: 2024-10-11 16:01:41 +00:00)\n"
          ]
        }
      ]
    },
    {
      "cell_type": "code",
      "source": [
        "!pip install sentence_transformers"
      ],
      "metadata": {
        "colab": {
          "base_uri": "https://localhost:8080/"
        },
        "id": "CTo3qRXJm7fe",
        "outputId": "bc1df628-9765-4277-c7c9-e67ee6af02ca"
      },
      "execution_count": 114,
      "outputs": [
        {
          "output_type": "stream",
          "name": "stdout",
          "text": [
            "Requirement already satisfied: sentence_transformers in /usr/local/lib/python3.10/dist-packages (3.2.0)\n",
            "Requirement already satisfied: transformers<5.0.0,>=4.41.0 in /usr/local/lib/python3.10/dist-packages (from sentence_transformers) (4.44.2)\n",
            "Requirement already satisfied: tqdm in /usr/local/lib/python3.10/dist-packages (from sentence_transformers) (4.66.5)\n",
            "Requirement already satisfied: torch>=1.11.0 in /usr/local/lib/python3.10/dist-packages (from sentence_transformers) (2.4.1+cu121)\n",
            "Requirement already satisfied: scikit-learn in /usr/local/lib/python3.10/dist-packages (from sentence_transformers) (1.5.2)\n",
            "Requirement already satisfied: scipy in /usr/local/lib/python3.10/dist-packages (from sentence_transformers) (1.13.1)\n",
            "Requirement already satisfied: huggingface-hub>=0.20.0 in /usr/local/lib/python3.10/dist-packages (from sentence_transformers) (0.24.7)\n",
            "Requirement already satisfied: Pillow in /usr/local/lib/python3.10/dist-packages (from sentence_transformers) (10.4.0)\n",
            "Requirement already satisfied: filelock in /usr/local/lib/python3.10/dist-packages (from huggingface-hub>=0.20.0->sentence_transformers) (3.16.1)\n",
            "Requirement already satisfied: fsspec>=2023.5.0 in /usr/local/lib/python3.10/dist-packages (from huggingface-hub>=0.20.0->sentence_transformers) (2024.6.1)\n",
            "Requirement already satisfied: packaging>=20.9 in /usr/local/lib/python3.10/dist-packages (from huggingface-hub>=0.20.0->sentence_transformers) (24.1)\n",
            "Requirement already satisfied: pyyaml>=5.1 in /usr/local/lib/python3.10/dist-packages (from huggingface-hub>=0.20.0->sentence_transformers) (6.0.2)\n",
            "Requirement already satisfied: requests in /usr/local/lib/python3.10/dist-packages (from huggingface-hub>=0.20.0->sentence_transformers) (2.32.3)\n",
            "Requirement already satisfied: typing-extensions>=3.7.4.3 in /usr/local/lib/python3.10/dist-packages (from huggingface-hub>=0.20.0->sentence_transformers) (4.12.2)\n",
            "Requirement already satisfied: sympy in /usr/local/lib/python3.10/dist-packages (from torch>=1.11.0->sentence_transformers) (1.13.3)\n",
            "Requirement already satisfied: networkx in /usr/local/lib/python3.10/dist-packages (from torch>=1.11.0->sentence_transformers) (3.3)\n",
            "Requirement already satisfied: jinja2 in /usr/local/lib/python3.10/dist-packages (from torch>=1.11.0->sentence_transformers) (3.1.4)\n",
            "Requirement already satisfied: numpy>=1.17 in /usr/local/lib/python3.10/dist-packages (from transformers<5.0.0,>=4.41.0->sentence_transformers) (1.26.4)\n",
            "Requirement already satisfied: regex!=2019.12.17 in /usr/local/lib/python3.10/dist-packages (from transformers<5.0.0,>=4.41.0->sentence_transformers) (2024.9.11)\n",
            "Requirement already satisfied: safetensors>=0.4.1 in /usr/local/lib/python3.10/dist-packages (from transformers<5.0.0,>=4.41.0->sentence_transformers) (0.4.5)\n",
            "Requirement already satisfied: tokenizers<0.20,>=0.19 in /usr/local/lib/python3.10/dist-packages (from transformers<5.0.0,>=4.41.0->sentence_transformers) (0.19.1)\n",
            "Requirement already satisfied: joblib>=1.2.0 in /usr/local/lib/python3.10/dist-packages (from scikit-learn->sentence_transformers) (1.4.2)\n",
            "Requirement already satisfied: threadpoolctl>=3.1.0 in /usr/local/lib/python3.10/dist-packages (from scikit-learn->sentence_transformers) (3.5.0)\n",
            "Requirement already satisfied: MarkupSafe>=2.0 in /usr/local/lib/python3.10/dist-packages (from jinja2->torch>=1.11.0->sentence_transformers) (2.1.5)\n",
            "Requirement already satisfied: charset-normalizer<4,>=2 in /usr/local/lib/python3.10/dist-packages (from requests->huggingface-hub>=0.20.0->sentence_transformers) (3.3.2)\n",
            "Requirement already satisfied: idna<4,>=2.5 in /usr/local/lib/python3.10/dist-packages (from requests->huggingface-hub>=0.20.0->sentence_transformers) (3.10)\n",
            "Requirement already satisfied: urllib3<3,>=1.21.1 in /usr/local/lib/python3.10/dist-packages (from requests->huggingface-hub>=0.20.0->sentence_transformers) (2.2.3)\n",
            "Requirement already satisfied: certifi>=2017.4.17 in /usr/local/lib/python3.10/dist-packages (from requests->huggingface-hub>=0.20.0->sentence_transformers) (2024.8.30)\n",
            "Requirement already satisfied: mpmath<1.4,>=1.1.0 in /usr/local/lib/python3.10/dist-packages (from sympy->torch>=1.11.0->sentence_transformers) (1.3.0)\n",
            "time: 4.14 s (started: 2024-10-11 16:01:50 +00:00)\n"
          ]
        }
      ]
    },
    {
      "cell_type": "code",
      "execution_count": 115,
      "metadata": {
        "colab": {
          "base_uri": "https://localhost:8080/"
        },
        "id": "5w7zlY9qZwfC",
        "outputId": "06362fcd-b2f4-4608-db8a-da7e161c00dc"
      },
      "outputs": [
        {
          "output_type": "stream",
          "name": "stdout",
          "text": [
            "time: 987 µs (started: 2024-10-11 16:01:54 +00:00)\n"
          ]
        }
      ],
      "source": [
        "# llama-parse is async-first, running the async code in a notebook requires the use of nest_asyncio\n",
        "import nest_asyncio\n",
        "\n",
        "nest_asyncio.apply()\n",
        "\n",
        "import os\n",
        "\n",
        "# API access to llama-cloud\n",
        "#os.environ[\"LLAMA_CLOUD_API_KEY\"] = \"llx-gQNyCBU754aTjv4qQU3R7iixMmci1RLsKUmSktqb4IX39j9R\"\n",
        "\n",
        "#os.environ[\"COHERE_API_KEY\"] = \"WVjjvmm1CoFM9BK2r7dBDUMONEElFsfVkHHECG3N\"\n",
        "\n",
        "# Using OpenAI API for embeddings/llms\n",
        "os.environ[\"OPENAI_API_KEY\"] = \"sk-sl-stPZrlUXvDAgRp1beofE7Jbk5GsbGL9OcbjHT5cT3BlbkFJYrzjtODllOkcnWRPNgzYpqnE2KhL-aIeE4kgwJZUUA\"\n",
        "\n",
        "#Llama 3.2 with groq\n",
        "\n",
        "\n",
        "#os.environ[\"GROQ_API_KEY\"] = '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'"
      ]
    },
    {
      "cell_type": "code",
      "source": [
        "import logging\n",
        "import sys\n",
        "import os\n",
        "\n",
        "import qdrant_client\n",
        "from IPython.display import Markdown, display\n",
        "from llama_index.core import VectorStoreIndex, SimpleDirectoryReader\n",
        "from llama_index.core import StorageContext\n",
        "from llama_index.vector_stores.qdrant import QdrantVectorStore\n",
        "#from llama_index.embeddings.fastembed import FastEmbedEmbedding\n",
        "from llama_index.core import Settings\n",
        "from sentence_transformers import SentenceTransformer\n",
        "\n",
        "\n",
        "\n",
        "#Settings.embed_model = FastEmbedEmbedding(model_name=\"BAAI/bge-base-en-v1.5\")"
      ],
      "metadata": {
        "colab": {
          "base_uri": "https://localhost:8080/"
        },
        "id": "khaDzaDDZEIK",
        "outputId": "e1c1065e-75f8-4781-ae07-9a10f86af0ee",
        "collapsed": true
      },
      "execution_count": 116,
      "outputs": [
        {
          "output_type": "stream",
          "name": "stdout",
          "text": [
            "time: 1.04 ms (started: 2024-10-11 16:01:54 +00:00)\n"
          ]
        }
      ]
    },
    {
      "cell_type": "code",
      "execution_count": 117,
      "metadata": {
        "colab": {
          "base_uri": "https://localhost:8080/"
        },
        "id": "XPbNsBgKZwfD",
        "outputId": "1b5f0e60-45ec-46f8-f098-7254d1f194df"
      },
      "outputs": [
        {
          "output_type": "stream",
          "name": "stdout",
          "text": [
            "time: 12.5 ms (started: 2024-10-11 16:01:54 +00:00)\n"
          ]
        }
      ],
      "source": [
        "from llama_index.llms.openai import OpenAI\n",
        "from llama_index.embeddings.openai import OpenAIEmbedding\n",
        "from llama_index.core import VectorStoreIndex\n",
        "from llama_index.core import Settings\n",
        "#from langchain_cohere import CohereEmbeddings\n",
        "from llama_index.llms.groq import Groq\n",
        "#from langchain_groq import ChatGroq\n",
        "from llama_index.embeddings.huggingface import HuggingFaceEmbedding\n",
        "# from sentence_transformers import SentenceTransformer\n",
        "\n",
        "\n",
        "#embed_model = HuggingFaceEmbedding(model_name=\"BAAI/bge-small-en-v1.5\")\n",
        "embed_model = OpenAIEmbedding(model=\"text-embedding-3-small\")\n",
        "#embed_model=SentenceTransformer(\"sentence-transformers/multi-qa-mpnet-base-dot-v1\")\n",
        "#embed_model= CohereEmbeddings(model=\"embed-english-v3.0\")\n",
        "#LangchainEmbedding(HuggingFaceEmbeddings(model_name='sentence-transformers/multi-qa-mpnet-base-cos-v1'))\n",
        "llm = OpenAI(model=\"gpt-4o\",seed=0, max_tokens=16384)\n",
        "\n",
        "#llm = ChatGroq(model=\"llama3-groq-70b-8192-tool-use-preview\"\n",
        "#llm = Groq(model=\"llama3-groq-70b-8192-tool-use-preview\")\n",
        "Settings.llm = llm\n",
        "Settings.embed_model = embed_model\n",
        "Settings.chunk_size = 1024\n",
        "Settings.chunk_overlap = 800\n",
        "#Settings.max_output_tokens = 128000"
      ]
    },
    {
      "cell_type": "code",
      "source": [
        "from google.colab import drive\n",
        "drive.mount('/content/drive')"
      ],
      "metadata": {
        "colab": {
          "base_uri": "https://localhost:8080/"
        },
        "id": "kCQXRGEvr3kb",
        "outputId": "772e0f22-c385-4ca9-c635-641cf2cf11f0"
      },
      "execution_count": 118,
      "outputs": [
        {
          "output_type": "stream",
          "name": "stdout",
          "text": [
            "Drive already mounted at /content/drive; to attempt to forcibly remount, call drive.mount(\"/content/drive\", force_remount=True).\n",
            "time: 2.17 s (started: 2024-10-11 16:01:54 +00:00)\n"
          ]
        }
      ]
    },
    {
      "cell_type": "code",
      "source": [
        "logging.basicConfig(stream=sys.stdout, level=logging.INFO)\n",
        "logging.getLogger().addHandler(logging.StreamHandler(stream=sys.stdout))"
      ],
      "metadata": {
        "colab": {
          "base_uri": "https://localhost:8080/"
        },
        "id": "1fyx5IxYZe1S",
        "outputId": "e4b719dc-9bf9-4d10-887e-cb17e80994cf"
      },
      "execution_count": 119,
      "outputs": [
        {
          "output_type": "stream",
          "name": "stdout",
          "text": [
            "time: 1 ms (started: 2024-10-11 16:01:56 +00:00)\n"
          ]
        }
      ]
    },
    {
      "cell_type": "code",
      "source": [
        "#load multiple pdfs with llama parse (markdown)\n",
        "from llama_parse import LlamaParse\n",
        "\n",
        "#documents = LlamaParse(result_type=\"markdown\").load_data([\"/content/test_files/Anthem MediBlue Access (PPO) - Documents.pdf\",\"/content/test_files/Anthem Full Dual Advantage (PPO D-SNP).pdf\",\"/content/test_files/Anthem MediBlue Dual Advantage (HMO D-SNP) Document.pdf\",\"/content/test_files/Anthem Medicare Advantage (HMO).pdf\",\"/content/test_files/Anthem Medicare Advantage 2 (PPO).pdf\"])"
      ],
      "metadata": {
        "colab": {
          "base_uri": "https://localhost:8080/"
        },
        "id": "--zosvWAtKxm",
        "outputId": "cae85ec8-105c-4f49-eb85-7dc064d718b4"
      },
      "execution_count": 120,
      "outputs": [
        {
          "output_type": "stream",
          "name": "stdout",
          "text": [
            "time: 637 µs (started: 2024-10-11 16:01:56 +00:00)\n"
          ]
        }
      ]
    },
    {
      "cell_type": "code",
      "source": [
        "# load documents with llama index directory reader\n",
        "documents = SimpleDirectoryReader(\"/content/test_files\").load_data()"
      ],
      "metadata": {
        "colab": {
          "base_uri": "https://localhost:8080/"
        },
        "id": "G6I2ADM_Zh4D",
        "outputId": "b9e318dc-0a86-471f-e839-5f589d2e7fef"
      },
      "execution_count": 121,
      "outputs": [
        {
          "output_type": "stream",
          "name": "stdout",
          "text": [
            "time: 12.5 s (started: 2024-10-11 16:01:56 +00:00)\n"
          ]
        }
      ]
    },
    {
      "cell_type": "code",
      "execution_count": 122,
      "metadata": {
        "colab": {
          "base_uri": "https://localhost:8080/"
        },
        "id": "-pJmEbo6ZwfF",
        "outputId": "6bb307e7-883e-4a5f-eca4-0cb0f8890d6b",
        "collapsed": true
      },
      "outputs": [
        {
          "output_type": "stream",
          "name": "stdout",
          "text": [
            "time: 3.91 s (started: 2024-10-11 16:02:09 +00:00)\n"
          ]
        }
      ],
      "source": [
        "from llama_index.postprocessor.flag_embedding_reranker import FlagEmbeddingReranker\n",
        "\n",
        "reranker = FlagEmbeddingReranker(\n",
        "    top_n=8,\n",
        "    model=\"BAAI/bge-reranker-large\",\n",
        ")\n",
        "\n",
        "# recursive_query_engine = recursive_index.as_query_engine(\n",
        "#     similarity_top_k=8, node_postprocessors=[reranker], verbose=True\n",
        "# )"
      ]
    },
    {
      "cell_type": "code",
      "source": [
        "client = qdrant_client.QdrantClient(\n",
        "    # you can use :memory: mode for fast and light-weight experiments,\n",
        "    # it does not require to have Qdrant deployed anywhere\n",
        "    # but requires qdrant-client >= 1.1.1\n",
        "    #location=\":memory:\"\n",
        "    # otherwise set Qdrant instance address with:\n",
        "    url=\"https://225f6124-ed28-4252-a49a-040e264c4d28.europe-west3-0.gcp.cloud.qdrant.io:6333\",\n",
        "    # otherwise set Qdrant instance with host and port:\n",
        "    #host=\"localhost\",\n",
        "    #port=6333\n",
        "    # set API KEY for Qdrant Cloud\n",
        "    api_key=\"R084qA_ksblgR_oMAebtKKnqGkZRfZxldfiCH6TjojoWbck9Tv4TyQ\",\n",
        ")"
      ],
      "metadata": {
        "colab": {
          "base_uri": "https://localhost:8080/"
        },
        "id": "naBTHuDjZ2Nz",
        "outputId": "03575931-057e-45a5-f8a7-45026b91a7d6"
      },
      "execution_count": 123,
      "outputs": [
        {
          "output_type": "stream",
          "name": "stdout",
          "text": [
            "time: 703 ms (started: 2024-10-11 16:02:13 +00:00)\n"
          ]
        }
      ]
    },
    {
      "cell_type": "code",
      "source": [
        "vector_store = QdrantVectorStore(client=client, collection_name=\"healthcare-ins1\")\n",
        "storage_context = StorageContext.from_defaults(vector_store=vector_store)\n",
        "index = VectorStoreIndex.from_documents(\n",
        "    documents,\n",
        "    storage_context=storage_context\n",
        ")"
      ],
      "metadata": {
        "colab": {
          "base_uri": "https://localhost:8080/"
        },
        "id": "cFHpCFUhZ-Jb",
        "outputId": "18fcc51b-6de2-4e27-f790-8bdf4faab7f8"
      },
      "execution_count": 124,
      "outputs": [
        {
          "output_type": "stream",
          "name": "stdout",
          "text": [
            "time: 8.34 s (started: 2024-10-11 16:02:13 +00:00)\n"
          ]
        }
      ]
    },
    {
      "cell_type": "code",
      "source": [
        "qdrant_query_engine = index.as_query_engine(similarity_top_k=20,PostprocessorComponent=[reranker])"
      ],
      "metadata": {
        "colab": {
          "base_uri": "https://localhost:8080/"
        },
        "id": "n5Niy8Y0ayyz",
        "outputId": "22b09f23-a84c-44d1-d1c6-b6951054ce20"
      },
      "execution_count": 143,
      "outputs": [
        {
          "output_type": "stream",
          "name": "stdout",
          "text": [
            "time: 1.01 ms (started: 2024-10-11 16:04:50 +00:00)\n"
          ]
        }
      ]
    },
    {
      "cell_type": "code",
      "source": [
        "response=qdrant_query_engine.query(\"what are all the plans mentioned in the documents?\")"
      ],
      "metadata": {
        "colab": {
          "base_uri": "https://localhost:8080/"
        },
        "id": "fNzKZWPFt4SC",
        "outputId": "05ce8786-8aa8-49b7-b919-de507a89297f"
      },
      "execution_count": 146,
      "outputs": [
        {
          "output_type": "stream",
          "name": "stdout",
          "text": [
            "time: 2.69 s (started: 2024-10-11 16:10:47 +00:00)\n"
          ]
        }
      ]
    },
    {
      "cell_type": "code",
      "source": [
        "print(response)"
      ],
      "metadata": {
        "colab": {
          "base_uri": "https://localhost:8080/"
        },
        "id": "a6XMaVzkvIhg",
        "outputId": "57503677-c24a-4ecc-c6b4-35ea35d97e4c"
      },
      "execution_count": 147,
      "outputs": [
        {
          "output_type": "stream",
          "name": "stdout",
          "text": [
            "The plans mentioned in the documents are:\n",
            "\n",
            "1. Anthem MediBlue Dual Advantage (HMO D-SNP)\n",
            "2. Anthem Medicare Advantage 2 (PPO)\n",
            "3. Anthem Medicare Advantage (HMO)\n",
            "4. Anthem Full Dual Advantage (PPO D-SNP)\n",
            "5. Anthem MediBlue Access Plus (PPO)\n",
            "6. Anthem MediBlue Access (PPO)\n",
            "time: 1.67 ms (started: 2024-10-11 16:10:52 +00:00)\n"
          ]
        }
      ]
    },
    {
      "cell_type": "markdown",
      "metadata": {
        "id": "ui2iuheUZwfG"
      },
      "source": [
        "## Setup Flow\n"
      ]
    },
    {
      "cell_type": "code",
      "source": [
        "def get_subquery_response_pairs(query,subqueries):\n",
        "    \"\"\"\n",
        "    Function that takes an original query, decomposes it into subqueries,\n",
        "    queries a basic query engine for responses, and returns a JSON\n",
        "    containing subquery/response pairs.\n",
        "\n",
        "    :param query: str : The original query from the user\n",
        "    :return: dict : JSON object with subquery/response pairs\n",
        "    \"\"\"\n",
        "\n",
        "    # Decompose the original query into subqueries\n",
        "\n",
        "\n",
        "    # Initialize an empty dictionary to store indexed subquery-response pairs\n",
        "    subquery_response_pairs = {\n",
        "        \"original_query\": query\n",
        "    }\n",
        "\n",
        "    # Loop through the subqueries and fetch responses, adding indexed key-value pairs\n",
        "    for idx, subquery in enumerate(subqueries[\"sub_queries\"], start=1):\n",
        "        # Get the response from the raw query engine for each subquery\n",
        "        response = qdrant_query_engine.query(subquery)\n",
        "\n",
        "        # Add subquery and response pair to the dictionary in the desired format\n",
        "        subquery_response_pairs[f\"subquery_{idx}\"] = subquery\n",
        "        subquery_response_pairs[f\"response_{idx}\"] = response\n",
        "\n",
        "    # Return the final JSON with indexed subquery/response pairs\n",
        "    return subquery_response_pairs\n",
        "\n",
        "# Example usage\n",
        "# query = \"give all copay details for medicare access plus plan and Anthem full dual advantage PPO D-SNP plan\"\n",
        "# result = get_subquery_response_pairs(query)\n",
        "# print(result)"
      ],
      "metadata": {
        "colab": {
          "base_uri": "https://localhost:8080/"
        },
        "id": "BEKtgIAYm77B",
        "outputId": "f45aa83f-2996-4334-de21-7d96eba9f87f"
      },
      "execution_count": 128,
      "outputs": [
        {
          "output_type": "stream",
          "name": "stdout",
          "text": [
            "time: 1.11 ms (started: 2024-10-11 16:02:24 +00:00)\n"
          ]
        }
      ]
    },
    {
      "cell_type": "code",
      "source": [
        "def get_citations(subquery_response_pairs):\n",
        "  \"\"\"\n",
        "\n",
        "  \"\"\"\n",
        "  citations = []\n",
        "  for key, response in subquery_response_pairs.items():\n",
        "        if hasattr(response, 'source_nodes'):  # Checking if response has source_nodes\n",
        "            source_nodes = response.source_nodes\n",
        "            for node_with_score in source_nodes:\n",
        "                node = node_with_score.node\n",
        "                # Extract metadata, providing fallbacks if not present\n",
        "                file_name = node.metadata.get('file_name', 'Unknown File')\n",
        "                page_label = node.metadata.get('page_label', 'Unknown Page')\n",
        "\n",
        "                # Only append citation if metadata exists\n",
        "                if file_name != 'Unknown File' or page_label != 'Unknown Page':\n",
        "                    citations.append(f\"{file_name} (Page {page_label})\")\n",
        "\n",
        "  return citations"
      ],
      "metadata": {
        "colab": {
          "base_uri": "https://localhost:8080/"
        },
        "id": "VMBqlqitXADe",
        "outputId": "3aff6945-a70d-4afc-9223-8d8b6fa8545b"
      },
      "execution_count": 129,
      "outputs": [
        {
          "output_type": "stream",
          "name": "stdout",
          "text": [
            "time: 1.5 ms (started: 2024-10-11 16:02:24 +00:00)\n"
          ]
        }
      ]
    },
    {
      "cell_type": "code",
      "source": [
        "def get_citations_and_text(subquery_response_pairs):\n",
        "    citations = []\n",
        "    text_chunks = []\n",
        "    for key, response in subquery_response_pairs.items():\n",
        "        if hasattr(response, 'source_nodes'):  # Checking if response has source_nodes\n",
        "            source_nodes = response.source_nodes\n",
        "            for node_with_score in source_nodes:\n",
        "                node = node_with_score.node\n",
        "                # Extract metadata, providing fallbacks if not present\n",
        "                file_name = node.metadata.get('file_name', 'Unknown File')\n",
        "                page_label = node.metadata.get('page_label', 'Unknown Page')\n",
        "\n",
        "                # Only append citation and text if metadata exists\n",
        "                if file_name != 'Unknown File' or page_label != 'Unknown Page':\n",
        "                    citations.append(f\"{file_name} (Page {page_label})\")\n",
        "                    text_chunks.append(f\"Text Chunk (Page {page_label}): {node.text[:200]}...\")  # Limit text to first 200 characters\n",
        "    return citations, text_chunks"
      ],
      "metadata": {
        "colab": {
          "base_uri": "https://localhost:8080/"
        },
        "id": "9Gg0VLhfN6LY",
        "outputId": "7f686b75-5b9e-4b8f-939a-ac15d4d75736"
      },
      "execution_count": 130,
      "outputs": [
        {
          "output_type": "stream",
          "name": "stdout",
          "text": [
            "time: 1.21 ms (started: 2024-10-11 16:02:24 +00:00)\n"
          ]
        }
      ]
    },
    {
      "cell_type": "code",
      "source": [
        "def get_unique_citations_and_text(subquery_response_pairs):\n",
        "\n",
        "    unique_citations = set()  # Use a set to store unique file-page pairs\n",
        "    text_chunks = []\n",
        "\n",
        "    for key, response in subquery_response_pairs.items():\n",
        "        if hasattr(response, 'source_nodes'):  # Checking if response has source_nodes\n",
        "            source_nodes = response.source_nodes\n",
        "            for node_with_score in source_nodes:\n",
        "                node = node_with_score.node\n",
        "                # Extract metadata, providing fallbacks if not present\n",
        "                file_name = node.metadata.get('file_name', 'Unknown File')\n",
        "                page_label = node.metadata.get('page_label', 'Unknown Page')\n",
        "\n",
        "                # Create a unique identifier for each file-page pair\n",
        "                citation_key = (file_name, page_label)\n",
        "\n",
        "                # Add only unique citations\n",
        "                if citation_key not in unique_citations and (file_name != 'Unknown File' or page_label != 'Unknown Page'):\n",
        "                    unique_citations.add(citation_key)\n",
        "                    text_chunks.append(f\"Text Chunk (Page {page_label}): {node.text[:200]}...\")  # Limit text to first 200 characters\n",
        "\n",
        "    # Convert set to list for easier formatting\n",
        "    citations = [f\"{file} (Page {page})\" for file, page in unique_citations]\n",
        "    return citations, text_chunks"
      ],
      "metadata": {
        "colab": {
          "base_uri": "https://localhost:8080/"
        },
        "id": "xf2s-oCSjbBn",
        "outputId": "1a9eef75-c2cc-48fb-b113-b5774d485742"
      },
      "execution_count": 131,
      "outputs": [
        {
          "output_type": "stream",
          "name": "stdout",
          "text": [
            "time: 1 ms (started: 2024-10-11 16:02:24 +00:00)\n"
          ]
        }
      ]
    },
    {
      "cell_type": "code",
      "source": [
        "from langchain.output_parsers import PydanticToolsParser\n",
        "from langchain_core.prompts import ChatPromptTemplate\n",
        "from langchain_openai import ChatOpenAI\n",
        "from langchain_core.pydantic_v1 import BaseModel, Field\n",
        "\n",
        "# Define the SubQuery class as per LangChain's documentation\n",
        "class SubQuery(BaseModel):\n",
        "    \"\"\"Represents a specific sub-query extracted from an original query.\"\"\"\n",
        "    sub_query: str = Field(..., description=\"A specific sub-query to answer the original query.\")\n",
        "\n",
        "# Function to perform query decomposition and return sub-queries as JSON\n",
        "def decompose_query(original_query: str):\n",
        "    # Define the system message for decomposition\n",
        "    # system = \"\"\"You are an expert at converting user questions into specific sub-queries adapted for vercorstore retrieval.\n",
        "    # Given a user question, break it down into distinct sub-queries that will help extract relevant context to answer the original question.\n",
        "    # Each sub-query should focus on a single concept, idea, fact or entity.\n",
        "    # If there are acronyms or words you are not familiar with, do not try to rephrase them.\"\"\"\n",
        "    system = \"\"\"You have access to documents about healthcare insurance plans separately.\n",
        "    You are an expert at converting user questions into database queries. \\\n",
        "\n",
        "    Perform query decomposition. Given a user question, break it down into distinct sub questions that \\\n",
        "    you need to answer in order to answer the original question.\n",
        "\n",
        "    If there are acronyms or words you are not familiar with, do not try to rephrase them.\n",
        "    example :\n",
        "    original query : give all deductibles for every plan mentioned in the data.\n",
        "    sub-query 1 : what are the plans mentioned in the documents?\n",
        "    sub-query 2 : what are the deductibles for each of the plans mentioned in the documents?\n",
        "    \"\"\"\n",
        "\n",
        "    # Create the prompt template\n",
        "    prompt = ChatPromptTemplate.from_messages(\n",
        "        [\n",
        "            (\"system\", system),\n",
        "            (\"human\", \"{question}\"),\n",
        "        ]\n",
        "    )\n",
        "\n",
        "    # Initialize the language model\n",
        "    llm = ChatOpenAI(model=\"gpt-4o\", temperature=0)\n",
        "    #llm = Groq(model=\"llama3-groq-70b-8192-tool-use-preview\")\n",
        "    #llm = ChatGroq(model=\"llama3-groq-70b-8192-tool-use-preview\")\n",
        "    # Bind the SubQuery tool and parser\n",
        "    llm_with_tools = llm.bind_tools([SubQuery])\n",
        "    parser = PydanticToolsParser(tools=[SubQuery])\n",
        "\n",
        "    # Create the query analyzer\n",
        "    query_analyzer = prompt | llm_with_tools | parser\n",
        "\n",
        "    # Run the query analyzer\n",
        "    sub_queries = query_analyzer.invoke({\"question\": original_query})\n",
        "\n",
        "    # Convert the result to JSON format\n",
        "    sub_queries_json = {\n",
        "        \"original_query\": original_query,\n",
        "        \"sub_queries\": [sub_query.sub_query for sub_query in sub_queries]\n",
        "    }\n",
        "\n",
        "    return sub_queries_json\n",
        "\n",
        "# Example usage\n",
        "# query = \"give a list of copay details related to each insurance plan mentioned in the documents you have\"\n",
        "# result = decompose_query(query)\n",
        "# print(result)"
      ],
      "metadata": {
        "colab": {
          "base_uri": "https://localhost:8080/"
        },
        "id": "q1dNuAP2otkN",
        "outputId": "9adba129-8722-42bf-d43e-a9cd7b418ad3"
      },
      "execution_count": 132,
      "outputs": [
        {
          "output_type": "stream",
          "name": "stdout",
          "text": [
            "time: 2.23 ms (started: 2024-10-11 16:02:24 +00:00)\n"
          ]
        }
      ]
    },
    {
      "cell_type": "code",
      "source": [
        "from langchain.output_parsers import PydanticToolsParser\n",
        "from langchain_core.prompts import ChatPromptTemplate\n",
        "from langchain_openai import ChatOpenAI\n",
        "from langchain_core.pydantic_v1 import BaseModel, Field\n",
        "\n",
        "# Define the SubQuery class as per LangChain's documentation\n",
        "class SubQuery(BaseModel):\n",
        "    \"\"\"Represents a specific sub-query extracted from an original query.\"\"\"\n",
        "    sub_query: str = Field(..., description=\"A specific sub-query to answer the original query.\")\n",
        "\n",
        "# Function to perform query decomposition and return sub-queries as JSON\n",
        "def update_subqueries(original_query, subqueries, llm_answer):\n",
        "\n",
        "    # Define the system message for decomposition\n",
        "    system = \"\"\"You have access to documents about healthcare insurance plans separately.\n",
        "    Given a user question, and a list of sub-queries in the form of steps, update the list of subqueries based on the context provided so that it will help extract relevant context to answer the original complex question.\n",
        "    If there are acronyms or words you are not familiar with, do not try to rephrase them.\n",
        "    Always return an updated list of sub-queries.\n",
        "    \"\"\"\n",
        "\n",
        "    # Create the prompt template with correctly referenced variables\n",
        "    prompt = ChatPromptTemplate.from_messages(\n",
        "        [\n",
        "            (\"system\", system),\n",
        "            (\"human\", f\"Original Query: {original_query}\\n\\n Old list of sub-queries: {subqueries['sub_queries']}\\n\\nSub-query 1 (treated): {subqueries['sub_queries'][0]}\\n\\nContext for Sub-query 1: {llm_answer}\\n\\nUpdate the old list of sub-queries based on the new context provided about subquery_1.\\n\\nsub_querie : \")\n",
        "        ]\n",
        "    )\n",
        "\n",
        "    # Initialize the language model\n",
        "    llm = ChatOpenAI(model=\"gpt-4o\", temperature=0)\n",
        "\n",
        "    # Bind the SubQuery tool and parser\n",
        "    llm_with_tools = llm.bind_tools([SubQuery])\n",
        "    #print( llm_with_tools)\n",
        "    parser = PydanticToolsParser(tools=[SubQuery])\n",
        "\n",
        "    # Create the query analyzer\n",
        "    query_analyzer = prompt | llm_with_tools | parser\n",
        "\n",
        "    # Run the query analyzer\n",
        "    sub_queries = query_analyzer.invoke({\n",
        "        \"original_query\": original_query,\n",
        "        \"subqueries\": subqueries,\n",
        "        \"subqueries_0\": subqueries['sub_queries'][0],\n",
        "        \"llm_answer\": llm_answer\n",
        "    })\n",
        "\n",
        "    # Convert the result to JSON format\n",
        "    sub_queries_json = {\n",
        "        \"original_query\": original_query,\n",
        "\n",
        "        \"sub_queries\": [sub_query.sub_query for sub_query in sub_queries]\n",
        "    }\n",
        "    #print(prompt)\n",
        "    return sub_queries_json\n",
        "\n",
        "# # Example usage\n",
        "# query = \"give a list of the copays for all plans\"\n",
        "# subqueries = {\n",
        "#     'original_query': 'give all copays for all the plans mentioned in the document',\n",
        "#     'sub_queries': [\n",
        "#         'what are the plans mentioned in the documents?',\n",
        "#         'what are the copays for each of the plans mentioned in the documents?'\n",
        "#     ]\n",
        "# }\n",
        "# llm_answer = \"All plans mentioned are AB, BC, and DC.\"\n",
        "# result = update_subqueries(query, subqueries, llm_answer)\n",
        "# print(result)"
      ],
      "metadata": {
        "colab": {
          "base_uri": "https://localhost:8080/"
        },
        "id": "p4AzQ3mzLIAW",
        "outputId": "615b2acf-825a-4854-eead-4350f0c18889"
      },
      "execution_count": 133,
      "outputs": [
        {
          "output_type": "stream",
          "name": "stdout",
          "text": [
            "time: 2.68 ms (started: 2024-10-11 16:02:24 +00:00)\n"
          ]
        }
      ]
    },
    {
      "cell_type": "code",
      "source": [
        "from langchain_openai import ChatOpenAI\n",
        "from langchain_core.prompts import ChatPromptTemplate\n",
        "\n",
        "def generate_final_answer(step1_result,subquery_response_pairs):\n",
        "    \"\"\"\n",
        "    Function to generate a final answer using an LLM based on the original query, subqueries,\n",
        "    and their retrieved responses.\n",
        "\n",
        "    :param subquery_response_pairs: dict : The dictionary containing the original query, subqueries, and responses\n",
        "    :return: str : The final answer generated by the LLM\n",
        "    \"\"\"\n",
        "\n",
        "    # Extract original query\n",
        "    original_query = subquery_response_pairs[\"original_query\"]\n",
        "\n",
        "    # Construct context from subqueries and responses\n",
        "    context = \"\"\n",
        "    context += f\"step 1 result: {step1_result}\\n\\n\"\n",
        "    for idx in range(1, len(subquery_response_pairs) // 2 + 1):  # Dividing by 2 because we have subquery/response pairs\n",
        "        subquery = subquery_response_pairs[f\"subquery_{idx}\"]\n",
        "        response = subquery_response_pairs[f\"response_{idx}\"]\n",
        "        context += f\"Subquery {idx}: {subquery}\\nRetrieved Context {idx}: {response}\\n\\n\"\n",
        "\n",
        "    # Define the system prompt\n",
        "    system_message = \"\"\"You are an expert in answering complex questions by decomposing them into subqueries and using retrieved information to construct a final answer.\n",
        "    Given the original query, the subqueries, and their retrieved contexts, please provide a comprehensive answer to the original question.\n",
        "    \"\"\"\n",
        "\n",
        "    # Create the chat template for the LLM\n",
        "    prompt = ChatPromptTemplate.from_messages(\n",
        "        [\n",
        "            (\"system\", system_message),\n",
        "            (\"human\", f\"Original Query: {original_query}\\n\\n{context}\\nAnswer the original question using the context provided.\")\n",
        "        ]\n",
        "    )\n",
        "\n",
        "    # Initialize the LLM\n",
        "    llm = ChatOpenAI(model=\"gpt-4o\", temperature=0,seed=0, max_tokens=16384)\n",
        "\n",
        "    # Run the LLM to generate the final answer\n",
        "    chain = prompt | llm\n",
        "    final_answer=chain.invoke(    {\n",
        "        \"system_message\": system_message,\n",
        "        \"original_query\": original_query,\n",
        "        \"context\": context,\n",
        "    })\n",
        "\n",
        "\n",
        "\n",
        "    # Return the final answer\n",
        "    return final_answer\n"
      ],
      "metadata": {
        "colab": {
          "base_uri": "https://localhost:8080/"
        },
        "id": "hrwZtvDGsMIf",
        "outputId": "17addd23-d1df-4e78-e95c-9e178fd731ee"
      },
      "execution_count": 134,
      "outputs": [
        {
          "output_type": "stream",
          "name": "stdout",
          "text": [
            "time: 2.57 ms (started: 2024-10-11 16:02:24 +00:00)\n"
          ]
        }
      ]
    },
    {
      "cell_type": "code",
      "source": [
        "def pretty_print_llm_output(llm_output,subquery_response_pairs):\n",
        "    \"\"\"\n",
        "    Pretty printer function for LLM output, formatting the content, additional info, and metadata.\n",
        "\n",
        "    :param llm_output: AIMessage : An instance of AIMessage containing LLM output content and metadata\n",
        "    :return: str : Formatted string for pretty-printed output\n",
        "    \"\"\"\n",
        "\n",
        "    # Extract content from the AIMessage object directly\n",
        "    content = llm_output.content if hasattr(llm_output, 'content') else 'No content available'\n",
        "    additional_kwargs = llm_output.additional_kwargs if hasattr(llm_output, 'additional_kwargs') else {}\n",
        "    response_metadata = llm_output.response_metadata if hasattr(llm_output, 'response_metadata') else {}\n",
        "    usage_metadata = llm_output.usage_metadata if hasattr(llm_output, 'usage_metadata') else {}\n",
        "\n",
        "    # Pretty print the output content\n",
        "    pretty_output = \"===== LLM Response Content =====\\n\"\n",
        "    pretty_output += content + \"\\n\\n\"\n",
        "\n",
        "    # Extract citations and text chunks\n",
        "    citations, text_chunks = get_unique_citations_and_text(subquery_response_pairs)\n",
        "\n",
        "\n",
        "    # Format the final answer with citations and text chunks\n",
        "    pretty_output += \"===== Additional Information =====\\n\"\n",
        "\n",
        "    if citations:\n",
        "        pretty_output += \"\\n\\nCitations:\\n\" + \"\\n\".join(citations)\n",
        "\n",
        "    if text_chunks:\n",
        "        pretty_output += \"\\n\\nRelevant Text Chunks:\\n\" + \"\\n\".join(text_chunks)\n",
        "\n",
        "    pretty_output += \"\\n\\n\"\n",
        "\n",
        "\n",
        "    # Response Metadata\n",
        "    if response_metadata:\n",
        "        pretty_output += \"===== Response Metadata =====\\n\"\n",
        "        token_usage = response_metadata.get('token_usage', {})\n",
        "        model_name = response_metadata.get('model_name', 'Unknown model')\n",
        "        finish_reason = response_metadata.get('finish_reason', 'Unknown reason')\n",
        "\n",
        "        pretty_output += f\"Model Name: {model_name}\\n\"\n",
        "        pretty_output += f\"Finish Reason: {finish_reason}\\n\"\n",
        "        pretty_output += f\"Completion Tokens: {token_usage.get('completion_tokens', 'N/A')}\\n\"\n",
        "        pretty_output += f\"Prompt Tokens: {token_usage.get('prompt_tokens', 'N/A')}\\n\"\n",
        "        pretty_output += f\"Total Tokens: {token_usage.get('total_tokens', 'N/A')}\\n\"\n",
        "        pretty_output += \"\\n\"\n",
        "\n",
        "    # Usage Metadata\n",
        "    if usage_metadata:\n",
        "        pretty_output += \"===== Usage Metadata =====\\n\"\n",
        "        pretty_output += f\"Input Tokens: {usage_metadata.get('input_tokens', 'N/A')}\\n\"\n",
        "        pretty_output += f\"Output Tokens: {usage_metadata.get('output_tokens', 'N/A')}\\n\"\n",
        "        pretty_output += f\"Total Tokens: {usage_metadata.get('total_tokens', 'N/A')}\\n\"\n",
        "        pretty_output += \"\\n\"\n",
        "\n",
        "    return pretty_output\n",
        "\n",
        "# Example usage with the provided LLM output as an AIMessage object\n",
        "# formatted_output = pretty_print_llm_output(final_answer)\n",
        "# print(formatted_output)\n"
      ],
      "metadata": {
        "colab": {
          "base_uri": "https://localhost:8080/"
        },
        "id": "IER-7C0J6gwG",
        "outputId": "cf2c820e-22e4-4344-e3dd-a21dcb70edf4"
      },
      "execution_count": 135,
      "outputs": [
        {
          "output_type": "stream",
          "name": "stdout",
          "text": [
            "time: 1.15 ms (started: 2024-10-11 16:02:24 +00:00)\n"
          ]
        }
      ]
    },
    {
      "cell_type": "code",
      "source": [
        "# Example usage\n",
        "query = \"what are all copays for all plans mentioned \"\n",
        "\n",
        "#Decompose the original query into sub-queries\n",
        "subqueries = decompose_query(original_query=query)\n",
        "print(\"subqueries version 1 : \", subqueries)\n",
        "\n",
        "#Get context for sub-query 1 (Step 1)\n",
        "step1=qdrant_query_engine.query(subqueries['sub_queries'][0])\n",
        "\n",
        "#print(step1)\n",
        "\n",
        "#Update subqueries based on step1 results\n",
        "updated_subqueries = update_subqueries(query,subqueries,step1)\n",
        "print(\"subqueries version 2 : \", updated_subqueries)\n",
        "\n",
        "#Get context for updated list of subqueries\n",
        "subquery_response_pairs = get_subquery_response_pairs(query,updated_subqueries)\n",
        "print(\"subquery_response_pairs: \",subquery_response_pairs)\n",
        "# Extract citations\n",
        "#citations = get_citations(subquery_response_pairs)\n",
        "#print(\"citations: \",citations)\n",
        "\n",
        "#Pass sub-queries and related context to a final llm call\n",
        "final_answer = generate_final_answer(step1,subquery_response_pairs)\n",
        "\n",
        "formatted_output = pretty_print_llm_output(final_answer,subquery_response_pairs)\n",
        "print(formatted_output)"
      ],
      "metadata": {
        "colab": {
          "base_uri": "https://localhost:8080/"
        },
        "id": "oaFkBhIKNwDk",
        "outputId": "c25a49a5-b6f0-4ec4-e672-7adcdbd81606"
      },
      "execution_count": 148,
      "outputs": [
        {
          "output_type": "stream",
          "name": "stdout",
          "text": [
            "subqueries version 1 :  {'original_query': 'what are all copays for all plans mentioned ', 'sub_queries': ['what are the plans mentioned in the documents?', 'what are the copays for each of the plans mentioned in the documents?']}\n",
            "subqueries version 2 :  {'original_query': 'what are all copays for all plans mentioned ', 'sub_queries': ['what are the copays for Anthem Medicare Advantage 2 (PPO)?', 'what are the copays for Anthem MediBlue Dual Advantage (HMO D-SNP)?', 'what are the copays for Anthem MediBlue Access Plus (PPO)?', 'what are the copays for Anthem MediBlue Access (PPO)?', 'what are the copays for Anthem Medicare Advantage (HMO)?']}\n",
            "subquery_response_pairs:  {'original_query': 'what are all copays for all plans mentioned ', 'subquery_1': 'what are the copays for Anthem Medicare Advantage 2 (PPO)?', 'response_1': Response(response='The copays for Anthem Medicare Advantage 2 (PPO) are as follows:\\n\\n- Emergency Care: $90.00 copay\\n- Urgently Needed Services: $30.00 copay\\n- Diagnostic Radiology Services (such as MRIs, CT scans) at doctors’ offices in the plan: $130.00 copay; at outpatient facilities in the plan: $150.00 copay\\n- Diagnostic Tests and Procedures at doctors’ offices in the plan: $50.00 copay; at outpatient facilities in the plan: $140.00 copay\\n- Lab Services at doctors’ offices and outpatient facilities in the plan: $15.00 copay\\n- Outpatient X-rays at doctors’ offices and freestanding facilities in the plan: $50.00 copay; at outpatient hospitals or facilities in the plan: $110.00 copay\\n- Doctor’s Office Visits for primary care physicians (PCPs) in the plan: $5.00 copay; for specialists in the plan: $35.00 copay\\n- Preventive Care Screenings and Annual Physical Exams with doctors in the plan: $0.00 copay\\n- Physical Therapy with doctors and facilities in the plan: $30.00 copay\\n- Ground/Water and Air Ambulance services: $300.00 copay per trip\\n- Chiropractic Care with providers in the plan: $15.00 copay\\n- Medicare-covered Podiatry Services with doctors in the plan: $0.00 - $35.00 copay\\n\\nThese copays apply to services provided by doctors and facilities within the plan network.', source_nodes=[NodeWithScore(node=TextNode(id_='27fffb66-0991-4ddf-9995-d8f5673346b5', embedding=None, metadata={'page_label': '12', 'file_name': 'Anthem Medicare Advantage 2 (PPO).pdf', 'file_path': '/content/test_files/Anthem Medicare Advantage 2 (PPO).pdf', 'file_type': 'application/pdf', 'file_size': 737766, 'creation_date': '2024-10-11', 'last_modified_date': '2024-10-11'}, excluded_embed_metadata_keys=['file_name', 'file_type', 'file_size', 'creation_date', 'last_modified_date', 'last_accessed_date'], excluded_llm_metadata_keys=['file_name', 'file_type', 'file_size', 'creation_date', 'last_modified_date', 'last_accessed_date'], relationships={<NodeRelationship.SOURCE: '1'>: RelatedNodeInfo(node_id='f7f3076b-acd2-4f26-97cc-8871cd0d99f6', node_type=<ObjectType.DOCUMENT: '4'>, metadata={'page_label': '12', 'file_name': 'Anthem Medicare Advantage 2 (PPO).pdf', 'file_path': '/content/test_files/Anthem Medicare Advantage 2 (PPO).pdf', 'file_type': 'application/pdf', 'file_size': 737766, 'creation_date': '2024-10-11', 'last_modified_date': '2024-10-11'}, hash='5c697585c12d2a13bebdbf22b35ff25da537a8e6f306b4d74d8a3223f0631138')}, text='Summary of BenefitsAnthem Medicare Advantage 2 \\n(PPO)Anthem Medicare Advantage \\n(PPO)\\nEmergency Care\\n$90.00  copay\\nEmergency and Urgent Care \\nWorldwide Coverage\\n$90.00  copay\\nThis plan covers urgent care and \\nemergency services when traveling \\noutside of the United States for less \\nthan six months. This benefit is \\nlimited to $100,000.00  per year.$90.00  copay\\nEmergency and Urgent Care \\nWorldwide Coverage\\n$90.00  copay\\nThis plan covers urgent care and \\nemergency services when traveling \\noutside of the United States for less \\nthan six months. This benefit is \\nlimited to $100,000.00  per year.\\nUrgently Needed Services\\n$30.00  copay $35.00  copay\\nDiagnostic Services, Labs, and Imaging1,3\\nAnthem Medicare \\nAdvantage 2 \\n(PPO)Anthem Medicare \\nAdvantage (PPO)\\nDiagnostic Radiology Services \\n(such as MRIs, CT scans)\\nDoctors’ offices in our plan: $130.00 copay $150.00 copay\\nOutpatient facilities in our plan: $150.00 copay $250.00 copay\\nDoctors’ offices and facilities not\\nin our plan:40% coinsurance 40% coinsurance\\n12', mimetype='text/plain', start_char_idx=2, end_char_idx=1024, text_template='{metadata_str}\\n\\n{content}', metadata_template='{key}: {value}', metadata_seperator='\\n'), score=0.77214813), NodeWithScore(node=TextNode(id_='9a1082ef-f245-44c8-8b61-fafbf2fddb62', embedding=None, metadata={'page_label': '10', 'file_name': 'Anthem Medicare Advantage 2 (PPO).pdf', 'file_path': '/content/test_files/Anthem Medicare Advantage 2 (PPO).pdf', 'file_type': 'application/pdf', 'file_size': 737766, 'creation_date': '2024-10-11', 'last_modified_date': '2024-10-11'}, excluded_embed_metadata_keys=['file_name', 'file_type', 'file_size', 'creation_date', 'last_modified_date', 'last_accessed_date'], excluded_llm_metadata_keys=['file_name', 'file_type', 'file_size', 'creation_date', 'last_modified_date', 'last_accessed_date'], relationships={<NodeRelationship.SOURCE: '1'>: RelatedNodeInfo(node_id='8d8e9c0a-d13b-486f-8054-3783ddbe83d2', node_type=<ObjectType.DOCUMENT: '4'>, metadata={'page_label': '10', 'file_name': 'Anthem Medicare Advantage 2 (PPO).pdf', 'file_path': '/content/test_files/Anthem Medicare Advantage 2 (PPO).pdf', 'file_type': 'application/pdf', 'file_size': 737766, 'creation_date': '2024-10-11', 'last_modified_date': '2024-10-11'}, hash='d32910b46b73c843778599f4af32f34fdde232c9ba67c3fd0d48095dce0a994d')}, text='Summary of BenefitsAnthem Medicare Advantage 2 \\n(PPO)Anthem Medicare Advantage \\n(PPO)\\nDoctor’s Office Visits3\\nPrimary care physician (PCP) visit:\\nPCPs in our plan: $5.00  copay\\nPCPs not in our plan: $35.00  copayPCPs in our plan: $5.00  copay\\nPCPs not in our plan: $50.00  copay\\nSpecialist visit :1\\nDoctors in our plan: $35.00  copay\\nDoctors not in our plan: $60.00  \\ncopayDoctors in our plan: $40.00  copay\\nDoctors not in our plan: $60.00  \\ncopay\\nPreventive Care Screenings  and Annual Physical Exams\\nPreventive care screenings :3\\nDoctors in our plan: $0.00  copay\\nDoctors not in our plan: 40%  \\ncoinsuranceDoctors in our plan: $0.00  copay\\nDoctors not in our plan: 40%  \\ncoinsurance\\nAnnual physical exam :\\nDoctors in our plan: $0.00  copay\\nDoctors not in our plan: $60.00  \\ncopayDoctors in our plan: $0.00  copay\\nDoctors not in our plan: $60.00  \\ncopay\\n10', mimetype='text/plain', start_char_idx=2, end_char_idx=859, text_template='{metadata_str}\\n\\n{content}', metadata_template='{key}: {value}', metadata_seperator='\\n'), score=0.77176064), NodeWithScore(node=TextNode(id_='34e71b46-bf5d-45a7-896c-c73ac6dfed7a', embedding=None, metadata={'page_label': '13', 'file_name': 'Anthem Medicare Advantage 2 (PPO).pdf', 'file_path': '/content/test_files/Anthem Medicare Advantage 2 (PPO).pdf', 'file_type': 'application/pdf', 'file_size': 737766, 'creation_date': '2024-10-11', 'last_modified_date': '2024-10-11'}, excluded_embed_metadata_keys=['file_name', 'file_type', 'file_size', 'creation_date', 'last_modified_date', 'last_accessed_date'], excluded_llm_metadata_keys=['file_name', 'file_type', 'file_size', 'creation_date', 'last_modified_date', 'last_accessed_date'], relationships={<NodeRelationship.SOURCE: '1'>: RelatedNodeInfo(node_id='c4a531ed-ee40-4a6b-b62b-70317a337216', node_type=<ObjectType.DOCUMENT: '4'>, metadata={'page_label': '13', 'file_name': 'Anthem Medicare Advantage 2 (PPO).pdf', 'file_path': '/content/test_files/Anthem Medicare Advantage 2 (PPO).pdf', 'file_type': 'application/pdf', 'file_size': 737766, 'creation_date': '2024-10-11', 'last_modified_date': '2024-10-11'}, hash='1bf0da6f1ada1da9ee535adc6a4a5415e888313f0f51743344c7a0599f9f8744')}, text='Summary of BenefitsAnthem Medicare Advantage 2 \\n(PPO)Anthem Medicare Advantage \\n(PPO)\\nDiagnostic Services, Labs, and Imaging1,3\\nAnthem Medicare \\nAdvantage 2 \\n(PPO)Anthem Medicare \\nAdvantage (PPO)\\nDiagnostic Tests and Procedures\\nDoctors’ offices in our plan: $50.00 copay $70.00 copay\\nOutpatient facilities in our plan: $140.00 copay $140.00 copay\\nDoctors’ offices and facilities not \\nin our plan:40% coinsurance 40% coinsurance\\nLab Services\\nDoctors’ offices in our plan: $15.00 copay $10.00 copay\\n  Outpatient facilities in our plan: $15.00 copay $10.00 copay\\nDoctors’ offices and facilities not \\nin our plan:40% coinsurance 40% coinsurance\\nOutpatient X-rays\\nDoctors’ offices in our plan: $50.00 copay $30.00 copay\\nOutpatient hospitals or facilities \\nin our plan:$110.00 copay $90.00 copay\\nFreestanding facility or at-home \\nportable x-ray services in our plan:$50.00 copay $30.00 copay\\nDoctors’ offices, hospitals, and \\nfacilities not in our plan:40% coinsurance 40% coinsurance\\n 13', mimetype='text/plain', start_char_idx=1, end_char_idx=983, text_template='{metadata_str}\\n\\n{content}', metadata_template='{key}: {value}', metadata_seperator='\\n'), score=0.7579285), NodeWithScore(node=TextNode(id_='e5f29bc8-d8ea-4537-81ae-4602a4f59c1e', embedding=None, metadata={'page_label': '20', 'file_name': 'Anthem Medicare Advantage 2 (PPO).pdf', 'file_path': '/content/test_files/Anthem Medicare Advantage 2 (PPO).pdf', 'file_type': 'application/pdf', 'file_size': 737766, 'creation_date': '2024-10-11', 'last_modified_date': '2024-10-11'}, excluded_embed_metadata_keys=['file_name', 'file_type', 'file_size', 'creation_date', 'last_modified_date', 'last_accessed_date'], excluded_llm_metadata_keys=['file_name', 'file_type', 'file_size', 'creation_date', 'last_modified_date', 'last_accessed_date'], relationships={<NodeRelationship.SOURCE: '1'>: RelatedNodeInfo(node_id='b7162851-c12a-41a0-a3ba-0cd24bfbe466', node_type=<ObjectType.DOCUMENT: '4'>, metadata={'page_label': '20', 'file_name': 'Anthem Medicare Advantage 2 (PPO).pdf', 'file_path': '/content/test_files/Anthem Medicare Advantage 2 (PPO).pdf', 'file_type': 'application/pdf', 'file_size': 737766, 'creation_date': '2024-10-11', 'last_modified_date': '2024-10-11'}, hash='3f02660675372795d2d714f7344e12efab5a6c9d42d6ae14a5cf3ea85aaf865c')}, text='Summary of BenefitsAnthem Medicare Advantage 2 \\n(PPO)Anthem Medicare Advantage \\n(PPO)\\nPhysical Therapy1,3\\nDoctors and facilities in our plan: \\n$30.00  copay\\nDoctors and facilities not in our \\nplan: $60.00  copayDoctors and facilities in our plan: \\n$40.00  copay\\nDoctors and facilities not in our \\nplan: $60.00  copay\\nAmbulance1\\nGround/Water Ambulance:\\nEmergency transportation services \\nin and out of our plan: $300.00  \\ncopay per tripEmergency transportation services \\nin and out of our plan: $285.00  \\ncopay per trip\\nAir Ambulance:\\nEmergency transportation services \\nin and out of our plan: $300.00  \\ncopay per tripEmergency transportation services \\nin and out of our plan: $285.00  \\ncopay per trip\\nTransportation\\nNot Covered Not Covered\\n20', mimetype='text/plain', start_char_idx=2, end_char_idx=744, text_template='{metadata_str}\\n\\n{content}', metadata_template='{key}: {value}', metadata_seperator='\\n'), score=0.75708556), NodeWithScore(node=TextNode(id_='ba70b3a1-802a-48e4-8e3e-5b131299e45f', embedding=None, metadata={'page_label': '22', 'file_name': 'Anthem Medicare Advantage 2 (PPO).pdf', 'file_path': '/content/test_files/Anthem Medicare Advantage 2 (PPO).pdf', 'file_type': 'application/pdf', 'file_size': 737766, 'creation_date': '2024-10-11', 'last_modified_date': '2024-10-11'}, excluded_embed_metadata_keys=['file_name', 'file_type', 'file_size', 'creation_date', 'last_modified_date', 'last_accessed_date'], excluded_llm_metadata_keys=['file_name', 'file_type', 'file_size', 'creation_date', 'last_modified_date', 'last_accessed_date'], relationships={<NodeRelationship.SOURCE: '1'>: RelatedNodeInfo(node_id='16ce0e6e-7895-4d19-a03f-36ba51802d1c', node_type=<ObjectType.DOCUMENT: '4'>, metadata={'page_label': '22', 'file_name': 'Anthem Medicare Advantage 2 (PPO).pdf', 'file_path': '/content/test_files/Anthem Medicare Advantage 2 (PPO).pdf', 'file_type': 'application/pdf', 'file_size': 737766, 'creation_date': '2024-10-11', 'last_modified_date': '2024-10-11'}, hash='6ab57acb92b5984b164e38abf53f7bc50de3de47d81ea0abc8d65f1b9cd23f26')}, text='Additional benefits  Summary of BenefitsAnthem Medicare Advantage 2 \\n(PPO)Anthem Medicare Advantage \\n(PPO)\\nChiropractic Care1,3\\nMedicare-covered chiropractic services:\\nProviders in our plan: $15.00  copay\\nProviders not in our plan: $60.00  \\ncopayProviders in our plan: $15.00  copay\\nProviders not in our plan: $60.00  \\ncopay\\nMedicare coverage includes manipulation of the spine to correct a subluxation (when one \\nor more of the bones of your spine move out of position).\\nFoot Care  (podiatry services)1,3\\nMedicare-covered podiatry:\\nDoctors in our plan: $0.00  copay - \\n$35.00  copay\\nDoctors not in our plan: $60.00  \\ncopayDoctors in our plan: $0.00  copay - \\n$40.00  copay\\nDoctors not in our plan: $60.00  \\ncopay\\nFoot exams and treatment are covered if you have diabetes-related nerve damage and/\\nor meet certain conditions.\\nYou pay nothing for Medicare-covered routine  podiatry services. For all other Medicare-\\ncovered podiatry services, you pay the higher amount shown above.\\n22', mimetype='text/plain', start_char_idx=0, end_char_idx=983, text_template='{metadata_str}\\n\\n{content}', metadata_template='{key}: {value}', metadata_seperator='\\n'), score=0.7557518)], metadata={'27fffb66-0991-4ddf-9995-d8f5673346b5': {'page_label': '12', 'file_name': 'Anthem Medicare Advantage 2 (PPO).pdf', 'file_path': '/content/test_files/Anthem Medicare Advantage 2 (PPO).pdf', 'file_type': 'application/pdf', 'file_size': 737766, 'creation_date': '2024-10-11', 'last_modified_date': '2024-10-11'}, '9a1082ef-f245-44c8-8b61-fafbf2fddb62': {'page_label': '10', 'file_name': 'Anthem Medicare Advantage 2 (PPO).pdf', 'file_path': '/content/test_files/Anthem Medicare Advantage 2 (PPO).pdf', 'file_type': 'application/pdf', 'file_size': 737766, 'creation_date': '2024-10-11', 'last_modified_date': '2024-10-11'}, '34e71b46-bf5d-45a7-896c-c73ac6dfed7a': {'page_label': '13', 'file_name': 'Anthem Medicare Advantage 2 (PPO).pdf', 'file_path': '/content/test_files/Anthem Medicare Advantage 2 (PPO).pdf', 'file_type': 'application/pdf', 'file_size': 737766, 'creation_date': '2024-10-11', 'last_modified_date': '2024-10-11'}, 'e5f29bc8-d8ea-4537-81ae-4602a4f59c1e': {'page_label': '20', 'file_name': 'Anthem Medicare Advantage 2 (PPO).pdf', 'file_path': '/content/test_files/Anthem Medicare Advantage 2 (PPO).pdf', 'file_type': 'application/pdf', 'file_size': 737766, 'creation_date': '2024-10-11', 'last_modified_date': '2024-10-11'}, 'ba70b3a1-802a-48e4-8e3e-5b131299e45f': {'page_label': '22', 'file_name': 'Anthem Medicare Advantage 2 (PPO).pdf', 'file_path': '/content/test_files/Anthem Medicare Advantage 2 (PPO).pdf', 'file_type': 'application/pdf', 'file_size': 737766, 'creation_date': '2024-10-11', 'last_modified_date': '2024-10-11'}}), 'subquery_2': 'what are the copays for Anthem MediBlue Dual Advantage (HMO D-SNP)?', 'response_2': Response(response='The copays for Anthem MediBlue Dual Advantage (HMO D-SNP) are $0.00 for various services, including outpatient hospital visits, ambulatory surgical centers, primary care physician visits, specialist visits, preventive care screenings, annual physical exams, home health care, medical equipment and supplies, diabetic supplies and services, cardiac and pulmonary rehabilitation services, and inpatient hospital stays. Additionally, there is no copay for certain meal benefits following hospitalization and for chronic condition nutritional needs. For prescription drugs, the copay ranges from $0 to $8.95 depending on the drug tier and the level of \"Extra Help\" received.', source_nodes=[NodeWithScore(node=TextNode(id_='2887f9d8-a094-4c92-ab56-28ddf4d00e80', embedding=None, metadata={'page_label': '11', 'file_name': 'Anthem MediBlue Dual Advantage (HMO D-SNP) Document.pdf', 'file_path': '/content/test_files/Anthem MediBlue Dual Advantage (HMO D-SNP) Document.pdf', 'file_type': 'application/pdf', 'file_size': 2020117, 'creation_date': '2024-10-11', 'last_modified_date': '2024-10-11'}, excluded_embed_metadata_keys=['file_name', 'file_type', 'file_size', 'creation_date', 'last_modified_date', 'last_accessed_date'], excluded_llm_metadata_keys=['file_name', 'file_type', 'file_size', 'creation_date', 'last_modified_date', 'last_accessed_date'], relationships={<NodeRelationship.SOURCE: '1'>: RelatedNodeInfo(node_id='4522a254-e8ef-44b2-b04f-9a614c50c692', node_type=<ObjectType.DOCUMENT: '4'>, metadata={'page_label': '11', 'file_name': 'Anthem MediBlue Dual Advantage (HMO D-SNP) Document.pdf', 'file_path': '/content/test_files/Anthem MediBlue Dual Advantage (HMO D-SNP) Document.pdf', 'file_type': 'application/pdf', 'file_size': 2020117, 'creation_date': '2024-10-11', 'last_modified_date': '2024-10-11'}, hash='d2ac3c9cb47f79d43c55cfec86ac4ac22958bf7c2cd205cacc8a0a920bdb269e')}, text='summary of benefitsAnthem MediBlue Dual Advantage (HMO D-SNP)\\nOutpatient Hospital\\nDoctors and facilities in our plan:  $0.00 copay\\nAmbulatory Surgical Center\\nDoctors and facilities in our plan:  $0.00 copay\\nNote: We highly recommend you talk to your PCP first, before you get care \\nfrom a specialist.\\nDoctor’s Office Visits\\nPrimary care physician (PCP) visit:\\nPCPs in our plan:  $0.00 copay \\nSpecialist visit:\\nDoctors in our plan:  $0.00 copay\\nNote: We highly recommend you talk to your PCP first, before you get care \\nfrom a specialist.\\nPreventive Care Screenings  and Annual Physical Exams\\nPreventive care screenings:\\nDoctors in our plan:  $0.00 copay\\nAnnual physical exam:\\nDoctors in our plan:  $0.00 copay\\nSome services, procedures or drugs are only covered if your  PCP or other provider gets permission from \\nour plan first.  This is called  prior authorization (pre-approval).  Please contact your PCP or refer to the \\nEvidence of Coverage  (EOC) for services that require prior authorization.\\nAnthem MediBlue Dual Advantage (HMO D-SNP)  11', mimetype='text/plain', start_char_idx=0, end_char_idx=1047, text_template='{metadata_str}\\n\\n{content}', metadata_template='{key}: {value}', metadata_seperator='\\n'), score=0.7565993), NodeWithScore(node=TextNode(id_='e14377eb-1c54-45b9-bfb7-55cbe5549793', embedding=None, metadata={'page_label': '22', 'file_name': 'Anthem MediBlue Dual Advantage (HMO D-SNP) Document.pdf', 'file_path': '/content/test_files/Anthem MediBlue Dual Advantage (HMO D-SNP) Document.pdf', 'file_type': 'application/pdf', 'file_size': 2020117, 'creation_date': '2024-10-11', 'last_modified_date': '2024-10-11'}, excluded_embed_metadata_keys=['file_name', 'file_type', 'file_size', 'creation_date', 'last_modified_date', 'last_accessed_date'], excluded_llm_metadata_keys=['file_name', 'file_type', 'file_size', 'creation_date', 'last_modified_date', 'last_accessed_date'], relationships={<NodeRelationship.SOURCE: '1'>: RelatedNodeInfo(node_id='983de378-0018-4b48-aa50-417c98bafb8e', node_type=<ObjectType.DOCUMENT: '4'>, metadata={'page_label': '22', 'file_name': 'Anthem MediBlue Dual Advantage (HMO D-SNP) Document.pdf', 'file_path': '/content/test_files/Anthem MediBlue Dual Advantage (HMO D-SNP) Document.pdf', 'file_type': 'application/pdf', 'file_size': 2020117, 'creation_date': '2024-10-11', 'last_modified_date': '2024-10-11'}, hash='b942bc146b3d091f93f950f478aa0992c15d5fe84107d9fc327d028b33e2d0c9')}, text='summary of benefitsAnthem MediBlue Dual Advantage (HMO D-SNP)\\nHome Health Care\\nDoctors and facilities in our plan:  $0.00 copay\\nNote: We highly recommend you talk to your PCP first, before you get care \\nfrom a specialist.\\nLiveHealth Online\\nLets you talk to a board-certified doctor, or licensed psychologist or therapist, \\nby live, two-way video on a computer, smartphone or tablet.\\nPlease refer to the Evidence of Coverage  for additional information.\\nMeals Benefit\\nPost Hospitalization Meals\\n$0.00 copay for up to 2 meals a day for 7 days following your discharge from \\nthe hospital. \\nChronic Meals\\n$0.00 copay for up to 3 meals a day for 14 days to support your chronic \\ncondition nutritional needs.\\nMedical Equipment/Supplies\\nDurable Medical Equipment (wheelchairs, oxygen, etc.) :\\nSuppliers in our plan:  $0.00 copay\\nMedical supplies and prosthetic devices (braces, artificial limbs, etc.):\\nSuppliers in our plan:  $0.00 copay\\nSome services, procedures or drugs are only covered if your  PCP or other provider gets permission from \\nour plan first.  This is called  prior authorization (pre-approval).  Please contact your PCP or refer to the \\nEvidence of Coverage  (EOC) for services that require prior authorization.\\n22Anthem MediBlue Dual Advantage (HMO D-SNP)', mimetype='text/plain', start_char_idx=0, end_char_idx=1267, text_template='{metadata_str}\\n\\n{content}', metadata_template='{key}: {value}', metadata_seperator='\\n'), score=0.7495649), NodeWithScore(node=TextNode(id_='96ed5347-4901-47a3-b253-374524f7bd74', embedding=None, metadata={'page_label': '31', 'file_name': 'Anthem MediBlue Dual Advantage (HMO D-SNP) Document.pdf', 'file_path': '/content/test_files/Anthem MediBlue Dual Advantage (HMO D-SNP) Document.pdf', 'file_type': 'application/pdf', 'file_size': 2020117, 'creation_date': '2024-10-11', 'last_modified_date': '2024-10-11'}, excluded_embed_metadata_keys=['file_name', 'file_type', 'file_size', 'creation_date', 'last_modified_date', 'last_accessed_date'], excluded_llm_metadata_keys=['file_name', 'file_type', 'file_size', 'creation_date', 'last_modified_date', 'last_accessed_date'], relationships={<NodeRelationship.SOURCE: '1'>: RelatedNodeInfo(node_id='18a28832-0ae1-4e19-83e7-4f43044a5444', node_type=<ObjectType.DOCUMENT: '4'>, metadata={'page_label': '31', 'file_name': 'Anthem MediBlue Dual Advantage (HMO D-SNP) Document.pdf', 'file_path': '/content/test_files/Anthem MediBlue Dual Advantage (HMO D-SNP) Document.pdf', 'file_type': 'application/pdf', 'file_size': 2020117, 'creation_date': '2024-10-11', 'last_modified_date': '2024-10-11'}, hash='c22724b30956652596f7976e5f5e47e031baff063b44edf94621bb59c9571916')}, text='summary of benefitsStage 2: Initial Coverage\\nRetail and Mail Order Cost Sharing\\nCost SharingAnthem MediBlue Dual Advantage \\n(HMO D-SNP)\\nTier 1: Preferred Generic , Tier 2: \\nGeneric , Tier 6: Select Care Drugs$0 copay\\nGeneric drugs (includ ing bran d \\ndrugs treated as generic)  on all \\nother Tiers  not referenced above$0 - $3.60  copay , depending on the \\nlevel of “Extra Help ” you receive\\nAll other brand drugs  on all other \\nTiers  not referenced above$0 - $8.95 copay , depending on the \\nlevel of “Extra Help ” you receive\\nCost sharing is the same for 30-day or long-term supply.\\nYou can determine which covered drugs are generic by reading the plan’s \\nFormulary. \\nPlan T iers\\nTier 1: Preferred Generic\\nTier 2: Generic\\nTier 3: Preferred Brand\\nTier 4: Non-Preferred Drug\\nTier 5: Specialty Tier\\nTier 6: Select Care Drugs\\nAnthem MediBlue Dual Advantage (HMO D-SNP)  31', mimetype='text/plain', start_char_idx=0, end_char_idx=870, text_template='{metadata_str}\\n\\n{content}', metadata_template='{key}: {value}', metadata_seperator='\\n'), score=0.7437389), NodeWithScore(node=TextNode(id_='eeb65c60-6c33-4885-9a9c-ecb541a9be66', embedding=None, metadata={'page_label': '23', 'file_name': 'Anthem MediBlue Dual Advantage (HMO D-SNP) Document.pdf', 'file_path': '/content/test_files/Anthem MediBlue Dual Advantage (HMO D-SNP) Document.pdf', 'file_type': 'application/pdf', 'file_size': 2020117, 'creation_date': '2024-10-11', 'last_modified_date': '2024-10-11'}, excluded_embed_metadata_keys=['file_name', 'file_type', 'file_size', 'creation_date', 'last_modified_date', 'last_accessed_date'], excluded_llm_metadata_keys=['file_name', 'file_type', 'file_size', 'creation_date', 'last_modified_date', 'last_accessed_date'], relationships={<NodeRelationship.SOURCE: '1'>: RelatedNodeInfo(node_id='e2d9e836-f386-4596-849e-d7c9822c3ea4', node_type=<ObjectType.DOCUMENT: '4'>, metadata={'page_label': '23', 'file_name': 'Anthem MediBlue Dual Advantage (HMO D-SNP) Document.pdf', 'file_path': '/content/test_files/Anthem MediBlue Dual Advantage (HMO D-SNP) Document.pdf', 'file_type': 'application/pdf', 'file_size': 2020117, 'creation_date': '2024-10-11', 'last_modified_date': '2024-10-11'}, hash='12ff13b0c58debdb650a1f3873daf8a38538b4cdb98939f2ecd8c6b5f3f22591')}, text='summary of benefitsAnthem MediBlue Dual Advantage (HMO D-SNP)\\nMedical Equipment/Supplies\\nDiabetic supplies and services:\\nSuppliers in our plan:  $0.00 copay\\nMedicare Community Resource Support\\nWe assist you right over the phone by providing you with health-related \\ninformation and by connecting you to local community-based services and \\nsupport programs. We’ll help you coordinate these services based on your \\nunique needs. Call us at the number listed on page 2 of this booklet and ask \\nfor the Medicare Community Resource team for more details.\\nOutpatient Rehabilitation\\nCardiac (heart) rehab services (with a limit of two, one-hour sessions per \\nday and a maximum of 36 sessions within a 36-week period):\\nDoctors and facilities in our plan:  $0.00 copay\\nNote: We highly recommend you talk to your PCP first, before you get care \\nfrom a specialist.\\nPulmonary (lung) rehab services (with a limit of two, one-hour sessions per \\nday and a maximum of 36 sessions):\\nDoctors and facilities in our plan:  $0.00 copay\\nNote: We highly recommend you talk to your PCP first, before you get care \\nfrom a specialist.\\nSome services, procedures or drugs are only covered if your  PCP or other provider gets permission from \\nour plan first.  This is called  prior authorization (pre-approval).  Please contact your PCP or refer to the \\nEvidence of Coverage  (EOC) for services that require prior authorization.\\nAnthem MediBlue Dual Advantage (HMO D-SNP)  23', mimetype='text/plain', start_char_idx=0, end_char_idx=1446, text_template='{metadata_str}\\n\\n{content}', metadata_template='{key}: {value}', metadata_seperator='\\n'), score=0.7411395), NodeWithScore(node=TextNode(id_='0193272c-37e2-4d6d-834c-adb8481e6ff0', embedding=None, metadata={'page_label': '10', 'file_name': 'Anthem MediBlue Dual Advantage (HMO D-SNP) Document.pdf', 'file_path': '/content/test_files/Anthem MediBlue Dual Advantage (HMO D-SNP) Document.pdf', 'file_type': 'application/pdf', 'file_size': 2020117, 'creation_date': '2024-10-11', 'last_modified_date': '2024-10-11'}, excluded_embed_metadata_keys=['file_name', 'file_type', 'file_size', 'creation_date', 'last_modified_date', 'last_accessed_date'], excluded_llm_metadata_keys=['file_name', 'file_type', 'file_size', 'creation_date', 'last_modified_date', 'last_accessed_date'], relationships={<NodeRelationship.SOURCE: '1'>: RelatedNodeInfo(node_id='d54047e8-1ef3-4afd-bc29-2e4075b47112', node_type=<ObjectType.DOCUMENT: '4'>, metadata={'page_label': '10', 'file_name': 'Anthem MediBlue Dual Advantage (HMO D-SNP) Document.pdf', 'file_path': '/content/test_files/Anthem MediBlue Dual Advantage (HMO D-SNP) Document.pdf', 'file_type': 'application/pdf', 'file_size': 2020117, 'creation_date': '2024-10-11', 'last_modified_date': '2024-10-11'}, hash='3490e22b1c9b396ec5adf9ab108446c8317e00e24b53223e9e58801e977ae985')}, text='summary of benefitsAnthem MediBlue Dual Advantage (HMO D-SNP)\\nHow much is my premium (monthly payment)?\\n$0.00 per month\\nPart B premium is covered by your state\\'s Medicaid agency for D-SNP \\nenrollees.\\nHow much is my deductible?\\nThis plan does not have a medical deductible.\\nThe Part D deductible does not apply to you because you get \"Extra Help\" from \\nMedicare.\\nIs there a limit on how much I will pay for my covered medical services?\\n(does not include Part D drugs)\\n$6,700.00 per year from doctors and facilities in our plan.\\nLike all Medicare health plans, our plan protects you by having yearly limits on \\nyour out-of-pocket costs for medical and hospital care.\\nServices you get from doctors or facilities in our plan go toward your yearly \\nlimit. If you reach the limit on out-of-pocket costs, you will not have to pay any \\nout-of-pocket costs for covered Part A and Part B services for the rest of the \\nyear.\\nInpatient Hospital\\nFacilities in our plan:  $0.00 per stay\\nOur plan covers 90 days for an inpatient hospital stay.\\nOur plan also covers 60 \"lifetime reserve days.\" These are \"extra\" days that we \\ncover. If your hospital stay is longer than 90 days, you can use these extra \\ndays. But once you have used up these extra 60 days, your inpatient hospital \\ncoverage will be limited to 90 days.\\nSome services, procedures or drugs are only covered if your  PCP or other provider gets permission from \\nour plan first.  This is called  prior authorization (pre-approval).  Please contact your PCP or refer to the \\nEvidence of Coverage  (EOC) for services that require prior authorization.\\n10Anthem MediBlue Dual Advantage (HMO D-SNP)', mimetype='text/plain', start_char_idx=0, end_char_idx=1638, text_template='{metadata_str}\\n\\n{content}', metadata_template='{key}: {value}', metadata_seperator='\\n'), score=0.7402182)], metadata={'2887f9d8-a094-4c92-ab56-28ddf4d00e80': {'page_label': '11', 'file_name': 'Anthem MediBlue Dual Advantage (HMO D-SNP) Document.pdf', 'file_path': '/content/test_files/Anthem MediBlue Dual Advantage (HMO D-SNP) Document.pdf', 'file_type': 'application/pdf', 'file_size': 2020117, 'creation_date': '2024-10-11', 'last_modified_date': '2024-10-11'}, 'e14377eb-1c54-45b9-bfb7-55cbe5549793': {'page_label': '22', 'file_name': 'Anthem MediBlue Dual Advantage (HMO D-SNP) Document.pdf', 'file_path': '/content/test_files/Anthem MediBlue Dual Advantage (HMO D-SNP) Document.pdf', 'file_type': 'application/pdf', 'file_size': 2020117, 'creation_date': '2024-10-11', 'last_modified_date': '2024-10-11'}, '96ed5347-4901-47a3-b253-374524f7bd74': {'page_label': '31', 'file_name': 'Anthem MediBlue Dual Advantage (HMO D-SNP) Document.pdf', 'file_path': '/content/test_files/Anthem MediBlue Dual Advantage (HMO D-SNP) Document.pdf', 'file_type': 'application/pdf', 'file_size': 2020117, 'creation_date': '2024-10-11', 'last_modified_date': '2024-10-11'}, 'eeb65c60-6c33-4885-9a9c-ecb541a9be66': {'page_label': '23', 'file_name': 'Anthem MediBlue Dual Advantage (HMO D-SNP) Document.pdf', 'file_path': '/content/test_files/Anthem MediBlue Dual Advantage (HMO D-SNP) Document.pdf', 'file_type': 'application/pdf', 'file_size': 2020117, 'creation_date': '2024-10-11', 'last_modified_date': '2024-10-11'}, '0193272c-37e2-4d6d-834c-adb8481e6ff0': {'page_label': '10', 'file_name': 'Anthem MediBlue Dual Advantage (HMO D-SNP) Document.pdf', 'file_path': '/content/test_files/Anthem MediBlue Dual Advantage (HMO D-SNP) Document.pdf', 'file_type': 'application/pdf', 'file_size': 2020117, 'creation_date': '2024-10-11', 'last_modified_date': '2024-10-11'}}), 'subquery_3': 'what are the copays for Anthem MediBlue Access Plus (PPO)?', 'response_3': Response(response='The copays for Anthem MediBlue Access Plus (PPO) are as follows:\\n\\n- Ambulatory Surgical Center: $235.00 for doctors and facilities in the plan.\\n- Primary Care Physician (PCP) visit: $0.00 for PCPs in the plan.\\n- Specialist visit: $30.00 for doctors in the plan.\\n- Preventive Care Screenings and Annual Physical Exams: $0.00 for doctors in the plan.\\n- Emergency Care: $90.00.\\n- Urgently Needed Services: $25.00.\\n- Diagnostic Radiology Services: $130.00 - $225.00 for doctors and facilities in the plan.\\n- Diagnostic Tests and Procedures: $0.00 - $190.00 for doctors and facilities in the plan.\\n- Physical Therapy: $25.00 for doctors and facilities in the plan.\\n- Ground/Water Ambulance: $275.00 per trip.\\n- Air Ambulance: 20% coinsurance per trip.\\n- Lab Services: $0.00 - $10.00 for doctors and facilities in the plan.\\n- Outpatient X-rays: $50.00 - $110.00 for doctors and facilities in the plan.\\n- Therapeutic Radiology Services: 20% coinsurance for doctors and facilities in the plan.\\n- Outpatient Rehabilitation (Cardiac and Pulmonary rehab services): $25.00 for doctors and facilities in the plan.\\n- Occupational therapy visit: $25.00 for doctors and facilities in the plan.', source_nodes=[NodeWithScore(node=TextNode(id_='f009a202-6e69-4466-9ae8-0684806c2715', embedding=None, metadata={'page_label': '10', 'file_name': 'Anthem MediBlue Access (PPO) - Documents.pdf', 'file_path': '/content/test_files/Anthem MediBlue Access (PPO) - Documents.pdf', 'file_type': 'application/pdf', 'file_size': 348346, 'creation_date': '2024-10-11', 'last_modified_date': '2024-10-11'}, excluded_embed_metadata_keys=['file_name', 'file_type', 'file_size', 'creation_date', 'last_modified_date', 'last_accessed_date'], excluded_llm_metadata_keys=['file_name', 'file_type', 'file_size', 'creation_date', 'last_modified_date', 'last_accessed_date'], relationships={<NodeRelationship.SOURCE: '1'>: RelatedNodeInfo(node_id='a4a28b19-9687-4469-895d-5e86e7f88ba0', node_type=<ObjectType.DOCUMENT: '4'>, metadata={'page_label': '10', 'file_name': 'Anthem MediBlue Access (PPO) - Documents.pdf', 'file_path': '/content/test_files/Anthem MediBlue Access (PPO) - Documents.pdf', 'file_type': 'application/pdf', 'file_size': 348346, 'creation_date': '2024-10-11', 'last_modified_date': '2024-10-11'}, hash='b82238a5f1f3ba0aedb477887eaa6c0d062d3de0919a897e563d4ab2459663d3')}, text='Summary of BenefitsAnthem MediBlue Access Plus \\n(PPO)Anthem MediBlue Access (PPO)\\nAmbulatory Surgical Center1,3\\nDoctors and facilities in our plan: \\n$235.00  copay \\nDoctors and facilities not in our plan: \\n40%  coinsuranceDoctors and facilities in our plan: \\n$245.00  copay \\nDoctors and facilities not in our plan: \\n40%  coinsurance\\nDoctor’s Office Visits3\\nPrimary care physician (PCP) visit:\\nPCPs in our plan: $0.00  copay\\nPCPs not in our plan: $25.00  copayPCPs in our plan: $0.00  copay\\nPCPs not in our plan: $25.00  copay\\nSpecialist visit :1\\nDoctors in our plan: $30.00  copay\\nDoctors not in our plan: $50.00  copayDoctors in our plan: $40.00  copay\\nDoctors not in our plan: $60.00  copay\\nPreventive Care Screenings  and Annual Physical Exams\\nPreventive care screenings :3\\nDoctors in our plan: $0.00  copay\\nDoctors not in our plan: 40%  \\ncoinsuranceDoctors in our plan: $0.00  copay\\nDoctors not in our plan: 40%  \\ncoinsurance\\nAnnual physical exam :\\nDoctors in our plan: $0.00  copay\\nDoctors not in our plan: $50.00  copayDoctors in our plan: $0.00  copay\\nDoctors not in our plan: $60.00  copay\\n10Anthem MediBlue Access Plus (PPO) | Anthem MediBlue Access (PPO)', mimetype='text/plain', start_char_idx=0, end_char_idx=1164, text_template='{metadata_str}\\n\\n{content}', metadata_template='{key}: {value}', metadata_seperator='\\n'), score=0.7742788), NodeWithScore(node=TextNode(id_='1ba467c6-e6ab-4247-9489-3aad87f2aa6e', embedding=None, metadata={'page_label': '18', 'file_name': 'Anthem MediBlue Access (PPO) - Documents.pdf', 'file_path': '/content/test_files/Anthem MediBlue Access (PPO) - Documents.pdf', 'file_type': 'application/pdf', 'file_size': 348346, 'creation_date': '2024-10-11', 'last_modified_date': '2024-10-11'}, excluded_embed_metadata_keys=['file_name', 'file_type', 'file_size', 'creation_date', 'last_modified_date', 'last_accessed_date'], excluded_llm_metadata_keys=['file_name', 'file_type', 'file_size', 'creation_date', 'last_modified_date', 'last_accessed_date'], relationships={<NodeRelationship.SOURCE: '1'>: RelatedNodeInfo(node_id='ccbfce52-e079-46d8-ba5f-e33d2e6c4240', node_type=<ObjectType.DOCUMENT: '4'>, metadata={'page_label': '18', 'file_name': 'Anthem MediBlue Access (PPO) - Documents.pdf', 'file_path': '/content/test_files/Anthem MediBlue Access (PPO) - Documents.pdf', 'file_type': 'application/pdf', 'file_size': 348346, 'creation_date': '2024-10-11', 'last_modified_date': '2024-10-11'}, hash='35960336b6fd4a2567734f6201f9d757aaeb7430f54b9f33d43b5d7e1acb6a76')}, text='Summary of BenefitsAnthem MediBlue Access Plus \\n(PPO)Anthem MediBlue Access (PPO)\\nPhysical Therapy1,3\\nDoctors and facilities in our plan: \\n$25.00  copay\\nDoctors and facilities not in our plan: \\n$50.00  copayDoctors and facilities in our plan: \\n$30.00  copay\\nDoctors and facilities not in our plan: \\n$60.00  copay\\nAmbulance1\\nGround/Water Ambulance:\\nEmergency transportation services in \\nand out of our plan: $275.00  copay per \\ntripEmergency transportation services in \\nand out of our plan: $275.00  copay per \\ntrip\\nAir Ambulance:\\nEmergency transportation services in \\nand out of our plan: 20%  coinsurance \\nper tripEmergency transportation services in \\nand out of our plan: 20%  coinsurance \\nper trip\\nTransportation\\nNot Covered Not Covered\\n18Anthem MediBlue Access Plus (PPO) | Anthem MediBlue Access (PPO)', mimetype='text/plain', start_char_idx=0, end_char_idx=806, text_template='{metadata_str}\\n\\n{content}', metadata_template='{key}: {value}', metadata_seperator='\\n'), score=0.77124596), NodeWithScore(node=TextNode(id_='d03fd325-21ea-4ced-9187-b7f2c44758e2', embedding=None, metadata={'page_label': '12', 'file_name': 'Anthem MediBlue Access (PPO) - Documents.pdf', 'file_path': '/content/test_files/Anthem MediBlue Access (PPO) - Documents.pdf', 'file_type': 'application/pdf', 'file_size': 348346, 'creation_date': '2024-10-11', 'last_modified_date': '2024-10-11'}, excluded_embed_metadata_keys=['file_name', 'file_type', 'file_size', 'creation_date', 'last_modified_date', 'last_accessed_date'], excluded_llm_metadata_keys=['file_name', 'file_type', 'file_size', 'creation_date', 'last_modified_date', 'last_accessed_date'], relationships={<NodeRelationship.SOURCE: '1'>: RelatedNodeInfo(node_id='a0d3fdf7-6024-453f-bc58-ea4408e55b58', node_type=<ObjectType.DOCUMENT: '4'>, metadata={'page_label': '12', 'file_name': 'Anthem MediBlue Access (PPO) - Documents.pdf', 'file_path': '/content/test_files/Anthem MediBlue Access (PPO) - Documents.pdf', 'file_type': 'application/pdf', 'file_size': 348346, 'creation_date': '2024-10-11', 'last_modified_date': '2024-10-11'}, hash='bbdf3cf3fb331822f7df501b7fc5859a744ed1a8ca12ffc7093fb4db26942840')}, text='Summary of BenefitsAnthem MediBlue Access Plus \\n(PPO)Anthem MediBlue Access (PPO)\\nEmergency Care\\n$90.00  copay\\nEmergency and Urgent Care \\nWorldwide Coverage\\n$90.00  copay\\nThis plan covers urgent care and \\nemergency services when traveling \\noutside of the United States for less \\nthan six months. This benefit is limited \\nto $100,000.00  per year.$90.00  copay\\nEmergency and Urgent Care \\nWorldwide Coverage\\n$90.00  copay\\nThis plan covers urgent care and \\nemergency services when traveling \\noutside of the United States for less \\nthan six months. This benefit is limited \\nto $100,000.00  per year.\\nYour emergency room copay will be waived if you receive care from a primary care provider, urgent \\ncare provider, or LiveHealth Online 24 hours prior to the emergency room visit.\\nUrgently Needed Services\\n$25.00  copay $35.00  copay\\nDiagnostic Radiology Services  (such as MRIs, CT scans)1,3\\nDoctors and facilities in our plan: \\n$130.00  - $225.00  copay\\nDoctors and facilities not in our plan: \\n30%  coinsuranceDoctors and facilities in our plan: \\n$130.00  - $210.00  copay\\nDoctors and facilities not in our plan: \\n30%  coinsurance\\nWhat you pay for these services may vary based on where you are treated.\\nDiagnostic Tests and Procedures1,3\\nDoctors and facilities in our plan: $0.00  \\n- $190.00  copay\\nDoctors and facilities not in our plan: \\n30%  coinsuranceDoctors and facilities in our plan: $0.00  \\n- $150.00  copay\\nDoctors and facilities not in our plan: \\n30%  coinsurance\\nWhat you pay for these services may vary based on where you are treated.\\n12Anthem MediBlue Access Plus (PPO) | Anthem MediBlue Access (PPO)', mimetype='text/plain', start_char_idx=0, end_char_idx=1612, text_template='{metadata_str}\\n\\n{content}', metadata_template='{key}: {value}', metadata_seperator='\\n'), score=0.7636314), NodeWithScore(node=TextNode(id_='72281f64-ad22-4792-bb19-31365c77e200', embedding=None, metadata={'page_label': '22', 'file_name': 'Anthem MediBlue Access (PPO) - Documents.pdf', 'file_path': '/content/test_files/Anthem MediBlue Access (PPO) - Documents.pdf', 'file_type': 'application/pdf', 'file_size': 348346, 'creation_date': '2024-10-11', 'last_modified_date': '2024-10-11'}, excluded_embed_metadata_keys=['file_name', 'file_type', 'file_size', 'creation_date', 'last_modified_date', 'last_accessed_date'], excluded_llm_metadata_keys=['file_name', 'file_type', 'file_size', 'creation_date', 'last_modified_date', 'last_accessed_date'], relationships={<NodeRelationship.SOURCE: '1'>: RelatedNodeInfo(node_id='dfa1e912-d672-49ac-94fb-a8493a395d28', node_type=<ObjectType.DOCUMENT: '4'>, metadata={'page_label': '22', 'file_name': 'Anthem MediBlue Access (PPO) - Documents.pdf', 'file_path': '/content/test_files/Anthem MediBlue Access (PPO) - Documents.pdf', 'file_type': 'application/pdf', 'file_size': 348346, 'creation_date': '2024-10-11', 'last_modified_date': '2024-10-11'}, hash='a311aeac020a6cb04850b646dc783862c873be2cb64ed12b4da2518c4ce3d25e')}, text='Summary of BenefitsAnthem MediBlue Access Plus \\n(PPO)Anthem MediBlue Access (PPO)\\nMedical Equipment/Supplies3\\nDiabetic supplies and services:\\nSuppliers in our plan: $0.00  copay\\nSuppliers not in our plan: 40%  \\ncoinsuranceSuppliers in our plan: $0.00  copay\\nSuppliers not in our plan: 40%  \\ncoinsurance\\nOutpatient Rehabilitation3\\nCardiac (heart) rehab services  (with a limit of two, one-hour sessions per day and a \\nmaximum of 36 sessions within a 36-week period):1\\nDoctors and facilities in our plan: $25.00  \\ncopay\\nDoctors and facilities not in our plan: \\n40%  coinsuranceDoctors and facilities in our plan: $30.00  \\ncopay\\nDoctors and facilities not in our plan: \\n40%  coinsurance\\nPulmonary (lung) rehab services  (with a limit of two, one-hour sessions per day and a \\nmaximum of 36 sessions):1\\nDoctors and facilities in our plan: $25.00  \\ncopay\\nDoctors and facilities not in our plan: \\n40%  coinsuranceDoctors and facilities in our plan: $30.00  \\ncopay\\nDoctors and facilities not in our plan: \\n40%  coinsurance\\nOccupational therapy visit:1\\nDoctors and facilities in our plan: $25.00  \\ncopay\\nDoctors and facilities not in our plan: \\n$50.00  copayDoctors and facilities in our plan: $30.00  \\ncopay\\nDoctors and facilities not in our plan: \\n$60.00  copay\\n22Anthem MediBlue Access Plus (PPO) | Anthem MediBlue Access (PPO)', mimetype='text/plain', start_char_idx=0, end_char_idx=1321, text_template='{metadata_str}\\n\\n{content}', metadata_template='{key}: {value}', metadata_seperator='\\n'), score=0.76161134), NodeWithScore(node=TextNode(id_='a83b9c9c-f9cc-4647-a0d2-af1840c655f4', embedding=None, metadata={'page_label': '13', 'file_name': 'Anthem MediBlue Access (PPO) - Documents.pdf', 'file_path': '/content/test_files/Anthem MediBlue Access (PPO) - Documents.pdf', 'file_type': 'application/pdf', 'file_size': 348346, 'creation_date': '2024-10-11', 'last_modified_date': '2024-10-11'}, excluded_embed_metadata_keys=['file_name', 'file_type', 'file_size', 'creation_date', 'last_modified_date', 'last_accessed_date'], excluded_llm_metadata_keys=['file_name', 'file_type', 'file_size', 'creation_date', 'last_modified_date', 'last_accessed_date'], relationships={<NodeRelationship.SOURCE: '1'>: RelatedNodeInfo(node_id='e658d70a-3eea-495b-8a93-047ec31f2bb6', node_type=<ObjectType.DOCUMENT: '4'>, metadata={'page_label': '13', 'file_name': 'Anthem MediBlue Access (PPO) - Documents.pdf', 'file_path': '/content/test_files/Anthem MediBlue Access (PPO) - Documents.pdf', 'file_type': 'application/pdf', 'file_size': 348346, 'creation_date': '2024-10-11', 'last_modified_date': '2024-10-11'}, hash='47208fc4231f6f21b5e530596c064a80010a2075eb091cedd225fc4c72a42ce0')}, text='Summary of BenefitsAnthem MediBlue Access Plus \\n(PPO)Anthem MediBlue Access (PPO)\\nLab Services1,3\\nDoctors and facilities in our plan: $0.00  \\n- $10.00  copay\\nDoctors and facilities not in our plan: \\n30%  coinsuranceDoctors and facilities in our plan: $0.00  \\n- $15.00  copay\\nDoctors and facilities not in our plan: \\n30%  coinsurance\\nWhat you pay may be based on the service received and/or where you are treated.\\nOutpatient X-rays1,3\\nDoctors and facilities in our plan: \\n$50.00  - $110.00  copay\\nDoctors and facilities not in our plan: \\n30%  coinsuranceDoctors and facilities in our plan: \\n$50.00  - $110.00  copay\\nDoctors and facilities not in our plan: \\n30%  coinsurance\\nWhat you pay for these services may vary based on where you are treated.\\nTherapeutic Radiology Services (such as radiation treatment for cancer)1,3\\nDoctors and facilities in our plan: 20%  \\ncoinsurance\\nDoctors and facilities not in our plan: \\n20%  coinsuranceDoctors and facilities in our plan: 20%  \\ncoinsurance\\nDoctors and facilities not in our plan: \\n20%  coinsurance\\nWhat you pay for these services may vary based on where you are treated.\\nAnthem MediBlue Access Plus (PPO) | Anthem MediBlue Access (PPO)  13', mimetype='text/plain', start_char_idx=0, end_char_idx=1185, text_template='{metadata_str}\\n\\n{content}', metadata_template='{key}: {value}', metadata_seperator='\\n'), score=0.76030743)], metadata={'f009a202-6e69-4466-9ae8-0684806c2715': {'page_label': '10', 'file_name': 'Anthem MediBlue Access (PPO) - Documents.pdf', 'file_path': '/content/test_files/Anthem MediBlue Access (PPO) - Documents.pdf', 'file_type': 'application/pdf', 'file_size': 348346, 'creation_date': '2024-10-11', 'last_modified_date': '2024-10-11'}, '1ba467c6-e6ab-4247-9489-3aad87f2aa6e': {'page_label': '18', 'file_name': 'Anthem MediBlue Access (PPO) - Documents.pdf', 'file_path': '/content/test_files/Anthem MediBlue Access (PPO) - Documents.pdf', 'file_type': 'application/pdf', 'file_size': 348346, 'creation_date': '2024-10-11', 'last_modified_date': '2024-10-11'}, 'd03fd325-21ea-4ced-9187-b7f2c44758e2': {'page_label': '12', 'file_name': 'Anthem MediBlue Access (PPO) - Documents.pdf', 'file_path': '/content/test_files/Anthem MediBlue Access (PPO) - Documents.pdf', 'file_type': 'application/pdf', 'file_size': 348346, 'creation_date': '2024-10-11', 'last_modified_date': '2024-10-11'}, '72281f64-ad22-4792-bb19-31365c77e200': {'page_label': '22', 'file_name': 'Anthem MediBlue Access (PPO) - Documents.pdf', 'file_path': '/content/test_files/Anthem MediBlue Access (PPO) - Documents.pdf', 'file_type': 'application/pdf', 'file_size': 348346, 'creation_date': '2024-10-11', 'last_modified_date': '2024-10-11'}, 'a83b9c9c-f9cc-4647-a0d2-af1840c655f4': {'page_label': '13', 'file_name': 'Anthem MediBlue Access (PPO) - Documents.pdf', 'file_path': '/content/test_files/Anthem MediBlue Access (PPO) - Documents.pdf', 'file_type': 'application/pdf', 'file_size': 348346, 'creation_date': '2024-10-11', 'last_modified_date': '2024-10-11'}}), 'subquery_4': 'what are the copays for Anthem MediBlue Access (PPO)?', 'response_4': Response(response='For Anthem MediBlue Access (PPO), the copays are as follows:\\n\\n- Ambulatory Surgical Center: $245.00 copay for doctors and facilities in the plan.\\n- Primary Care Physician (PCP) Visit: $0.00 copay for PCPs in the plan.\\n- Specialist Visit: $40.00 copay for doctors in the plan.\\n- Preventive Care Screenings and Annual Physical Exams: $0.00 copay for doctors in the plan.\\n- Emergency Care: $90.00 copay.\\n- Urgently Needed Services: $35.00 copay.\\n- Diagnostic Radiology Services: $130.00 - $210.00 copay for doctors and facilities in the plan.\\n- Diagnostic Tests and Procedures: $0.00 - $150.00 copay for doctors and facilities in the plan.\\n- Lab Services: $0.00 - $15.00 copay for doctors and facilities in the plan.\\n- Outpatient X-rays: $50.00 - $110.00 copay for doctors and facilities in the plan.\\n- Physical Therapy: $30.00 copay for doctors and facilities in the plan.\\n- Ambulance (Ground/Water): $275.00 copay per trip.\\n- Air Ambulance: 20% coinsurance per trip.\\n- Cardiac and Pulmonary Rehab Services: $30.00 copay for doctors and facilities in the plan.\\n- Occupational Therapy Visit: $30.00 copay for doctors and facilities in the plan.\\n- Diabetic Supplies and Services: $0.00 copay for suppliers in the plan.', source_nodes=[NodeWithScore(node=TextNode(id_='f009a202-6e69-4466-9ae8-0684806c2715', embedding=None, metadata={'page_label': '10', 'file_name': 'Anthem MediBlue Access (PPO) - Documents.pdf', 'file_path': '/content/test_files/Anthem MediBlue Access (PPO) - Documents.pdf', 'file_type': 'application/pdf', 'file_size': 348346, 'creation_date': '2024-10-11', 'last_modified_date': '2024-10-11'}, excluded_embed_metadata_keys=['file_name', 'file_type', 'file_size', 'creation_date', 'last_modified_date', 'last_accessed_date'], excluded_llm_metadata_keys=['file_name', 'file_type', 'file_size', 'creation_date', 'last_modified_date', 'last_accessed_date'], relationships={<NodeRelationship.SOURCE: '1'>: RelatedNodeInfo(node_id='a4a28b19-9687-4469-895d-5e86e7f88ba0', node_type=<ObjectType.DOCUMENT: '4'>, metadata={'page_label': '10', 'file_name': 'Anthem MediBlue Access (PPO) - Documents.pdf', 'file_path': '/content/test_files/Anthem MediBlue Access (PPO) - Documents.pdf', 'file_type': 'application/pdf', 'file_size': 348346, 'creation_date': '2024-10-11', 'last_modified_date': '2024-10-11'}, hash='b82238a5f1f3ba0aedb477887eaa6c0d062d3de0919a897e563d4ab2459663d3')}, text='Summary of BenefitsAnthem MediBlue Access Plus \\n(PPO)Anthem MediBlue Access (PPO)\\nAmbulatory Surgical Center1,3\\nDoctors and facilities in our plan: \\n$235.00  copay \\nDoctors and facilities not in our plan: \\n40%  coinsuranceDoctors and facilities in our plan: \\n$245.00  copay \\nDoctors and facilities not in our plan: \\n40%  coinsurance\\nDoctor’s Office Visits3\\nPrimary care physician (PCP) visit:\\nPCPs in our plan: $0.00  copay\\nPCPs not in our plan: $25.00  copayPCPs in our plan: $0.00  copay\\nPCPs not in our plan: $25.00  copay\\nSpecialist visit :1\\nDoctors in our plan: $30.00  copay\\nDoctors not in our plan: $50.00  copayDoctors in our plan: $40.00  copay\\nDoctors not in our plan: $60.00  copay\\nPreventive Care Screenings  and Annual Physical Exams\\nPreventive care screenings :3\\nDoctors in our plan: $0.00  copay\\nDoctors not in our plan: 40%  \\ncoinsuranceDoctors in our plan: $0.00  copay\\nDoctors not in our plan: 40%  \\ncoinsurance\\nAnnual physical exam :\\nDoctors in our plan: $0.00  copay\\nDoctors not in our plan: $50.00  copayDoctors in our plan: $0.00  copay\\nDoctors not in our plan: $60.00  copay\\n10Anthem MediBlue Access Plus (PPO) | Anthem MediBlue Access (PPO)', mimetype='text/plain', start_char_idx=0, end_char_idx=1164, text_template='{metadata_str}\\n\\n{content}', metadata_template='{key}: {value}', metadata_seperator='\\n'), score=0.7753849), NodeWithScore(node=TextNode(id_='1ba467c6-e6ab-4247-9489-3aad87f2aa6e', embedding=None, metadata={'page_label': '18', 'file_name': 'Anthem MediBlue Access (PPO) - Documents.pdf', 'file_path': '/content/test_files/Anthem MediBlue Access (PPO) - Documents.pdf', 'file_type': 'application/pdf', 'file_size': 348346, 'creation_date': '2024-10-11', 'last_modified_date': '2024-10-11'}, excluded_embed_metadata_keys=['file_name', 'file_type', 'file_size', 'creation_date', 'last_modified_date', 'last_accessed_date'], excluded_llm_metadata_keys=['file_name', 'file_type', 'file_size', 'creation_date', 'last_modified_date', 'last_accessed_date'], relationships={<NodeRelationship.SOURCE: '1'>: RelatedNodeInfo(node_id='ccbfce52-e079-46d8-ba5f-e33d2e6c4240', node_type=<ObjectType.DOCUMENT: '4'>, metadata={'page_label': '18', 'file_name': 'Anthem MediBlue Access (PPO) - Documents.pdf', 'file_path': '/content/test_files/Anthem MediBlue Access (PPO) - Documents.pdf', 'file_type': 'application/pdf', 'file_size': 348346, 'creation_date': '2024-10-11', 'last_modified_date': '2024-10-11'}, hash='35960336b6fd4a2567734f6201f9d757aaeb7430f54b9f33d43b5d7e1acb6a76')}, text='Summary of BenefitsAnthem MediBlue Access Plus \\n(PPO)Anthem MediBlue Access (PPO)\\nPhysical Therapy1,3\\nDoctors and facilities in our plan: \\n$25.00  copay\\nDoctors and facilities not in our plan: \\n$50.00  copayDoctors and facilities in our plan: \\n$30.00  copay\\nDoctors and facilities not in our plan: \\n$60.00  copay\\nAmbulance1\\nGround/Water Ambulance:\\nEmergency transportation services in \\nand out of our plan: $275.00  copay per \\ntripEmergency transportation services in \\nand out of our plan: $275.00  copay per \\ntrip\\nAir Ambulance:\\nEmergency transportation services in \\nand out of our plan: 20%  coinsurance \\nper tripEmergency transportation services in \\nand out of our plan: 20%  coinsurance \\nper trip\\nTransportation\\nNot Covered Not Covered\\n18Anthem MediBlue Access Plus (PPO) | Anthem MediBlue Access (PPO)', mimetype='text/plain', start_char_idx=0, end_char_idx=806, text_template='{metadata_str}\\n\\n{content}', metadata_template='{key}: {value}', metadata_seperator='\\n'), score=0.7698506), NodeWithScore(node=TextNode(id_='d03fd325-21ea-4ced-9187-b7f2c44758e2', embedding=None, metadata={'page_label': '12', 'file_name': 'Anthem MediBlue Access (PPO) - Documents.pdf', 'file_path': '/content/test_files/Anthem MediBlue Access (PPO) - Documents.pdf', 'file_type': 'application/pdf', 'file_size': 348346, 'creation_date': '2024-10-11', 'last_modified_date': '2024-10-11'}, excluded_embed_metadata_keys=['file_name', 'file_type', 'file_size', 'creation_date', 'last_modified_date', 'last_accessed_date'], excluded_llm_metadata_keys=['file_name', 'file_type', 'file_size', 'creation_date', 'last_modified_date', 'last_accessed_date'], relationships={<NodeRelationship.SOURCE: '1'>: RelatedNodeInfo(node_id='a0d3fdf7-6024-453f-bc58-ea4408e55b58', node_type=<ObjectType.DOCUMENT: '4'>, metadata={'page_label': '12', 'file_name': 'Anthem MediBlue Access (PPO) - Documents.pdf', 'file_path': '/content/test_files/Anthem MediBlue Access (PPO) - Documents.pdf', 'file_type': 'application/pdf', 'file_size': 348346, 'creation_date': '2024-10-11', 'last_modified_date': '2024-10-11'}, hash='bbdf3cf3fb331822f7df501b7fc5859a744ed1a8ca12ffc7093fb4db26942840')}, text='Summary of BenefitsAnthem MediBlue Access Plus \\n(PPO)Anthem MediBlue Access (PPO)\\nEmergency Care\\n$90.00  copay\\nEmergency and Urgent Care \\nWorldwide Coverage\\n$90.00  copay\\nThis plan covers urgent care and \\nemergency services when traveling \\noutside of the United States for less \\nthan six months. This benefit is limited \\nto $100,000.00  per year.$90.00  copay\\nEmergency and Urgent Care \\nWorldwide Coverage\\n$90.00  copay\\nThis plan covers urgent care and \\nemergency services when traveling \\noutside of the United States for less \\nthan six months. This benefit is limited \\nto $100,000.00  per year.\\nYour emergency room copay will be waived if you receive care from a primary care provider, urgent \\ncare provider, or LiveHealth Online 24 hours prior to the emergency room visit.\\nUrgently Needed Services\\n$25.00  copay $35.00  copay\\nDiagnostic Radiology Services  (such as MRIs, CT scans)1,3\\nDoctors and facilities in our plan: \\n$130.00  - $225.00  copay\\nDoctors and facilities not in our plan: \\n30%  coinsuranceDoctors and facilities in our plan: \\n$130.00  - $210.00  copay\\nDoctors and facilities not in our plan: \\n30%  coinsurance\\nWhat you pay for these services may vary based on where you are treated.\\nDiagnostic Tests and Procedures1,3\\nDoctors and facilities in our plan: $0.00  \\n- $190.00  copay\\nDoctors and facilities not in our plan: \\n30%  coinsuranceDoctors and facilities in our plan: $0.00  \\n- $150.00  copay\\nDoctors and facilities not in our plan: \\n30%  coinsurance\\nWhat you pay for these services may vary based on where you are treated.\\n12Anthem MediBlue Access Plus (PPO) | Anthem MediBlue Access (PPO)', mimetype='text/plain', start_char_idx=0, end_char_idx=1612, text_template='{metadata_str}\\n\\n{content}', metadata_template='{key}: {value}', metadata_seperator='\\n'), score=0.76719815), NodeWithScore(node=TextNode(id_='a83b9c9c-f9cc-4647-a0d2-af1840c655f4', embedding=None, metadata={'page_label': '13', 'file_name': 'Anthem MediBlue Access (PPO) - Documents.pdf', 'file_path': '/content/test_files/Anthem MediBlue Access (PPO) - Documents.pdf', 'file_type': 'application/pdf', 'file_size': 348346, 'creation_date': '2024-10-11', 'last_modified_date': '2024-10-11'}, excluded_embed_metadata_keys=['file_name', 'file_type', 'file_size', 'creation_date', 'last_modified_date', 'last_accessed_date'], excluded_llm_metadata_keys=['file_name', 'file_type', 'file_size', 'creation_date', 'last_modified_date', 'last_accessed_date'], relationships={<NodeRelationship.SOURCE: '1'>: RelatedNodeInfo(node_id='e658d70a-3eea-495b-8a93-047ec31f2bb6', node_type=<ObjectType.DOCUMENT: '4'>, metadata={'page_label': '13', 'file_name': 'Anthem MediBlue Access (PPO) - Documents.pdf', 'file_path': '/content/test_files/Anthem MediBlue Access (PPO) - Documents.pdf', 'file_type': 'application/pdf', 'file_size': 348346, 'creation_date': '2024-10-11', 'last_modified_date': '2024-10-11'}, hash='47208fc4231f6f21b5e530596c064a80010a2075eb091cedd225fc4c72a42ce0')}, text='Summary of BenefitsAnthem MediBlue Access Plus \\n(PPO)Anthem MediBlue Access (PPO)\\nLab Services1,3\\nDoctors and facilities in our plan: $0.00  \\n- $10.00  copay\\nDoctors and facilities not in our plan: \\n30%  coinsuranceDoctors and facilities in our plan: $0.00  \\n- $15.00  copay\\nDoctors and facilities not in our plan: \\n30%  coinsurance\\nWhat you pay may be based on the service received and/or where you are treated.\\nOutpatient X-rays1,3\\nDoctors and facilities in our plan: \\n$50.00  - $110.00  copay\\nDoctors and facilities not in our plan: \\n30%  coinsuranceDoctors and facilities in our plan: \\n$50.00  - $110.00  copay\\nDoctors and facilities not in our plan: \\n30%  coinsurance\\nWhat you pay for these services may vary based on where you are treated.\\nTherapeutic Radiology Services (such as radiation treatment for cancer)1,3\\nDoctors and facilities in our plan: 20%  \\ncoinsurance\\nDoctors and facilities not in our plan: \\n20%  coinsuranceDoctors and facilities in our plan: 20%  \\ncoinsurance\\nDoctors and facilities not in our plan: \\n20%  coinsurance\\nWhat you pay for these services may vary based on where you are treated.\\nAnthem MediBlue Access Plus (PPO) | Anthem MediBlue Access (PPO)  13', mimetype='text/plain', start_char_idx=0, end_char_idx=1185, text_template='{metadata_str}\\n\\n{content}', metadata_template='{key}: {value}', metadata_seperator='\\n'), score=0.7641607), NodeWithScore(node=TextNode(id_='508d07c2-3a5a-4441-b070-d6028ef86be4', embedding=None, metadata={'page_label': '22', 'file_name': 'Anthem MediBlue Access (PPO) - Documents.pdf', 'file_path': '/content/test_files/Anthem MediBlue Access (PPO) - Documents.pdf', 'file_type': 'application/pdf', 'file_size': 348346, 'creation_date': '2024-10-11', 'last_modified_date': '2024-10-11'}, excluded_embed_metadata_keys=['file_name', 'file_type', 'file_size', 'creation_date', 'last_modified_date', 'last_accessed_date'], excluded_llm_metadata_keys=['file_name', 'file_type', 'file_size', 'creation_date', 'last_modified_date', 'last_accessed_date'], relationships={<NodeRelationship.SOURCE: '1'>: RelatedNodeInfo(node_id='dfa1e912-d672-49ac-94fb-a8493a395d28', node_type=<ObjectType.DOCUMENT: '4'>, metadata={'page_label': '22', 'file_name': 'Anthem MediBlue Access (PPO) - Documents.pdf', 'file_path': '/content/test_files/Anthem MediBlue Access (PPO) - Documents.pdf', 'file_type': 'application/pdf', 'file_size': 348346, 'creation_date': '2024-10-11', 'last_modified_date': '2024-10-11'}, hash='a311aeac020a6cb04850b646dc783862c873be2cb64ed12b4da2518c4ce3d25e')}, text='Summary of BenefitsAnthem MediBlue Access Plus \\n(PPO)Anthem MediBlue Access (PPO)\\nMedical Equipment/Supplies3\\nDiabetic supplies and services:\\nSuppliers in our plan: $0.00  copay\\nSuppliers not in our plan: 40%  \\ncoinsuranceSuppliers in our plan: $0.00  copay\\nSuppliers not in our plan: 40%  \\ncoinsurance\\nOutpatient Rehabilitation3\\nCardiac (heart) rehab services  (with a limit of two, one-hour sessions per day and a \\nmaximum of 36 sessions within a 36-week period):1\\nDoctors and facilities in our plan: $25.00  \\ncopay\\nDoctors and facilities not in our plan: \\n40%  coinsuranceDoctors and facilities in our plan: $30.00  \\ncopay\\nDoctors and facilities not in our plan: \\n40%  coinsurance\\nPulmonary (lung) rehab services  (with a limit of two, one-hour sessions per day and a \\nmaximum of 36 sessions):1\\nDoctors and facilities in our plan: $25.00  \\ncopay\\nDoctors and facilities not in our plan: \\n40%  coinsuranceDoctors and facilities in our plan: $30.00  \\ncopay\\nDoctors and facilities not in our plan: \\n40%  coinsurance\\nOccupational therapy visit:1\\nDoctors and facilities in our plan: $25.00  \\ncopay\\nDoctors and facilities not in our plan: \\n$50.00  copayDoctors and facilities in our plan: $30.00  \\ncopay\\nDoctors and facilities not in our plan: \\n$60.00  copay\\n22Anthem MediBlue Access Plus (PPO) | Anthem MediBlue Access (PPO)', mimetype='text/plain', start_char_idx=0, end_char_idx=1321, text_template='{metadata_str}\\n\\n{content}', metadata_template='{key}: {value}', metadata_seperator='\\n'), score=0.76373714)], metadata={'f009a202-6e69-4466-9ae8-0684806c2715': {'page_label': '10', 'file_name': 'Anthem MediBlue Access (PPO) - Documents.pdf', 'file_path': '/content/test_files/Anthem MediBlue Access (PPO) - Documents.pdf', 'file_type': 'application/pdf', 'file_size': 348346, 'creation_date': '2024-10-11', 'last_modified_date': '2024-10-11'}, '1ba467c6-e6ab-4247-9489-3aad87f2aa6e': {'page_label': '18', 'file_name': 'Anthem MediBlue Access (PPO) - Documents.pdf', 'file_path': '/content/test_files/Anthem MediBlue Access (PPO) - Documents.pdf', 'file_type': 'application/pdf', 'file_size': 348346, 'creation_date': '2024-10-11', 'last_modified_date': '2024-10-11'}, 'd03fd325-21ea-4ced-9187-b7f2c44758e2': {'page_label': '12', 'file_name': 'Anthem MediBlue Access (PPO) - Documents.pdf', 'file_path': '/content/test_files/Anthem MediBlue Access (PPO) - Documents.pdf', 'file_type': 'application/pdf', 'file_size': 348346, 'creation_date': '2024-10-11', 'last_modified_date': '2024-10-11'}, 'a83b9c9c-f9cc-4647-a0d2-af1840c655f4': {'page_label': '13', 'file_name': 'Anthem MediBlue Access (PPO) - Documents.pdf', 'file_path': '/content/test_files/Anthem MediBlue Access (PPO) - Documents.pdf', 'file_type': 'application/pdf', 'file_size': 348346, 'creation_date': '2024-10-11', 'last_modified_date': '2024-10-11'}, '508d07c2-3a5a-4441-b070-d6028ef86be4': {'page_label': '22', 'file_name': 'Anthem MediBlue Access (PPO) - Documents.pdf', 'file_path': '/content/test_files/Anthem MediBlue Access (PPO) - Documents.pdf', 'file_type': 'application/pdf', 'file_size': 348346, 'creation_date': '2024-10-11', 'last_modified_date': '2024-10-11'}}), 'subquery_5': 'what are the copays for Anthem Medicare Advantage (HMO)?', 'response_5': Response(response='The copays for Anthem Medicare Advantage (HMO) are as follows:\\n\\n- Outpatient Hospital: $350.00 copay\\n- Ambulatory Surgical Center: $300.00 copay\\n- Primary Care Physician (PCP) visit: $0.00 copay\\n- Specialist visit: $30.00 copay\\n- Preventive Care Screenings and Annual Physical Exams: $0.00 copay\\n- Emergency Care: $90.00 copay\\n- Urgently Needed Services: $50.00 copay\\n- Diagnostic Radiology Services (such as MRIs, CT scans): $225.00 copay at doctors’ offices, $250.00 copay at outpatient facilities\\n- Diagnostic Tests and Procedures: $75.00 copay at doctors’ offices, $175.00 copay at outpatient facilities\\n- Lab Services: $25.00 copay at doctors’ offices and outpatient facilities\\n- Mental Health Care (Outpatient individual and group therapy services): $40.00 copay\\n- Skilled Nursing Facility (SNF) Days 1-20: $0.00 per day, Days 21-100: $196.00 per day\\n- Physical Therapy: $40.00 copay\\n- Ambulance (Ground/Water and Air): $285.00 copay per trip', source_nodes=[NodeWithScore(node=TextNode(id_='4d213249-bf86-4974-a257-2ff38b5ae6bc', embedding=None, metadata={'page_label': '9', 'file_name': 'Anthem Medicare Advantage (HMO).pdf', 'file_path': '/content/test_files/Anthem Medicare Advantage (HMO).pdf', 'file_type': 'application/pdf', 'file_size': 216659, 'creation_date': '2024-10-11', 'last_modified_date': '2024-10-11'}, excluded_embed_metadata_keys=['file_name', 'file_type', 'file_size', 'creation_date', 'last_modified_date', 'last_accessed_date'], excluded_llm_metadata_keys=['file_name', 'file_type', 'file_size', 'creation_date', 'last_modified_date', 'last_accessed_date'], relationships={<NodeRelationship.SOURCE: '1'>: RelatedNodeInfo(node_id='fd92a41c-e5ce-48eb-a0a5-8b647c9be4dc', node_type=<ObjectType.DOCUMENT: '4'>, metadata={'page_label': '9', 'file_name': 'Anthem Medicare Advantage (HMO).pdf', 'file_path': '/content/test_files/Anthem Medicare Advantage (HMO).pdf', 'file_type': 'application/pdf', 'file_size': 216659, 'creation_date': '2024-10-11', 'last_modified_date': '2024-10-11'}, hash='b17190c61d09129d7576a01d259b15667dfc178c670a5e9603ff9ce84940c0eb')}, text='Summary of BenefitsAnthem Medicare Advantage (HMO)\\nOutpatient Hospital1\\nDoctors and facilities in our plan: $350.00  copay\\nWhat you will pay may depend on the service and where you are treated.\\nAmbulatory Surgical Center1\\nDoctors and facilities in our plan: $300.00  copay\\nDoctor’s Office Visits\\nPrimary care physician (PCP) visit: \\nPCPs in our plan: $0.00  copay \\nSpecialist visit:  1\\nDoctors in our plan: $30.00  copay\\nPreventive Care Screenings and Annual Physical Exams\\nPreventive care screenings:  \\nDoctors in our plan: $0.00  copay\\nAnnual physical exam:  \\nDoctors in our plan: $0.00  copay\\n 9', mimetype='text/plain', start_char_idx=1, end_char_idx=599, text_template='{metadata_str}\\n\\n{content}', metadata_template='{key}: {value}', metadata_seperator='\\n'), score=0.74131614), NodeWithScore(node=TextNode(id_='6503dd7f-19c3-4510-9f04-d4ae0c78d240', embedding=None, metadata={'page_label': '11', 'file_name': 'Anthem Medicare Advantage (HMO).pdf', 'file_path': '/content/test_files/Anthem Medicare Advantage (HMO).pdf', 'file_type': 'application/pdf', 'file_size': 216659, 'creation_date': '2024-10-11', 'last_modified_date': '2024-10-11'}, excluded_embed_metadata_keys=['file_name', 'file_type', 'file_size', 'creation_date', 'last_modified_date', 'last_accessed_date'], excluded_llm_metadata_keys=['file_name', 'file_type', 'file_size', 'creation_date', 'last_modified_date', 'last_accessed_date'], relationships={<NodeRelationship.SOURCE: '1'>: RelatedNodeInfo(node_id='6874c064-5a15-4f59-bd56-2ba0b648d40c', node_type=<ObjectType.DOCUMENT: '4'>, metadata={'page_label': '11', 'file_name': 'Anthem Medicare Advantage (HMO).pdf', 'file_path': '/content/test_files/Anthem Medicare Advantage (HMO).pdf', 'file_type': 'application/pdf', 'file_size': 216659, 'creation_date': '2024-10-11', 'last_modified_date': '2024-10-11'}, hash='464592a72c869fdfdead94e06fe99fd3c0000d36abf624845100b0aa79f2f393')}, text='Summary of BenefitsAnthem Medicare Advantage (HMO)\\nEmergency Care\\n$90.00  copay\\nEmergency and Urgent Care Worldwide Coverage$90.00  copay\\nThis plan covers urgent care and emergency services when traveling outside \\nof the United States for less than six months. This benefit is limited to $100,000.00  per year.\\nUrgently Needed Services\\n$50.00  copay\\nDiagnostic Services, Labs, and Imaging1\\nDiagnostic Radiology Services  (such \\nas MRIs, CT scans)\\nDoctors’ offices in our plan: $225.00 copayOutpatient facilities in our plan: $250.00 copay\\nDiagnostic Tests and Procedures\\nDoctors’ offices in our plan: $75.00 copayOutpatient facilities in our plan: $175.00 copay\\nLab Services\\nDoctors’ offices in our plan: $25.00 copayOutpatient facilities in our plan: $25.00 copay\\n 11', mimetype='text/plain', start_char_idx=1, end_char_idx=769, text_template='{metadata_str}\\n\\n{content}', metadata_template='{key}: {value}', metadata_seperator='\\n'), score=0.715671), NodeWithScore(node=TextNode(id_='70f1b794-4416-477e-99a7-d52965ae0bf9', embedding=None, metadata={'page_label': '15', 'file_name': 'Anthem Medicare Advantage (HMO).pdf', 'file_path': '/content/test_files/Anthem Medicare Advantage (HMO).pdf', 'file_type': 'application/pdf', 'file_size': 216659, 'creation_date': '2024-10-11', 'last_modified_date': '2024-10-11'}, excluded_embed_metadata_keys=['file_name', 'file_type', 'file_size', 'creation_date', 'last_modified_date', 'last_accessed_date'], excluded_llm_metadata_keys=['file_name', 'file_type', 'file_size', 'creation_date', 'last_modified_date', 'last_accessed_date'], relationships={<NodeRelationship.SOURCE: '1'>: RelatedNodeInfo(node_id='6b99ab35-85b4-4eb0-a024-b729b38ffc1b', node_type=<ObjectType.DOCUMENT: '4'>, metadata={'page_label': '15', 'file_name': 'Anthem Medicare Advantage (HMO).pdf', 'file_path': '/content/test_files/Anthem Medicare Advantage (HMO).pdf', 'file_type': 'application/pdf', 'file_size': 216659, 'creation_date': '2024-10-11', 'last_modified_date': '2024-10-11'}, hash='e9f7f5264c7c4a19ab769dc3595aca1498e0ac2eaad5dbd88c591ca5994bbeff')}, text=\"Summary of BenefitsAnthem Medicare Advantage (HMO)\\nMental Health Care\\nOutpatient individual and group therapy services:  1\\nDoctors and facilities in our plan: $40.00  copay\\nSkilled Nursing Facility (SNF)1\\nDoctors and facilities in our plan: SNF Days 1 - 20: $0.00  per day / Days 21 - 100: \\n$196.00  per day\\nOur plan covers up to 100 days in a Skilled Nursing Facility (SNF).\\nYour copays for SNF benefits are based on benefit  periods. A benefit period starts on the \\nfirst day you go into a hospital or SNF and ends when you haven't had any inpatient hospital care or skilled nursing care for 60 days in a row. If you go into a SNF after one benefit period has ended, a new benefit period start s. There's no limit to the number of \\nbenefit periods you can have.\\nPhysical Therapy1\\nDoctors and facilities in our plan: $40.00  copay\\nAmbulance1\\nGround/Water Ambulance:\\nEmergency transportation services in our plan: $285.00  copay per trip\\nAir Ambulance:\\nEmergency transportation services in our plan: $285.00  copay per trip\\n 15\", mimetype='text/plain', start_char_idx=1, end_char_idx=1028, text_template='{metadata_str}\\n\\n{content}', metadata_template='{key}: {value}', metadata_seperator='\\n'), score=0.7073525), NodeWithScore(node=TextNode(id_='87dc7af4-67e1-4b98-8625-f923c3c9054f', embedding=None, metadata={'page_label': '10', 'file_name': 'Anthem Medicare Advantage 2 (PPO).pdf', 'file_path': '/content/test_files/Anthem Medicare Advantage 2 (PPO).pdf', 'file_type': 'application/pdf', 'file_size': 737766, 'creation_date': '2024-10-11', 'last_modified_date': '2024-10-11'}, excluded_embed_metadata_keys=['file_name', 'file_type', 'file_size', 'creation_date', 'last_modified_date', 'last_accessed_date'], excluded_llm_metadata_keys=['file_name', 'file_type', 'file_size', 'creation_date', 'last_modified_date', 'last_accessed_date'], relationships={<NodeRelationship.SOURCE: '1'>: RelatedNodeInfo(node_id='a5c1d51c-d064-4667-8557-20416fe79e01', node_type=<ObjectType.DOCUMENT: '4'>, metadata={'page_label': '10', 'file_name': 'Anthem Medicare Advantage 2 (PPO).pdf', 'file_path': '/content/test_files/Anthem Medicare Advantage 2 (PPO).pdf', 'file_type': 'application/pdf', 'file_size': 737766, 'creation_date': '2024-10-11', 'last_modified_date': '2024-10-11'}, hash='d32910b46b73c843778599f4af32f34fdde232c9ba67c3fd0d48095dce0a994d')}, text='Summary of BenefitsAnthem Medicare Advantage 2 \\n(PPO)Anthem Medicare Advantage \\n(PPO)\\nDoctor’s Office Visits3\\nPrimary care physician (PCP) visit:\\nPCPs in our plan: $5.00  copay\\nPCPs not in our plan: $35.00  copayPCPs in our plan: $5.00  copay\\nPCPs not in our plan: $50.00  copay\\nSpecialist visit :1\\nDoctors in our plan: $35.00  copay\\nDoctors not in our plan: $60.00  \\ncopayDoctors in our plan: $40.00  copay\\nDoctors not in our plan: $60.00  \\ncopay\\nPreventive Care Screenings  and Annual Physical Exams\\nPreventive care screenings :3\\nDoctors in our plan: $0.00  copay\\nDoctors not in our plan: 40%  \\ncoinsuranceDoctors in our plan: $0.00  copay\\nDoctors not in our plan: 40%  \\ncoinsurance\\nAnnual physical exam :\\nDoctors in our plan: $0.00  copay\\nDoctors not in our plan: $60.00  \\ncopayDoctors in our plan: $0.00  copay\\nDoctors not in our plan: $60.00  \\ncopay\\n10', mimetype='text/plain', start_char_idx=2, end_char_idx=859, text_template='{metadata_str}\\n\\n{content}', metadata_template='{key}: {value}', metadata_seperator='\\n'), score=0.70377487), NodeWithScore(node=TextNode(id_='735dd9b2-f508-4cfa-a765-2826c3cc9e5b', embedding=None, metadata={'page_label': '12', 'file_name': 'Anthem Medicare Advantage 2 (PPO).pdf', 'file_path': '/content/test_files/Anthem Medicare Advantage 2 (PPO).pdf', 'file_type': 'application/pdf', 'file_size': 737766, 'creation_date': '2024-10-11', 'last_modified_date': '2024-10-11'}, excluded_embed_metadata_keys=['file_name', 'file_type', 'file_size', 'creation_date', 'last_modified_date', 'last_accessed_date'], excluded_llm_metadata_keys=['file_name', 'file_type', 'file_size', 'creation_date', 'last_modified_date', 'last_accessed_date'], relationships={<NodeRelationship.SOURCE: '1'>: RelatedNodeInfo(node_id='394c9ea4-05c3-46fc-9c78-b9ad19dc10c6', node_type=<ObjectType.DOCUMENT: '4'>, metadata={'page_label': '12', 'file_name': 'Anthem Medicare Advantage 2 (PPO).pdf', 'file_path': '/content/test_files/Anthem Medicare Advantage 2 (PPO).pdf', 'file_type': 'application/pdf', 'file_size': 737766, 'creation_date': '2024-10-11', 'last_modified_date': '2024-10-11'}, hash='5c697585c12d2a13bebdbf22b35ff25da537a8e6f306b4d74d8a3223f0631138')}, text='Summary of BenefitsAnthem Medicare Advantage 2 \\n(PPO)Anthem Medicare Advantage \\n(PPO)\\nEmergency Care\\n$90.00  copay\\nEmergency and Urgent Care \\nWorldwide Coverage\\n$90.00  copay\\nThis plan covers urgent care and \\nemergency services when traveling \\noutside of the United States for less \\nthan six months. This benefit is \\nlimited to $100,000.00  per year.$90.00  copay\\nEmergency and Urgent Care \\nWorldwide Coverage\\n$90.00  copay\\nThis plan covers urgent care and \\nemergency services when traveling \\noutside of the United States for less \\nthan six months. This benefit is \\nlimited to $100,000.00  per year.\\nUrgently Needed Services\\n$30.00  copay $35.00  copay\\nDiagnostic Services, Labs, and Imaging1,3\\nAnthem Medicare \\nAdvantage 2 \\n(PPO)Anthem Medicare \\nAdvantage (PPO)\\nDiagnostic Radiology Services \\n(such as MRIs, CT scans)\\nDoctors’ offices in our plan: $130.00 copay $150.00 copay\\nOutpatient facilities in our plan: $150.00 copay $250.00 copay\\nDoctors’ offices and facilities not\\nin our plan:40% coinsurance 40% coinsurance\\n12', mimetype='text/plain', start_char_idx=2, end_char_idx=1024, text_template='{metadata_str}\\n\\n{content}', metadata_template='{key}: {value}', metadata_seperator='\\n'), score=0.70326924)], metadata={'4d213249-bf86-4974-a257-2ff38b5ae6bc': {'page_label': '9', 'file_name': 'Anthem Medicare Advantage (HMO).pdf', 'file_path': '/content/test_files/Anthem Medicare Advantage (HMO).pdf', 'file_type': 'application/pdf', 'file_size': 216659, 'creation_date': '2024-10-11', 'last_modified_date': '2024-10-11'}, '6503dd7f-19c3-4510-9f04-d4ae0c78d240': {'page_label': '11', 'file_name': 'Anthem Medicare Advantage (HMO).pdf', 'file_path': '/content/test_files/Anthem Medicare Advantage (HMO).pdf', 'file_type': 'application/pdf', 'file_size': 216659, 'creation_date': '2024-10-11', 'last_modified_date': '2024-10-11'}, '70f1b794-4416-477e-99a7-d52965ae0bf9': {'page_label': '15', 'file_name': 'Anthem Medicare Advantage (HMO).pdf', 'file_path': '/content/test_files/Anthem Medicare Advantage (HMO).pdf', 'file_type': 'application/pdf', 'file_size': 216659, 'creation_date': '2024-10-11', 'last_modified_date': '2024-10-11'}, '87dc7af4-67e1-4b98-8625-f923c3c9054f': {'page_label': '10', 'file_name': 'Anthem Medicare Advantage 2 (PPO).pdf', 'file_path': '/content/test_files/Anthem Medicare Advantage 2 (PPO).pdf', 'file_type': 'application/pdf', 'file_size': 737766, 'creation_date': '2024-10-11', 'last_modified_date': '2024-10-11'}, '735dd9b2-f508-4cfa-a765-2826c3cc9e5b': {'page_label': '12', 'file_name': 'Anthem Medicare Advantage 2 (PPO).pdf', 'file_path': '/content/test_files/Anthem Medicare Advantage 2 (PPO).pdf', 'file_type': 'application/pdf', 'file_size': 737766, 'creation_date': '2024-10-11', 'last_modified_date': '2024-10-11'}})}\n",
            "===== LLM Response Content =====\n",
            "The copays for the various Anthem plans mentioned are as follows:\n",
            "\n",
            "1. **Anthem Medicare Advantage 2 (PPO):**\n",
            "   - Emergency Care: $90.00\n",
            "   - Urgently Needed Services: $30.00\n",
            "   - Diagnostic Radiology Services: $130.00 at doctors’ offices, $150.00 at outpatient facilities\n",
            "   - Diagnostic Tests and Procedures: $50.00 at doctors’ offices, $140.00 at outpatient facilities\n",
            "   - Lab Services: $15.00\n",
            "   - Outpatient X-rays: $50.00 at doctors’ offices, $110.00 at outpatient hospitals\n",
            "   - Doctor’s Office Visits: $5.00 for PCPs, $35.00 for specialists\n",
            "   - Preventive Care Screenings and Annual Physical Exams: $0.00\n",
            "   - Physical Therapy: $30.00\n",
            "   - Ground/Water and Air Ambulance: $300.00 per trip\n",
            "   - Chiropractic Care: $15.00\n",
            "   - Medicare-covered Podiatry Services: $0.00 - $35.00\n",
            "\n",
            "2. **Anthem MediBlue Dual Advantage (HMO D-SNP):**\n",
            "   - Most services, including outpatient hospital visits, ambulatory surgical centers, PCP and specialist visits, preventive care, home health care, medical equipment, diabetic supplies, cardiac and pulmonary rehab, and inpatient hospital stays: $0.00\n",
            "   - Prescription drugs: $0 to $8.95 depending on the drug tier and level of \"Extra Help\"\n",
            "\n",
            "3. **Anthem MediBlue Access Plus (PPO):**\n",
            "   - Ambulatory Surgical Center: $235.00\n",
            "   - PCP Visit: $0.00\n",
            "   - Specialist Visit: $30.00\n",
            "   - Preventive Care Screenings and Annual Physical Exams: $0.00\n",
            "   - Emergency Care: $90.00\n",
            "   - Urgently Needed Services: $25.00\n",
            "   - Diagnostic Radiology Services: $130.00 - $225.00\n",
            "   - Diagnostic Tests and Procedures: $0.00 - $190.00\n",
            "   - Physical Therapy: $25.00\n",
            "   - Ground/Water Ambulance: $275.00 per trip\n",
            "   - Air Ambulance: 20% coinsurance\n",
            "   - Lab Services: $0.00 - $10.00\n",
            "   - Outpatient X-rays: $50.00 - $110.00\n",
            "   - Therapeutic Radiology Services: 20% coinsurance\n",
            "   - Outpatient Rehabilitation: $25.00\n",
            "   - Occupational Therapy Visit: $25.00\n",
            "\n",
            "4. **Anthem MediBlue Access (PPO):**\n",
            "   - Ambulatory Surgical Center: $245.00\n",
            "   - PCP Visit: $0.00\n",
            "   - Specialist Visit: $40.00\n",
            "   - Preventive Care Screenings and Annual Physical Exams: $0.00\n",
            "   - Emergency Care: $90.00\n",
            "   - Urgently Needed Services: $35.00\n",
            "   - Diagnostic Radiology Services: $130.00 - $210.00\n",
            "   - Diagnostic Tests and Procedures: $0.00 - $150.00\n",
            "   - Lab Services: $0.00 - $15.00\n",
            "   - Outpatient X-rays: $50.00 - $110.00\n",
            "   - Physical Therapy: $30.00\n",
            "   - Ambulance (Ground/Water): $275.00 per trip\n",
            "   - Air Ambulance: 20% coinsurance\n",
            "   - Cardiac and Pulmonary Rehab Services: $30.00\n",
            "   - Occupational Therapy Visit: $30.00\n",
            "   - Diabetic Supplies and Services: $0.00\n",
            "\n",
            "5. **Anthem Medicare Advantage (HMO):**\n",
            "   - Outpatient Hospital: $350.00\n",
            "   - Ambulatory Surgical Center: $300.00\n",
            "   - PCP Visit: $0.00\n",
            "   - Specialist Visit: $30.00\n",
            "   - Preventive Care Screenings and Annual Physical Exams: $0.00\n",
            "   - Emergency Care: $90.00\n",
            "   - Urgently Needed Services: $50.00\n",
            "   - Diagnostic Radiology Services: $225.00 at doctors’ offices, $250.00 at outpatient facilities\n",
            "   - Diagnostic Tests and Procedures: $75.00 at doctors’ offices, $175.00 at outpatient facilities\n",
            "   - Lab Services: $25.00\n",
            "   - Mental Health Care: $40.00\n",
            "   - Skilled Nursing Facility: $0.00 per day for days 1-20, $196.00 per day for days 21-100\n",
            "   - Physical Therapy: $40.00\n",
            "   - Ambulance (Ground/Water and Air): $285.00 per trip\n",
            "\n",
            "These copays apply to services provided by doctors and facilities within the respective plan networks.\n",
            "\n",
            "===== Additional Information =====\n",
            "\n",
            "\n",
            "Citations:\n",
            "Anthem MediBlue Dual Advantage (HMO D-SNP) Document.pdf (Page 11)\n",
            "Anthem MediBlue Dual Advantage (HMO D-SNP) Document.pdf (Page 31)\n",
            "Anthem MediBlue Access (PPO) - Documents.pdf (Page 12)\n",
            "Anthem Medicare Advantage 2 (PPO).pdf (Page 12)\n",
            "Anthem MediBlue Access (PPO) - Documents.pdf (Page 10)\n",
            "Anthem MediBlue Access (PPO) - Documents.pdf (Page 22)\n",
            "Anthem MediBlue Dual Advantage (HMO D-SNP) Document.pdf (Page 22)\n",
            "Anthem MediBlue Dual Advantage (HMO D-SNP) Document.pdf (Page 10)\n",
            "Anthem Medicare Advantage (HMO).pdf (Page 9)\n",
            "Anthem Medicare Advantage (HMO).pdf (Page 11)\n",
            "Anthem Medicare Advantage 2 (PPO).pdf (Page 22)\n",
            "Anthem Medicare Advantage 2 (PPO).pdf (Page 10)\n",
            "Anthem Medicare Advantage 2 (PPO).pdf (Page 20)\n",
            "Anthem MediBlue Dual Advantage (HMO D-SNP) Document.pdf (Page 23)\n",
            "Anthem Medicare Advantage (HMO).pdf (Page 15)\n",
            "Anthem MediBlue Access (PPO) - Documents.pdf (Page 18)\n",
            "Anthem MediBlue Access (PPO) - Documents.pdf (Page 13)\n",
            "Anthem Medicare Advantage 2 (PPO).pdf (Page 13)\n",
            "\n",
            "Relevant Text Chunks:\n",
            "Text Chunk (Page 12): Summary of BenefitsAnthem Medicare Advantage 2 \n",
            "(PPO)Anthem Medicare Advantage \n",
            "(PPO)\n",
            "Emergency Care\n",
            "$90.00  copay\n",
            "Emergency and Urgent Care \n",
            "Worldwide Coverage\n",
            "$90.00  copay\n",
            "This plan covers urgent c...\n",
            "Text Chunk (Page 10): Summary of BenefitsAnthem Medicare Advantage 2 \n",
            "(PPO)Anthem Medicare Advantage \n",
            "(PPO)\n",
            "Doctor’s Office Visits3\n",
            "Primary care physician (PCP) visit:\n",
            "PCPs in our plan: $5.00  copay\n",
            "PCPs not in our plan: $...\n",
            "Text Chunk (Page 13): Summary of BenefitsAnthem Medicare Advantage 2 \n",
            "(PPO)Anthem Medicare Advantage \n",
            "(PPO)\n",
            "Diagnostic Services, Labs, and Imaging1,3\n",
            "Anthem Medicare \n",
            "Advantage 2 \n",
            "(PPO)Anthem Medicare \n",
            "Advantage (PPO)\n",
            "Diag...\n",
            "Text Chunk (Page 20): Summary of BenefitsAnthem Medicare Advantage 2 \n",
            "(PPO)Anthem Medicare Advantage \n",
            "(PPO)\n",
            "Physical Therapy1,3\n",
            "Doctors and facilities in our plan: \n",
            "$30.00  copay\n",
            "Doctors and facilities not in our \n",
            "plan: $6...\n",
            "Text Chunk (Page 22): Additional benefits  Summary of BenefitsAnthem Medicare Advantage 2 \n",
            "(PPO)Anthem Medicare Advantage \n",
            "(PPO)\n",
            "Chiropractic Care1,3\n",
            "Medicare-covered chiropractic services:\n",
            "Providers in our plan: $15.00  c...\n",
            "Text Chunk (Page 11): summary of benefitsAnthem MediBlue Dual Advantage (HMO D-SNP)\n",
            "Outpatient Hospital\n",
            "Doctors and facilities in our plan:  $0.00 copay\n",
            "Ambulatory Surgical Center\n",
            "Doctors and facilities in our plan:  $0.00...\n",
            "Text Chunk (Page 22): summary of benefitsAnthem MediBlue Dual Advantage (HMO D-SNP)\n",
            "Home Health Care\n",
            "Doctors and facilities in our plan:  $0.00 copay\n",
            "Note: We highly recommend you talk to your PCP first, before you get car...\n",
            "Text Chunk (Page 31): summary of benefitsStage 2: Initial Coverage\n",
            "Retail and Mail Order Cost Sharing\n",
            "Cost SharingAnthem MediBlue Dual Advantage \n",
            "(HMO D-SNP)\n",
            "Tier 1: Preferred Generic , Tier 2: \n",
            "Generic , Tier 6: Select Ca...\n",
            "Text Chunk (Page 23): summary of benefitsAnthem MediBlue Dual Advantage (HMO D-SNP)\n",
            "Medical Equipment/Supplies\n",
            "Diabetic supplies and services:\n",
            "Suppliers in our plan:  $0.00 copay\n",
            "Medicare Community Resource Support\n",
            "We assi...\n",
            "Text Chunk (Page 10): summary of benefitsAnthem MediBlue Dual Advantage (HMO D-SNP)\n",
            "How much is my premium (monthly payment)?\n",
            "$0.00 per month\n",
            "Part B premium is covered by your state's Medicaid agency for D-SNP \n",
            "enrollees.\n",
            "...\n",
            "Text Chunk (Page 10): Summary of BenefitsAnthem MediBlue Access Plus \n",
            "(PPO)Anthem MediBlue Access (PPO)\n",
            "Ambulatory Surgical Center1,3\n",
            "Doctors and facilities in our plan: \n",
            "$235.00  copay \n",
            "Doctors and facilities not in our p...\n",
            "Text Chunk (Page 18): Summary of BenefitsAnthem MediBlue Access Plus \n",
            "(PPO)Anthem MediBlue Access (PPO)\n",
            "Physical Therapy1,3\n",
            "Doctors and facilities in our plan: \n",
            "$25.00  copay\n",
            "Doctors and facilities not in our plan: \n",
            "$50.00...\n",
            "Text Chunk (Page 12): Summary of BenefitsAnthem MediBlue Access Plus \n",
            "(PPO)Anthem MediBlue Access (PPO)\n",
            "Emergency Care\n",
            "$90.00  copay\n",
            "Emergency and Urgent Care \n",
            "Worldwide Coverage\n",
            "$90.00  copay\n",
            "This plan covers urgent care ...\n",
            "Text Chunk (Page 22): Summary of BenefitsAnthem MediBlue Access Plus \n",
            "(PPO)Anthem MediBlue Access (PPO)\n",
            "Medical Equipment/Supplies3\n",
            "Diabetic supplies and services:\n",
            "Suppliers in our plan: $0.00  copay\n",
            "Suppliers not in our p...\n",
            "Text Chunk (Page 13): Summary of BenefitsAnthem MediBlue Access Plus \n",
            "(PPO)Anthem MediBlue Access (PPO)\n",
            "Lab Services1,3\n",
            "Doctors and facilities in our plan: $0.00  \n",
            "- $10.00  copay\n",
            "Doctors and facilities not in our plan: \n",
            "3...\n",
            "Text Chunk (Page 9): Summary of BenefitsAnthem Medicare Advantage (HMO)\n",
            "Outpatient Hospital1\n",
            "Doctors and facilities in our plan: $350.00  copay\n",
            "What you will pay may depend on the service and where you are treated.\n",
            "Ambula...\n",
            "Text Chunk (Page 11): Summary of BenefitsAnthem Medicare Advantage (HMO)\n",
            "Emergency Care\n",
            "$90.00  copay\n",
            "Emergency and Urgent Care Worldwide Coverage$90.00  copay\n",
            "This plan covers urgent care and emergency services when trave...\n",
            "Text Chunk (Page 15): Summary of BenefitsAnthem Medicare Advantage (HMO)\n",
            "Mental Health Care\n",
            "Outpatient individual and group therapy services:  1\n",
            "Doctors and facilities in our plan: $40.00  copay\n",
            "Skilled Nursing Facility (S...\n",
            "\n",
            "===== Response Metadata =====\n",
            "Model Name: gpt-4o-2024-08-06\n",
            "Finish Reason: stop\n",
            "Completion Tokens: 1011\n",
            "Prompt Tokens: 1641\n",
            "Total Tokens: 2652\n",
            "\n",
            "===== Usage Metadata =====\n",
            "Input Tokens: 1641\n",
            "Output Tokens: 1011\n",
            "Total Tokens: 2652\n",
            "\n",
            "\n",
            "time: 40.2 s (started: 2024-10-11 16:11:28 +00:00)\n"
          ]
        }
      ]
    },
    {
      "cell_type": "markdown",
      "source": [
        "streamlit / deploy in docker (gcp)/  anushiya to add this to alphaAI (tuesday)\n",
        "Time to return answering\n",
        "caching of Q/a (use exact Q match, SQLite / REDIS)\n",
        "sentence transformer model (embedding)\n",
        "metadata filter\n",
        "main llm (max_tokens + seed)\n",
        "openai : cache token ++++\n",
        "solve llm bind tools for opensource"
      ],
      "metadata": {
        "id": "i14GxhX-4tAY"
      }
    },
    {
      "cell_type": "code",
      "source": [
        "citations = get_citations(subquery_response_pairs)\n",
        "print(\"citations: \",citations)"
      ],
      "metadata": {
        "colab": {
          "base_uri": "https://localhost:8080/"
        },
        "id": "uJnbg4hlN0jQ",
        "outputId": "454febb3-513e-425b-b7b6-75bdaa70d7c5"
      },
      "execution_count": 137,
      "outputs": [
        {
          "output_type": "stream",
          "name": "stdout",
          "text": [
            "citations:  ['Anthem Full Dual Advantage (PPO D-SNP).pdf (Page 15)', 'Anthem MediBlue Dual Advantage (HMO D-SNP) Document.pdf (Page 16)', 'Anthem Medicare Advantage 2 (PPO).pdf (Page 18)', 'Anthem Medicare Advantage (HMO).pdf (Page 14)']\n",
            "time: 2.19 ms (started: 2024-10-11 16:02:30 +00:00)\n"
          ]
        }
      ]
    },
    {
      "cell_type": "code",
      "source": [
        "citations, text_chunks = get_citations_and_text(subquery_response_pairs)\n",
        "print(\"citations: \",citations)\n",
        "print(\"text_chunks: \",text_chunks)"
      ],
      "metadata": {
        "colab": {
          "base_uri": "https://localhost:8080/"
        },
        "id": "4j1wPjgZN_Un",
        "outputId": "a463bbc4-1c0e-4966-a2fa-2c4d799e824d"
      },
      "execution_count": 138,
      "outputs": [
        {
          "output_type": "stream",
          "name": "stdout",
          "text": [
            "citations:  ['Anthem Full Dual Advantage (PPO D-SNP).pdf (Page 15)', 'Anthem MediBlue Dual Advantage (HMO D-SNP) Document.pdf (Page 16)', 'Anthem Medicare Advantage 2 (PPO).pdf (Page 18)', 'Anthem Medicare Advantage (HMO).pdf (Page 14)']\n",
            "text_chunks:  ['Text Chunk (Page 15): Summary of BenefitsAnthem Full Dual Advantage (PPO D-SNP)\\nVision Services\\nEyeglasses or contact lenses after cataract surgery\\nDoctors in our plan: $0.00  copay\\nDoctors not in our plan: $0.00  copay - ...', 'Text Chunk (Page 16): summary of benefitsAnthem MediBlue Dual Advantage (HMO D-SNP)\\nVision Services\\nMedicare-covered vision services:\\nExam to diagnose and treat diseases and conditions of the eye\\nDoctors in our plan:  $0.0...', 'Text Chunk (Page 18): Summary of BenefitsAnthem Medicare Advantage 2 \\n(PPO)Anthem Medicare Advantage \\n(PPO)\\nVision Services3\\nRoutine vision services:\\nRoutine vision exam\\nThis plan covers 1 routine eye \\nexam(s) every year. ...', 'Text Chunk (Page 14): Summary of BenefitsAnthem Medicare Advantage (HMO)\\nVision Services\\nEyeglasses or contact lenses after cataract surgery\\nDoctors in our plan: $0.00  copay\\nRoutine vision services:\\nRoutine vision exam\\nTh...']\n",
            "time: 946 µs (started: 2024-10-11 16:02:30 +00:00)\n"
          ]
        }
      ]
    },
    {
      "cell_type": "code",
      "source": [
        "subqueries_list=[]\n",
        "for idx in range(1, len(subquery_response_pairs) // 2 + 1):  # Dividing by 2 because we have subquery/response pairs\n",
        "        subquery = subquery_response_pairs[f\"subquery_{idx}\"]\n",
        "        subqueries_list.append(subquery)\n",
        "subqueries_list.append(str(step1))\n",
        "\n",
        "print(\"subqueries: \",subqueries_list)"
      ],
      "metadata": {
        "colab": {
          "base_uri": "https://localhost:8080/"
        },
        "id": "6cJ_5JZbOFwp",
        "outputId": "b898c9a4-f86b-474a-b958-56f0c152abf7"
      },
      "execution_count": 139,
      "outputs": [
        {
          "output_type": "stream",
          "name": "stdout",
          "text": [
            "subqueries:  ['what is the copay for routine vision in the Full Dual Advantage plan?', 'The copay for routine vision services in the Anthem MediBlue Access Plus (PPO) plan is $0.00 for doctors in the plan.']\n",
            "time: 1.09 ms (started: 2024-10-11 16:02:30 +00:00)\n"
          ]
        }
      ]
    },
    {
      "cell_type": "markdown",
      "source": [
        "Expansion (not used in this iteration)\n"
      ],
      "metadata": {
        "id": "xeOOq-gCOk6N"
      }
    },
    {
      "cell_type": "code",
      "source": [
        "from langchain.output_parsers import PydanticToolsParser\n",
        "from langchain_core.prompts import ChatPromptTemplate\n",
        "from langchain_openai import ChatOpenAI\n",
        "from langchain_core.pydantic_v1 import BaseModel, Field\n",
        "\n",
        "from langchain_core.pydantic_v1 import BaseModel, Field\n",
        "\n",
        "\n",
        "# Define the ParaphrasedQuery class as per LangChain's documentation\n",
        "class ParaphrasedQuery(BaseModel):\n",
        "    \"\"\"Represents a paraphrased version of the original query.\"\"\"\n",
        "    paraphrased_query: str = Field(..., description=\"A unique paraphrasing of the original question.\")\n",
        "\n",
        "# Function to perform query expansion and return paraphrased queries as JSON\n",
        "def expand_query(original_query: str):\n",
        "    # Define the system message for query expansion\n",
        "    system = \"\"\"You are an AI language model assistant. Your task is to generate 3\n",
        "    different versions of the given user question to retrieve relevant documents from a vector\n",
        "    database. By generating multiple perspectives on the user question, your goal is to help\n",
        "    the user overcome some of the limitations of the distance-based similarity search.\n",
        "    Return at least 3 paraphrased versions of the query.\"\"\"\n",
        "\n",
        "    # Create the prompt template\n",
        "    prompt = ChatPromptTemplate.from_messages(\n",
        "        [\n",
        "            (\"system\", system),\n",
        "            (\"human\", \"{question}\"),\n",
        "        ]\n",
        "    )\n",
        "\n",
        "    # Initialize the language model\n",
        "    llm = ChatOpenAI(model=\"gpt-4o\", temperature=0)\n",
        "\n",
        "    # Bind the ParaphrasedQuery tool and parser\n",
        "    llm_with_tools = llm.bind_tools([ParaphrasedQuery])\n",
        "    parser = PydanticToolsParser(tools=[ParaphrasedQuery])\n",
        "\n",
        "    # Create the query analyzer\n",
        "    query_analyzer = prompt | llm_with_tools | parser\n",
        "\n",
        "    # Run the query analyzer\n",
        "    paraphrased_queries = query_analyzer.invoke({\"question\": original_query})\n",
        "\n",
        "    # Convert the result to JSON format\n",
        "    expanded_queries_json = {\n",
        "        \"original_query\": original_query,\n",
        "        \"paraphrased_queries\": [pq.paraphrased_query for pq in paraphrased_queries]\n",
        "    }\n",
        "\n",
        "    return expanded_queries_json\n",
        "\n",
        "# Example usage\n",
        "# query = \"give all copays for all plans mentioned in the documents provided \"\n",
        "# result = expand_query(query)\n",
        "# print(result)"
      ],
      "metadata": {
        "id": "PBpqSflEaQ4O",
        "colab": {
          "base_uri": "https://localhost:8080/"
        },
        "outputId": "b6125ab9-6148-40fd-96c5-2a129299e739"
      },
      "execution_count": 140,
      "outputs": [
        {
          "output_type": "stream",
          "name": "stdout",
          "text": [
            "time: 4.2 ms (started: 2024-10-11 16:02:30 +00:00)\n"
          ]
        }
      ]
    }
  ],
  "metadata": {
    "kernelspec": {
      "display_name": "llama_parse",
      "language": "python",
      "name": "llama_parse"
    },
    "language_info": {
      "codemirror_mode": {
        "name": "ipython",
        "version": 3
      },
      "file_extension": ".py",
      "mimetype": "text/x-python",
      "name": "python",
      "nbconvert_exporter": "python",
      "pygments_lexer": "ipython3"
    },
    "colab": {
      "provenance": []
    }
  },
  "nbformat": 4,
  "nbformat_minor": 0
}